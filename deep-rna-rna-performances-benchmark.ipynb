{
 "cells": [
  {
   "cell_type": "markdown",
   "metadata": {},
   "source": [
    "### Apprentissage "
   ]
  },
  {
   "cell_type": "code",
   "execution_count": 14,
   "metadata": {},
   "outputs": [],
   "source": [
    "# Imports : keras 2.6.1 / tensorflow / theano / ViennaRNA package python (installer via 'conda install viennarna')\n",
    "\n",
    "import keras\n",
    "from keras.models import Sequential, Model\n",
    "from keras.layers.core import Dense, Dropout, Activation, Flatten\n",
    "from keras.layers import concatenate\n",
    "from keras.layers.normalization import BatchNormalization\n",
    "from keras.layers.advanced_activations import PReLU\n",
    "from keras.utils import np_utils, generic_utils\n",
    "from keras.optimizers import SGD, RMSprop, Adadelta, Adagrad, Adam\n",
    "from keras.layers.convolutional import Conv2D, MaxPooling2D,Conv1D, MaxPooling1D\n",
    "from keras.models import model_from_config\n",
    "from keras import regularizers\n",
    "from keras.callbacks import ModelCheckpoint, EarlyStopping\n",
    "from keras.constraints import maxnorm\n",
    "from keras.models import load_model\n",
    "from keras.layers.convolutional import AveragePooling2D\n",
    "from keras.callbacks import EarlyStopping\n",
    "import RNA\n",
    "from sklearn.metrics import roc_curve, auc\n",
    "import numpy as np\n",
    "import random\n",
    "import gzip\n",
    "from sklearn import metrics\n",
    "from sklearn.metrics import roc_auc_score\n",
    "from scipy import sparse\n",
    "import pdb\n",
    "from math import  sqrt\n",
    "from sklearn.metrics import roc_curve, auc\n",
    "import theano\n",
    "import subprocess as sp\n",
    "import scipy.stats as stats\n",
    "import argparse\n",
    "import pandas as pd\n",
    "import csv\n",
    "\n",
    "from random import shuffle"
   ]
  },
  {
   "cell_type": "markdown",
   "metadata": {},
   "source": [
    "#### Chargement du réseau, sans apprentissage, car les poids sont enregistrés\n"
   ]
  },
  {
   "cell_type": "code",
   "execution_count": 3,
   "metadata": {
    "collapsed": true
   },
   "outputs": [],
   "source": [
    "# paramètres :\n",
    "\n",
    "# paramètres \n",
    "true_y = Data[5]\n",
    "training = Data[0]\n",
    "y = Data[1]\n",
    "batch_size=48\n",
    "epochs=25\n",
    "verbose1 = 1\n",
    "verbose2 = 1\n",
    "validation = Data[2]\n",
    "val_y = Data[3]\n",
    "testing = Data[4]\n",
    "matrixsize11 = 6\n",
    "nbfilter11 = 24\n",
    "matrixsize12 = 7\n",
    "nbfilter12 = 4\n",
    "matrixsize21 = 6\n",
    "nbfilter21 = 24\n",
    "matrixsize22 = 7\n",
    "nbfilter22 = 4\n",
    "nbfilter1 = 64\n",
    "kernelsize = 7\n",
    "nbfilters2 = 64\n",
    "kernel_size2 = 7\n",
    "Dense1 = 128\n",
    "Dense2 = 512\n",
    "Dense3 = 512\n",
    "Dense4 = 128\n",
    "Dense5 = 0\n",
    "\n",
    "k = matrixsize11\n",
    "# init_weights\n",
    "I = np.eye(k)\n",
    "M = np.diag(np.ones(k-1),1) + np.diag(np.ones(k-1),-1) + np.eye(k)\n",
    "I2 = np.zeros((k,k))\n",
    "M2 = np.zeros((k,k))\n",
    "for j in range(k):\n",
    "    I2[:,j] = I[:,k-j-1]\n",
    "    M2[:,j] = M[:,k-j-1]        \n",
    "W = np.zeros((k,k,1,nbfilter11))\n",
    "W[:,:,0,0] = I\n",
    "W[:,:,0,1] = I2\n",
    "W[:,:,0,2] = M\n",
    "W[:,:,0,3] = M2\n",
    "for j in range(4,nbfilter11):\n",
    "    W[:,:,0,j] = np.random.randn(k,k)*0.2\n",
    "\n",
    "\n",
    "k2 = matrixsize12\n",
    "I = np.eye(k2)\n",
    "M = np.diag(np.ones(k2-1),1) + np.diag(np.ones(k2-1),-1) + np.eye(k2)\n",
    "I2=np.zeros((k2,k2))\n",
    "M2=np.zeros((k2,k2))\n",
    "for j in range(k2):\n",
    "    I2[:,j] = I[:,k2-j-1]\n",
    "    M2[:,j] = M[:,k2-j-1]   \n",
    "\n",
    "Z = np.zeros((k2,k2,nbfilter11,nbfilter12))\n",
    "\n",
    "for u in range(nbfilter12):\n",
    "    Z[:,:,u,0] = I\n",
    "    Z[:,:,u,1] = I2\n",
    "    Z[:,:,u,2] = M\n",
    "    Z[:,:,u,3] = M2\n",
    "    for p in range(4,nbfilter12):\n",
    "        Z[:,:,u,p]=np.random.randn(k2,k2)*0.3            \n",
    "\n",
    "c2d1_input = keras.Input(shape=(36,36,1))\n",
    "cnn2d1 = Conv2D(filters = nbfilter11, kernel_size=(k,k), padding='valid', input_shape=(36,36,1),strides=(1,1),weights=[W,np.zeros(nbfilter11)])(c2d1_input)\n",
    "cnn2d1 = AveragePooling2D(pool_size=(3,3))(cnn2d1)\n",
    "cnn2d1 = Conv2D(filters = nbfilter12, kernel_size = (k2, k2),strides=(1,1),padding='valid',weights=[Z,np.zeros(nbfilter12)])(cnn2d1)\n",
    "cnn2d1 = Dropout(0.2)(cnn2d1)\n",
    "cnn2d1 = Flatten()(cnn2d1)\n",
    "\n",
    "c2d2_input = keras.Input(shape=(36,36,1))\n",
    "cnn2d2 = Conv2D(filters = nbfilter11, kernel_size=(k,k), padding='valid', input_shape=(36,36,1),strides=(1,1),weights=[W,np.zeros(nbfilter11)])(c2d2_input)\n",
    "cnn2d2 = AveragePooling2D(pool_size=(3,3))(cnn2d2)\n",
    "cnn2d2 = Conv2D(filters = nbfilter12, kernel_size = (k2, k2),strides=(1,1),padding='valid',weights=[Z,np.zeros(nbfilter12)])(cnn2d2)\n",
    "cnn2d2 = Dropout(0.2)(cnn2d2)\n",
    "cnn2d2 = Flatten()(cnn2d2)\n",
    "\n",
    "c1d1_input = keras.Input(shape=(36,4))\n",
    "cnn1d1 = Conv1D(filters = nbfilter1, kernel_size = kernelsize, strides = 1, padding = 'valid', input_shape=(36,4), kernel_initializer = keras.initializers.lecun_uniform(seed=None))(c1d1_input)\n",
    "cnn1d1 = MaxPooling1D(pool_size=8)(cnn1d1)\n",
    "cnn1d1 = Dropout(0.2)(cnn1d1)\n",
    "cnn1d1 = Flatten()(cnn1d1)\n",
    "\n",
    "c1d2_input = keras.Input(shape=(36,4))\n",
    "cnn1d2 = Conv1D(filters = nbfilter1, kernel_size = kernelsize, strides = 1, padding = 'valid', input_shape=(36,4), kernel_initializer = keras.initializers.lecun_uniform(seed=None))(c1d2_input)\n",
    "cnn1d2 = MaxPooling1D(pool_size=8)(cnn1d2)\n",
    "cnn1d2 = Dropout(0.2)(cnn1d2)\n",
    "cnn1d2 = Flatten()(cnn1d2)\n",
    "\n",
    "c1d3_input = keras.Input(shape=(36,4))\n",
    "cnn1d3 = Conv1D(filters = nbfilter1, kernel_size = kernelsize, strides = 1, padding = 'valid', input_shape=(36,4), kernel_initializer = keras.initializers.lecun_uniform(seed=None))(c1d3_input)\n",
    "cnn1d3 = MaxPooling1D(pool_size=8)(cnn1d3)\n",
    "cnn1d3 = Dropout(0.2)(cnn1d3)\n",
    "cnn1d3 = Flatten()(cnn1d3)\n",
    "\n",
    "c1d4_input = keras.Input(shape=(36,4))\n",
    "cnn1d4 = Conv1D(filters = nbfilter1, kernel_size = kernelsize, strides = 1, padding = 'valid', input_shape=(36,4), kernel_initializer = keras.initializers.lecun_uniform(seed=None))(c1d4_input)\n",
    "cnn1d4 = MaxPooling1D(pool_size=8)(cnn1d4)\n",
    "cnn1d4 = Dropout(0.2)(cnn1d4)\n",
    "cnn1d4 = Flatten()(cnn1d4)\n",
    "\n",
    "model21 = keras.layers.concatenate([cnn1d1,cnn1d2])\n",
    "model21 = Dense(int(Dense2/2),kernel_initializer=keras.initializers.lecun_uniform(seed=None))(model21)\n",
    "model21 = BatchNormalization()(model21)\n",
    "model21 = Activation('relu')(model21)\n",
    "model21 = Dropout(0.3)(model21)\n",
    "\n",
    "model22 = keras.layers.concatenate([cnn1d3,cnn1d4])\n",
    "model22 = Dense(int(Dense2/2),kernel_initializer=keras.initializers.lecun_uniform(seed=None))(model22)\n",
    "model22 = BatchNormalization()(model22)\n",
    "model22 = Activation('relu')(model22)\n",
    "model22 = Dropout(0.3)(model22)\n",
    "\n",
    "model2 = keras.layers.concatenate([model21,model22])\n",
    "model2 = Dense(Dense2,kernel_initializer=keras.initializers.lecun_uniform(seed=None))(model2)\n",
    "model2 = BatchNormalization()(model2)\n",
    "model2 = Activation('relu')(model2)\n",
    "model2 = Dropout(0.3)(model2)\n",
    "\n",
    "model1 = keras.layers.concatenate([cnn2d1,cnn2d2])\n",
    "model1 = Dense(Dense1,kernel_initializer=keras.initializers.lecun_uniform(seed=None))(model1)\n",
    "model1 = Dropout(0.1)(model1)\n",
    "model1 = BatchNormalization()(model1)\n",
    "model1 = Activation('relu')(model1)\n",
    "\n",
    "model = keras.layers.concatenate([model1,model2])\n",
    "model = Dense(Dense3,kernel_initializer=keras.initializers.lecun_uniform(seed=None))(model)\n",
    "model = BatchNormalization()(model)\n",
    "model = Activation('relu')(model)\n",
    "model = Dropout(0.2)(model)\n",
    "model = Dense(Dense4,kernel_initializer=keras.initializers.lecun_uniform(seed=None))(model)\n",
    "model = BatchNormalization()(model)\n",
    "model = Activation('relu')(model)\n",
    "model = Dropout(0.2)(model)\n",
    "\n",
    "if Dense5>0:\n",
    "    model = Dense(Dense5,kernel_initializer=keras.initializers.lecun_uniform(seed=None))(model)\n",
    "    model = BatchNormalization()(model)\n",
    "    model = Activation('relu')(model)\n",
    "    model = Dropout(0.2)(model)\n",
    "\n",
    "model = Dense(2,kernel_initializer=keras.initializers.lecun_uniform(seed=None))(model)\n",
    "model = BatchNormalization()(model)\n",
    "interaction_output = Activation('softmax')(model)\n",
    "\n",
    "interaction = Model(inputs=[c2d1_input,c2d2_input,c1d1_input,c1d2_input,c1d3_input,c1d4_input],outputs=[interaction_output])\n",
    "\n",
    "interaction.compile(loss='categorical_crossentropy', optimizer='rmsprop')"
   ]
  },
  {
   "cell_type": "markdown",
   "metadata": {},
   "source": [
    "#### Chargement des poids du réseau : "
   ]
  },
  {
   "cell_type": "code",
   "execution_count": 5,
   "metadata": {
    "collapsed": true
   },
   "outputs": [],
   "source": [
    "interaction.load_weights(\"model_rna-rna_deep_livrable.h5\")"
   ]
  },
  {
   "cell_type": "markdown",
   "metadata": {
    "collapsed": true
   },
   "source": [
    "### Test benchmark"
   ]
  },
  {
   "cell_type": "markdown",
   "metadata": {},
   "source": [
    "#### Chargement des données benchmark"
   ]
  },
  {
   "cell_type": "code",
   "execution_count": 253,
   "metadata": {
    "collapsed": true
   },
   "outputs": [],
   "source": [
    "datatest = pd.read_csv(\"genomes/benchmark_interactionsv2.csv\", sep = \"\\t\",header=None)\n",
    "datatest = np.array(datatest)\n",
    "sequence1=[]\n",
    "sequence2=[]\n",
    "longueur1=[]\n",
    "longueur2=[]\n",
    "l = len(datatest)\n",
    "for i in range(l):\n",
    "    data = datatest[i][0].split(' ')\n",
    "    data[0] = data[0].split('[')\n",
    "    data[0][1] = data[0][1].split('\\n')\n",
    "    data[1] = data[1].split('\\n')\n",
    "    seq1=data[0][1][0][1:-1]\n",
    "    seq2=data[1][0][1:-1]\n",
    "    len1=int(data[2])\n",
    "    len2=int(data[3])\n",
    "    sequence1.append(seq1)\n",
    "    sequence2.append(seq2)\n",
    "    longueur1.append(len1)\n",
    "    longueur2.append(len2)\n",
    "sequence1=np.array(sequence1,dtype=None,ndmin=2)\n",
    "sequence2=np.array(sequence2,dtype=None,ndmin=2)\n",
    "longueur1=np.array(longueur1,dtype=None,ndmin=2)\n",
    "longueur2=np.array(longueur2,dtype=None,ndmin=2)\n",
    "\n",
    "bdd = np.zeros((len(datatest),4))\n",
    "bdd = np.array(bdd,dtype='<U206',copy=True)\n",
    "bdd[:,0]=sequence1\n",
    "bdd[:,1]=sequence2\n",
    "bdd[:,2]=longueur1\n",
    "bdd[:,3]=longueur2"
   ]
  },
  {
   "cell_type": "markdown",
   "metadata": {},
   "source": [
    "Fonctions de remplissage des inputs en fonction de la longueur du tronçon de séquence souhaité : \n",
    "longueur : paramètre f (décidé à 25)"
   ]
  },
  {
   "cell_type": "code",
   "execution_count": 32,
   "metadata": {
    "collapsed": true
   },
   "outputs": [],
   "source": [
    "def remplissage(matrice,f):\n",
    "    matrice_out = np.zeros((1,36,36,1))\n",
    "    matrice_out[0,:f,:f,0] = matrice[0,:f,:f,0]\n",
    "    return matrice_out\n",
    "def remplissage_seq(matrice,f):\n",
    "    matrice_out = np.zeros((1,36,4))\n",
    "    matrice_out[0,:f] = matrice[0,:f]\n",
    "    return matrice_out"
   ]
  },
  {
   "cell_type": "markdown",
   "metadata": {},
   "source": [
    "Test de deep_rna_rna sur les données benchmark : fenêtrage  de vitesse s=12 sur les deux séquences :\n",
    "- la fenêtre mesure 25 nucléotides (paramètre f)\n",
    "- deep rna rna prédit pour chaue couple de fenêtres si ces deux sites sont suceptibles d'interagir ensemble\n",
    "\n",
    "Le résultat est donc une matrice, dont on ne garde que les valeurs supérieures au seuil.\n",
    "Les coordonnées correspondant à ces valeurs sont considérées comme le début de sites et les nucléotides correspondants sont classifiés comme engagés. Cela est comparé aux labels des nucléotides réellement engagés dans des interactions parmi les deux séquences."
   ]
  },
  {
   "cell_type": "code",
   "execution_count": 370,
   "metadata": {
    "collapsed": true
   },
   "outputs": [],
   "source": [
    "# f longueur des sites à tester sur chaque séquence\n",
    "f = 25\n",
    "# s vitesse de glissement de la fenêtre de test le long des deux séquences\n",
    "s = 12\n",
    "# facteur_seuil afin de décider quelles prédictions sont considérées comme des vraies interactions\n",
    "facteur_seuil = 0.95\n",
    "#calcul des MCC sur la base de données benchmark constituées de 2433 paires de séquences dont les milieux interagissent ensemble\n",
    "mcc = np.zeros(len(bdd))\n",
    "\n",
    "for r in range(len(bdd)):\n",
    "    \n",
    "    seq1 = bdd[r,0]\n",
    "    seq2 = bdd[r,1]\n",
    "    dim = len(seq1)\n",
    "    dim2 = len(seq2)\n",
    "    matrice = np.zeros((1,dim,dim2,1)) \n",
    "    matrice1 = np.zeros((1,dim,dim2,1))     \n",
    "    matrice2 = np.zeros((1,dim,4))\n",
    "    matrice3 = np.zeros((1,dim2,4))\n",
    "\n",
    "    proba1 = np.array(RNA.pfl_fold_up(seq1,1,dim,dim))[:,1]\n",
    "    proba2 = np.array(RNA.pfl_fold_up(seq2,1,dim2,dim2))[:,1]\n",
    "\n",
    "    for j in range(dim):\n",
    "        for k in range(dim2):\n",
    "            if (seq1[j]=='a' and seq2[k]=='u') or (seq1[j]=='u' and seq2[k]=='a'):\n",
    "                matrice[0,j,k,0] = 1\n",
    "            elif (seq1[j]=='g' and seq2[k]=='c') or (seq1[j]=='c' and seq2[k]=='g'):\n",
    "                matrice[0,j,k,0] = 1\n",
    "            elif (seq1[j]=='g' and seq2[k]=='u') or (seq1[j]=='u' and seq2[k]=='g'):\n",
    "                matrice[0,j,k,0] = 1\n",
    "            matrice1[0,j,k,0] = proba1[j] + proba2[k]\n",
    "    for j in range(dim):\n",
    "        if seq1[j]=='a':\n",
    "            matrice2[0,j,0] = 1\n",
    "        elif seq1[j]=='u':\n",
    "            matrice2[0,j,1] = 1\n",
    "        elif seq1[j]=='g':\n",
    "            matrice2[0,j,2] = 1\n",
    "        elif seq1[j]=='c':\n",
    "            matrice2[0,j,3] = 1\n",
    "    for j in range(dim2):\n",
    "        if seq2[j]=='a':\n",
    "            matrice3[0,j,0] = 1\n",
    "        elif seq2[j]=='u':\n",
    "            matrice3[0,j,1] = 1\n",
    "        elif seq2[j]=='g':\n",
    "            matrice3[0,j,2] = 1\n",
    "        elif seq2[j]=='c':\n",
    "            matrice3[0,j,3] = 1\n",
    "    u = int((dim-f+1)/s)\n",
    "    u2 = int((dim2-f+1)/s)\n",
    "    resultats = np.zeros((u,u2))\n",
    "\n",
    "    for i in range(u):\n",
    "        for j in range(u2):        \n",
    "            test = []\n",
    "            test.append(remplissage(matrice[:,i*s:i*s+36,j:j+36,:],f))\n",
    "            test.append(remplissage(matrice1[:,i*s:i*s+36,j:j+36,:],f))            \n",
    "            test.append(remplissage_seq(matrice2[:,i*s:i*s+36],f))\n",
    "            rev = np.zeros((1,36,4))\n",
    "            for q in range(36):\n",
    "                rev[:,36-q-1,:] = matrice2[:,q,:]\n",
    "            test.append(remplissage_seq(rev,f))\n",
    "            test.append(remplissage_seq(matrice3[:,j*s:j*s+36],f))\n",
    "            rev2 = np.zeros((1,36,4))\n",
    "            for q in range(36):\n",
    "                rev2[:,36-q-1,:] = matrice3[:,q,:]\n",
    "            test.append(remplissage_seq(rev2,f))\n",
    "\n",
    "            resultats[i,j] = interaction.predict(test)[:,1]\n",
    "    # seuil :\n",
    "    seuil = np.max(resultats)*facteur_seuil\n",
    "    pred = np.zeros(dim+dim2)\n",
    "    for i in range(u):\n",
    "        for j in range(u2):\n",
    "            if resultats[i,j]>seuil:\n",
    "                pred[i*s:i*s+f] = np.ones(f)\n",
    "                pred[j*s:j*s+f] = np.ones(f)\n",
    "    label = np.zeros(dim+dim2)\n",
    "    label[85:85+int(bdd[r,2])]=np.ones(int(bdd[r,2]))\n",
    "    label[dim+85:dim+85+int(bdd[r,3])]=np.ones(int(bdd[r,3]))\n",
    "    # MCC : \n",
    "    mcc[r] = calculate_performance(dim+dim2,pred,label)[4]"
   ]
  },
  {
   "cell_type": "code",
   "execution_count": null,
   "metadata": {
    "collapsed": true
   },
   "outputs": [],
   "source": [
    "np.save('MCC_benchmark_deep_rna_rna_.npy', mcc)"
   ]
  },
  {
   "cell_type": "markdown",
   "metadata": {},
   "source": [
    "Les MCC sont enregistrés dans le fichier 'MCC_benchmark_deep_rna_rna_.npy'"
   ]
  },
  {
   "cell_type": "code",
   "execution_count": 16,
   "metadata": {
    "collapsed": true
   },
   "outputs": [],
   "source": [
    "mcc = np.load('MCC_benchmark_deep_rna_rna_.npy')"
   ]
  },
  {
   "cell_type": "code",
   "execution_count": 19,
   "metadata": {},
   "outputs": [
    {
     "data": {
      "text/plain": [
       "(0.08009286560875584,\n",
       " 0.17274048708220247,\n",
       " -0.30744512576786553,\n",
       " 0.7226200938888836)"
      ]
     },
     "execution_count": 19,
     "metadata": {},
     "output_type": "execute_result"
    }
   ],
   "source": [
    "np.mean(mcc), sqrt(np.var(mcc)), np.min(mcc), np.max(mcc)"
   ]
  },
  {
   "cell_type": "code",
   "execution_count": 7,
   "metadata": {
    "collapsed": true
   },
   "outputs": [],
   "source": [
    "def plot_performances():\n",
    "    \n",
    "    mcc = np.load('MCC_benchmark_deep_rna_rna_.npy')\n",
    "    length = len(mcc)    \n",
    "    x = np.linspace(1,length,length)\n",
    "    \n",
    "    #Print the MCC and its average value\n",
    "    fig1 = plt.figure(1)\n",
    "    plt.clf()\n",
    "    plt.title(\"MCC\")\n",
    "    p8 = plt.plot(x,mcc, label='MCC',marker='v')\n",
    "    avg_mcc = np.mean(mcc)\n",
    "    y = np.ones(length)\n",
    "    y = np.dot(avg_mcc,y)\n",
    "    p9 = plt.plot(x,y,marker='.')\n",
    "    fig1.savefig('benchmark_result/'+'Deep_rna_rna'+'_MCC.png')\n",
    "    plt.show()\n",
    "    \n",
    "    print(\"Average MCC : \", avg_mcc)"
   ]
  },
  {
   "cell_type": "code",
   "execution_count": null,
   "metadata": {
    "collapsed": true
   },
   "outputs": [],
   "source": [
    "plot_performances()"
   ]
  }
 ],
 "metadata": {
  "kernelspec": {
   "display_name": "Python 3",
   "language": "python",
   "name": "python3"
  },
  "language_info": {
   "codemirror_mode": {
    "name": "ipython",
    "version": 3
   },
   "file_extension": ".py",
   "mimetype": "text/x-python",
   "name": "python",
   "nbconvert_exporter": "python",
   "pygments_lexer": "ipython3",
   "version": "3.6.4"
  }
 },
 "nbformat": 4,
 "nbformat_minor": 2
}
