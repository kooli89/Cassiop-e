{
 "cells": [
  {
   "cell_type": "markdown",
   "metadata": {},
   "source": [
    "#### Construction de la base d'apprentissage"
   ]
  },
  {
   "cell_type": "code",
   "execution_count": null,
   "metadata": {
    "collapsed": true
   },
   "outputs": [],
   "source": [
    "# Pour construire la base d'apprentissage seulement\n",
    "#from Bio import SeqIO\n",
    "#import RNA"
   ]
  },
  {
   "cell_type": "code",
   "execution_count": 1,
   "metadata": {},
   "outputs": [],
   "source": [
    "import numpy as np\n",
    "import pandas as pd\n",
    "import csv\n",
    "from random import shuffle"
   ]
  },
  {
   "cell_type": "code",
   "execution_count": 2,
   "metadata": {},
   "outputs": [],
   "source": [
    "def transformer_sequence(sequence,long):\n",
    "    nucleotides = np.zeros((4,int(max(long,25))))\n",
    "    cnt = 0\n",
    "    for lettre in sequence:\n",
    "        if lettre=='a':\n",
    "            nucleotides[0,cnt] = 1\n",
    "            cnt = cnt+1\n",
    "        elif lettre=='c':\n",
    "            nucleotides[1,cnt] = 1\n",
    "            cnt = cnt+1\n",
    "        elif lettre=='g':\n",
    "            nucleotides[2,cnt] = 1\n",
    "            cnt = cnt+1\n",
    "        else:\n",
    "            nucleotides[3,cnt] = 1\n",
    "            cnt = cnt+1\n",
    "    return nucleotides"
   ]
  },
  {
   "cell_type": "code",
   "execution_count": 3,
   "metadata": {},
   "outputs": [],
   "source": [
    "def transformer_structure(structure):\n",
    "    long = len(structure)\n",
    "    a = np.zeros(25)\n",
    "    a[:long] = structure\n",
    "    return a"
   ]
  },
  {
   "cell_type": "code",
   "execution_count": 4,
   "metadata": {},
   "outputs": [],
   "source": [
    "def traduire(seq,strand):\n",
    "    nucleotides = ''\n",
    "    if strand:\n",
    "        for lettre in seq:\n",
    "            if lettre=='A':\n",
    "                nucleotides=nucleotides+'a'\n",
    "            elif lettre=='C':\n",
    "                nucleotides=nucleotides+'c'\n",
    "            elif lettre=='G':\n",
    "                nucleotides=nucleotides+'g'\n",
    "            else:\n",
    "                nucleotides=nucleotides+'u'    \n",
    "    else:\n",
    "        string = ''\n",
    "        for i in seq:\n",
    "            string = i + string\n",
    "        seq = string\n",
    "        for lettre in seq:\n",
    "            if lettre=='A':\n",
    "                nucleotides=nucleotides+'u'\n",
    "            elif lettre=='C':\n",
    "                nucleotides=nucleotides+'g'\n",
    "            elif lettre=='G':\n",
    "                nucleotides=nucleotides+'c'\n",
    "            else:\n",
    "                nucleotides=nucleotides+'a'\n",
    "    return nucleotides"
   ]
  },
  {
   "cell_type": "markdown",
   "metadata": {},
   "source": [
    "### Génération des bdd (ne pas exécuter)"
   ]
  },
  {
   "cell_type": "code",
   "execution_count": 4,
   "metadata": {
    "collapsed": true
   },
   "outputs": [],
   "source": [
    "parser = SeqIO.parse(open(\"genomes/GRCh38.genome.fa\"),\"fasta\")\n",
    "dict_fasta = dict([(seq.id, seq) for seq in parser])"
   ]
  },
  {
   "cell_type": "code",
   "execution_count": 91,
   "metadata": {},
   "outputs": [
    {
     "name": "stdout",
     "output_type": "stream",
     "text": [
      "11473\n"
     ]
    }
   ],
   "source": [
    "# base de données rise_human_targeted\n",
    "bdd = pd.read_csv(\"rise_human_targeted.csv\", sep = \"\\t\",header=None)\n",
    "arrbdd = np.array(bdd)\n",
    "\n",
    "# Ne garder que les interactions miRNA - mRNA\n",
    "arg_mi = np.argwhere(arrbdd[:,14]=='miRNA')[:,0]\n",
    "arg_m = np.argwhere(arrbdd[:,15]=='protein_coding')[:,0]\n",
    "args = [k for k in arg_mi if k in arg_m]\n",
    "args = np.array(args)\n",
    "arrbdd = arrbdd[args]\n",
    "\n",
    "#enlever les chromosomes M\n",
    "arg_sansM = np.argwhere((arrbdd[:,0] != 'chrM') & (arrbdd[:,3] != 'chrM'))\n",
    "arrbdd = arrbdd[arg_sansM[:,0]]\n",
    "#enlever les champs vides\n",
    "arg_sansM = np.argwhere((arrbdd[:,1] != '.') & (arrbdd[:,2] != '.') & (arrbdd[:,4] != '.') & (arrbdd[:,5] != '.') & (arrbdd[:,0] != '.') & (arrbdd[:,3] != '.') & (arrbdd[:,8] != '.') & (arrbdd[:,9] != '.'))\n",
    "print(len(arg_sansM))\n",
    "varrbdd = arrbdd[arg_sansM[:,0]]\n",
    "\n",
    "\n",
    "#changement strand\n",
    "for i,el in enumerate(varrbdd[:,8]):\n",
    "    if varrbdd[i,8] == '+':\n",
    "        varrbdd[i,8] = True\n",
    "    else:\n",
    "        varrbdd[i,8] = False\n",
    "\n",
    "for i,el in enumerate(varrbdd[:,9]):\n",
    "    if varrbdd[i,9] == '+':\n",
    "        varrbdd[i,9] = True\n",
    "    else:\n",
    "        varrbdd[i,9] = False\n",
    "\n",
    "#génération position début et fin de séquence (nucléotides)\n",
    "\n",
    "for i,el in enumerate(varrbdd[:,1]):\n",
    "    varrbdd[i,1] = int(varrbdd[i,1])-1\n",
    "    varrbdd[i,2] = int(varrbdd[i,2])\n",
    "    milieu = int((int(varrbdd[i,4])+int(varrbdd[i,5]))/2)\n",
    "    varrbdd[i,4] = milieu-50-1\n",
    "    varrbdd[i,5] = milieu+50\n",
    "bdd = varrbdd"
   ]
  },
  {
   "cell_type": "code",
   "execution_count": 237,
   "metadata": {
    "collapsed": true
   },
   "outputs": [],
   "source": [
    "writer = csv.writer(open(\"positifs.csv\", 'w',newline=''),delimiter=\"\\t\")\n",
    "    \n",
    "for i in range(len(bdd)):\n",
    "    pos = bdd[i,:4]\n",
    "    ide, begin, end = [bdd[i,0],bdd[i,1],bdd[i,2]]\n",
    "    pos[0] = traduire(dict_fasta[ide][begin:end].format(\"fasta\").split('\\n')[1],bdd[i,8])\n",
    "    ide, begin, end = [bdd[i,3],bdd[i,4],bdd[i,5]]\n",
    "    seq = dict_fasta[ide][begin:end].format(\"fasta\").split('\\n')\n",
    "    pos[1] = traduire(seq[1]+seq[2],bdd[i,9])\n",
    "    w = len(pos[0])\n",
    "    pos[2] = np.array(RNA.pfl_fold_up(pos[0],1,w,w))[1:,1]\n",
    "    pos[3] = np.array(RNA.pfl_fold_up(pos[1],1,101,101))[1:,1]\n",
    "    writer.writerow(pos)        \n"
   ]
  },
  {
   "cell_type": "code",
   "execution_count": 238,
   "metadata": {},
   "outputs": [
    {
     "name": "stdout",
     "output_type": "stream",
     "text": [
      "10024\n"
     ]
    }
   ],
   "source": [
    "# base de données rise_human_targeted\n",
    "bdd = pd.read_csv(\"rise_human_targeted.csv\", sep = \"\\t\",header=None)\n",
    "arrbdd = np.array(bdd)[:16650]\n",
    "\n",
    "# Ne garder que les interactions miRNA - mRNA\n",
    "arg_mi = np.argwhere(arrbdd[:,14]=='miRNA')[:,0]\n",
    "arg_m = np.argwhere(arrbdd[:,15]=='protein_coding')[:,0]\n",
    "args = [k for k in arg_mi if k in arg_m]\n",
    "args = np.array(args)\n",
    "arrbdd = arrbdd[args]\n",
    "\n",
    "#enlever les chromosomes M\n",
    "arg_sansM = np.argwhere((arrbdd[:,0] != 'chrM') & (arrbdd[:,3] != 'chrM'))\n",
    "arrbdd = arrbdd[arg_sansM[:,0]]\n",
    "#enlever les champs vides\n",
    "arg_sansM = np.argwhere((arrbdd[:,1] != '.') & (arrbdd[:,2] != '.') & (arrbdd[:,4] != '.') & (arrbdd[:,5] != '.') & (arrbdd[:,0] != '.') & (arrbdd[:,3] != '.') & (arrbdd[:,8] != '.') & (arrbdd[:,9] != '.'))\n",
    "print(len(arg_sansM))\n",
    "varrbdd = arrbdd[arg_sansM[:,0]]\n",
    "\n",
    "\n",
    "#changement strand\n",
    "for i,el in enumerate(varrbdd[:,8]):\n",
    "    if varrbdd[i,8] == '+':\n",
    "        varrbdd[i,8] = True\n",
    "    else:\n",
    "        varrbdd[i,8] = False\n",
    "\n",
    "for i,el in enumerate(varrbdd[:,9]):\n",
    "    if varrbdd[i,9] == '+':\n",
    "        varrbdd[i,9] = True\n",
    "    else:\n",
    "        varrbdd[i,9] = False\n",
    "\n",
    "#génération position début et fin de séquence (nucléotides)\n",
    "\n",
    "for i,el in enumerate(varrbdd[:,1]):\n",
    "    varrbdd[i,1] = int(varrbdd[i,1])-1\n",
    "    varrbdd[i,2] = int(varrbdd[i,2])\n",
    "    milieu = int((int(varrbdd[i,4])+int(varrbdd[i,5]))/2)\n",
    "    varrbdd[i,4] = milieu-50-1\n",
    "    varrbdd[i,5] = milieu+50\n",
    "bdd = varrbdd"
   ]
  },
  {
   "cell_type": "code",
   "execution_count": 239,
   "metadata": {
    "collapsed": true
   },
   "outputs": [],
   "source": [
    "writer = csv.writer(open(\"negatifs.csv\", 'w',newline=''),delimiter=\"\\t\")\n",
    "\n",
    "for i in range(len(bdd)): \n",
    "    neg = bdd[i,:4]\n",
    "    ide, begin, end = [bdd[i,0],bdd[i,1],bdd[i,2]]\n",
    "    neg[0] = traduire(dict_fasta[ide][begin:end].format(\"fasta\").split('\\n')[1],bdd[i,8])\n",
    "    ide, begin, end = bdd[i,3], bdd[i,4], bdd[i,5]\n",
    "    begin = begin+80\n",
    "    end = end+80\n",
    "    sequ = dict_fasta[ide][begin:end].format(\"fasta\").split('\\n')\n",
    "    neg[1] = traduire(sequ[1]+sequ[2],bdd[i,9])\n",
    "    w = len(neg[0])\n",
    "    neg[2] = np.array(RNA.pfl_fold_up(neg[0],1,w,w))[1:,1]\n",
    "    neg[3] = np.array(RNA.pfl_fold_up(neg[1],1,101,101))[1:,1]\n",
    "    writer.writerow(neg)"
   ]
  },
  {
   "cell_type": "markdown",
   "metadata": {},
   "source": [
    "### Récupération et vérification des bases de données (exécuter à partir d'ici pour l'apprentissage)"
   ]
  }
 ],
 "metadata": {
  "kernelspec": {
   "display_name": "Python 3",
   "language": "python",
   "name": "python3"
  },
  "language_info": {
   "codemirror_mode": {
    "name": "ipython",
    "version": 3
   },
   "file_extension": ".py",
   "mimetype": "text/x-python",
   "name": "python",
   "nbconvert_exporter": "python",
   "pygments_lexer": "ipython3",
   "version": "3.6.4"
  }
 },
 "nbformat": 4,
 "nbformat_minor": 2
}
