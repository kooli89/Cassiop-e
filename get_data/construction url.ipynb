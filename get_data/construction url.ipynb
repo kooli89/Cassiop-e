{
 "cells": [
  {
   "cell_type": "markdown",
   "metadata": {},
   "source": [
    "#### Génération des URL de récupération des séquences et récupération par scrapping"
   ]
  },
  {
   "cell_type": "code",
   "execution_count": 2,
   "metadata": {
    "collapsed": true
   },
   "outputs": [],
   "source": [
    "import numpy as np\n",
    "import pandas as pd"
   ]
  },
  {
   "cell_type": "code",
   "execution_count": 3,
   "metadata": {
    "scrolled": false
   },
   "outputs": [
    {
     "name": "stderr",
     "output_type": "stream",
     "text": [
      "/home/kooli/anaconda2/envs/py36/lib/python3.6/site-packages/IPython/core/interactiveshell.py:2717: DtypeWarning: Columns (1,2,4,5) have mixed types. Specify dtype option on import or set low_memory=False.\n",
      "  interactivity=interactivity, compiler=compiler, result=result)\n"
     ]
    }
   ],
   "source": [
    "bdd = pd.read_csv(\"rise_human_transcriptome.txt\", sep = \"\\t\")"
   ]
  },
  {
   "cell_type": "code",
   "execution_count": 4,
   "metadata": {
    "collapsed": true
   },
   "outputs": [],
   "source": [
    "\n",
    "# bdd convertie panda -> numpy array et seuls les 70 000 premiers RRIs retenus\n",
    "arrbdd = np.array(bdd)[:70000]\n",
    "arrbdd\n",
    "\n",
    "#enlever 'chr' et formater les numéros de chromosomes\n",
    "    \n",
    "for i,el in enumerate(arrbdd[:,3]):\n",
    "    arrbdd[i,0] = arrbdd[i,0][3:]\n",
    "    if arrbdd[i,0] == 'X':\n",
    "        arrbdd[i,0] = '23'\n",
    "    elif arrbdd[i,0] == 'Y':\n",
    "        arrbdd[i,0] = '24'  \n",
    "    elif(arrbdd[i,0] == 'M'):\n",
    "        continue\n",
    "    elif int(arrbdd[i,0])<10:\n",
    "        arrbdd[i,0] = '0' + arrbdd[i,0]\n",
    "   \n",
    "for i,el in enumerate(arrbdd[:,3]):\n",
    "    arrbdd[i,3] = arrbdd[i,3][3:]\n",
    "    if arrbdd[i,3] == 'X':\n",
    "        arrbdd[i,3] = '23'\n",
    "    elif arrbdd[i,3] == 'Y':\n",
    "        arrbdd[i,3] = '24'  \n",
    "    elif(arrbdd[i,3] == 'M'):\n",
    "        continue\n",
    "    elif int(arrbdd[i,3])<10:\n",
    "        arrbdd[i,3] = '0' + arrbdd[i,3]\n",
    "        \n",
    "\n",
    "#enlever les chromosomes M\n",
    "arg_sansM = np.argwhere((arrbdd[:,0] != 'M') & (arrbdd[:,3] != 'M'))\n",
    "varrbdd = arrbdd[arg_sansM[:,0]]\n",
    "\n",
    "length_varrbdd = varrbdd.shape[0]\n",
    "\n",
    "\n",
    "#changement strand\n",
    "for i in range(length_varrbdd) :\n",
    "    if varrbdd[i,8] == '+':\n",
    "        varrbdd[i,8] = 'true'\n",
    "    elif varrbdd[i,8] == '-':\n",
    "        varrbdd[i,8] = 'false'\n",
    "    if varrbdd[i,9] == '+':\n",
    "        varrbdd[i,9] = 'true'\n",
    "    elif varrbdd[i,9] == '-':\n",
    "        varrbdd[i,9] = 'false'\n",
    "\n",
    "\n",
    "for i in range(length_varrbdd):\n",
    "    varrbdd[i,1] = str(varrbdd[i,1])\n",
    "    varrbdd[i,2] = str(varrbdd[i,2])\n",
    "    varrbdd[i,4] = str(varrbdd[i,4])\n",
    "    varrbdd[i,5] = str(varrbdd[i,5])\n",
    "\n",
    "\n",
    "\n",
    "\n",
    "\n",
    "#génération position début et fin de séquence (nucléotides)\n",
    "for i in range(length_varrbdd):\n",
    "    milieu = int((int(varrbdd[i,1])+int(varrbdd[i,2]))/2)\n",
    "    varrbdd[i,1] = str(milieu-100)\n",
    "    varrbdd[i,2] = str(milieu+100)\n",
    "    milieu = int((int(varrbdd[i,4])+int(varrbdd[i,5]))/2)\n",
    "    varrbdd[i,4] = str(milieu-100)\n",
    "    varrbdd[i,5] = str(milieu+100)\n",
    "\n",
    "#génération URLs\n",
    "for i in range(length_varrbdd):\n",
    "    varrbdd[i,6] = \"https://www.ncbi.nlm.nih.gov/nuccore/NC_0000\"+varrbdd[i,0]+\"?report=genbank&from=\"+varrbdd[i,1]+\"&to=\"+varrbdd[i,2]+\"&strand=\"+varrbdd[i,8]+\".html\"\n",
    "\n",
    "for i,el in enumerate(varrbdd[:,7]):\n",
    "    varrbdd[i,7] = \"https://www.ncbi.nlm.nih.gov/nuccore/NC_0000\"+varrbdd[i,3]+\"?report=genbank&from=\"+varrbdd[i,4]+\"&to=\"+varrbdd[i,5]+\"&strand=\"+varrbdd[i,9]+\".html\"\n",
    "        \n",
    "\n",
    "\n",
    "\n",
    "\n"
   ]
  },
  {
   "cell_type": "code",
   "execution_count": 5,
   "metadata": {
    "collapsed": true
   },
   "outputs": [],
   "source": [
    "from bs4 import BeautifulSoup\n",
    "from selenium import webdriver\n",
    "import time\n",
    "browser = webdriver.Firefox()"
   ]
  },
  {
   "cell_type": "code",
   "execution_count": 6,
   "metadata": {
    "collapsed": true
   },
   "outputs": [],
   "source": [
    "#for i,el in enumerate(varrbdd[:,18]):\n",
    "    #url = varrbdd[i,6]\n",
    "    #browser.get(url)\n",
    "    #time.sleep(5)\n",
    "    #innerHTML = browser.execute_script(\"return document.body.innerHTML\")\n",
    "    #soup = BeautifulSoup(innerHTML,\"lxml\")\n",
    "    #seq = soup.find_all(\"span\",{'class':\"ff_line\"})\n",
    "    #varrbdd[i,18] = seq[0].text+seq[1].text+seq[2].text+seq[3].text"
   ]
  },
  {
   "cell_type": "code",
   "execution_count": 7,
   "metadata": {
    "scrolled": true
   },
   "outputs": [
    {
     "data": {
      "text/plain": [
       "'aaagagcagg gacccgataa gaagccattt ttcaaatgga aggccgtact gattttctggaacactgccc tgggaggaac tgcctggact ggcctcccta ccttcccagg aagcagttttattcatagtg gaagactcca catttgacat agaaagtgca gtagggttat acacattccctgtgttcaaa gttaggttgg a'"
      ]
     },
     "execution_count": 7,
     "metadata": {},
     "output_type": "execute_result"
    }
   ],
   "source": [
    "url = varrbdd[100,7]\n",
    "browser.get(url)\n",
    "time.sleep(8)\n",
    "innerHTML = browser.execute_script(\"return document.body.innerHTML\")\n",
    "soup = BeautifulSoup(innerHTML,\"lxml\")\n",
    "seq = soup.find_all(\"span\",{'class':\"ff_line\"})\n",
    "#seq = soup.find_all(\"div\",{'class':\"seq gbff\"}) doesn't work for me \n",
    "rep = ''\n",
    "for i in range(len(seq)):\n",
    "    rep += seq[i].text\n",
    "rep"
   ]
  },
  {
   "cell_type": "code",
   "execution_count": 8,
   "metadata": {
    "collapsed": true
   },
   "outputs": [],
   "source": [
    "def former_sequence(sequence):\n",
    "    return ''.join(sequence.split());"
   ]
  },
  {
   "cell_type": "code",
   "execution_count": 9,
   "metadata": {
    "collapsed": true
   },
   "outputs": [],
   "source": [
    "def transformer_sequence(sequence,long):\n",
    "    nucleotides = np.zeros((4,long))\n",
    "    cnt = 0\n",
    "    for lettre in sequence:\n",
    "        if lettre=='a':\n",
    "            nucleotides[0,cnt] = 1\n",
    "            cnt += 1\n",
    "        elif lettre=='c':\n",
    "            nucleotides[1,cnt] = 1\n",
    "            cnt += 1\n",
    "        elif lettre=='g':\n",
    "            nucleotides[2,cnt] = 1\n",
    "            cnt += 1\n",
    "        elif lettre=='t':\n",
    "            nucleotides[3,cnt] = 1\n",
    "            cnt += 1\n",
    "    return nucleotides"
   ]
  },
  {
   "cell_type": "code",
   "execution_count": 10,
   "metadata": {},
   "outputs": [
    {
     "data": {
      "text/plain": [
       "'aaagagcagggacccgataagaagccatttttcaaatggaaggccgtactgattttctggaacactgccctgggaggaactgcctggactggcctccctaccttcccaggaagcagttttattcatagtggaagactccacatttgacatagaaagtgcagtagggttatacacattccctgtgttcaaagttaggttgga'"
      ]
     },
     "execution_count": 10,
     "metadata": {},
     "output_type": "execute_result"
    }
   ],
   "source": [
    "s = transformer_sequence(rep,201)\n",
    "s.shape\n",
    "seq = former_sequence(rep)\n",
    "seq"
   ]
  },
  {
   "cell_type": "markdown",
   "metadata": {},
   "source": [
    "#### A partir de mainenant, on essaye d'obtenir les probabilités d'accesibilité de chaque nucléotide sur une séquence quelconque ARN par exemple 'ACGUUGUCACACGAU'"
   ]
  },
  {
   "cell_type": "code",
   "execution_count": 11,
   "metadata": {},
   "outputs": [
    {
     "ename": "ModuleNotFoundError",
     "evalue": "No module named 'RNA'",
     "output_type": "error",
     "traceback": [
      "\u001b[0;31m---------------------------------------------------------------------------\u001b[0m",
      "\u001b[0;31mModuleNotFoundError\u001b[0m                       Traceback (most recent call last)",
      "\u001b[0;32m<ipython-input-11-ab1c6a7d1ac7>\u001b[0m in \u001b[0;36m<module>\u001b[0;34m()\u001b[0m\n\u001b[0;32m----> 1\u001b[0;31m \u001b[0;32mimport\u001b[0m \u001b[0mRNA\u001b[0m\u001b[0;34m\u001b[0m\u001b[0m\n\u001b[0m",
      "\u001b[0;31mModuleNotFoundError\u001b[0m: No module named 'RNA'"
     ]
    }
   ],
   "source": [
    "import RNA"
   ]
  },
  {
   "cell_type": "code",
   "execution_count": 11,
   "metadata": {},
   "outputs": [
    {
     "name": "stdout",
     "output_type": "stream",
     "text": [
      "Help on built-in function pfl_fold in module _RNA:\n",
      "\n",
      "pfl_fold(...)\n",
      "\n"
     ]
    }
   ],
   "source": [
    "help(RNA.pfl_fold)"
   ]
  },
  {
   "cell_type": "code",
   "execution_count": 29,
   "metadata": {},
   "outputs": [
    {
     "data": {
      "text/plain": [
       "102"
      ]
     },
     "execution_count": 29,
     "metadata": {},
     "output_type": "execute_result"
    }
   ],
   "source": [
    "len('augcucgucgaucguaguagcucaguacgucaguacgaucgacuacgacuguacguacgacugacguaugcuagcugacucgaucguaucgaucgacugcau')"
   ]
  },
  {
   "cell_type": "code",
   "execution_count": 37,
   "metadata": {
    "collapsed": true
   },
   "outputs": [],
   "source": [
    "a = RNA.pfl_fold_up('augcucgucgaucguaguagcucaguacgucaguacgaucgacuacgacuguacguacgacugacguaugcuagcugacucgaucguaucgaucgacugcau',1,102,102)"
   ]
  },
  {
   "cell_type": "code",
   "execution_count": null,
   "metadata": {
    "collapsed": true
   },
   "outputs": [],
   "source": []
  },
  {
   "cell_type": "code",
   "execution_count": 56,
   "metadata": {},
   "outputs": [
    {
     "ename": "NameError",
     "evalue": "name 'a' is not defined",
     "output_type": "error",
     "traceback": [
      "\u001b[0;31m---------------------------------------------------------------------------\u001b[0m",
      "\u001b[0;31mNameError\u001b[0m                                 Traceback (most recent call last)",
      "\u001b[0;32m<ipython-input-56-29c1c4b3c0d3>\u001b[0m in \u001b[0;36m<module>\u001b[0;34m()\u001b[0m\n\u001b[0;32m----> 1\u001b[0;31m \u001b[0mb\u001b[0m \u001b[0;34m=\u001b[0m \u001b[0mnp\u001b[0m\u001b[0;34m.\u001b[0m\u001b[0marray\u001b[0m\u001b[0;34m(\u001b[0m\u001b[0ma\u001b[0m\u001b[0;34m)\u001b[0m\u001b[0;34m\u001b[0m\u001b[0m\n\u001b[0m\u001b[1;32m      2\u001b[0m \u001b[0mb\u001b[0m \u001b[0;34m=\u001b[0m \u001b[0mb\u001b[0m\u001b[0;34m[\u001b[0m\u001b[0;36m1\u001b[0m\u001b[0;34m:\u001b[0m\u001b[0;34m,\u001b[0m\u001b[0;36m1\u001b[0m\u001b[0;34m]\u001b[0m\u001b[0;34m\u001b[0m\u001b[0m\n\u001b[1;32m      3\u001b[0m \u001b[0mb\u001b[0m\u001b[0;34m\u001b[0m\u001b[0m\n",
      "\u001b[0;31mNameError\u001b[0m: name 'a' is not defined"
     ]
    }
   ],
   "source": [
    "b = np.array(a)\n",
    "b = b[1:,1]\n",
    "b"
   ]
  },
  {
   "cell_type": "code",
   "execution_count": null,
   "metadata": {
    "collapsed": true
   },
   "outputs": [],
   "source": []
  }
 ],
 "metadata": {
  "kernelspec": {
   "display_name": "Python 3",
   "language": "python",
   "name": "python3"
  },
  "language_info": {
   "codemirror_mode": {
    "name": "ipython",
    "version": 3
   },
   "file_extension": ".py",
   "mimetype": "text/x-python",
   "name": "python",
   "nbconvert_exporter": "python",
   "pygments_lexer": "ipython3",
   "version": "3.6.1"
  }
 },
 "nbformat": 4,
 "nbformat_minor": 2
}
