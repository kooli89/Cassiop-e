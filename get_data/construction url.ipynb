{
 "cells": [
  {
   "cell_type": "markdown",
   "metadata": {},
   "source": [
    "#### Génération des URL de récupération des séquences et récupération par scrapping"
   ]
  },
  {
   "cell_type": "code",
   "execution_count": 2,
   "metadata": {
    "collapsed": true
   },
   "outputs": [],
   "source": [
    "import numpy as np\n",
    "import pandas as pd"
   ]
  },
  {
   "cell_type": "code",
   "execution_count": 4,
   "metadata": {
    "scrolled": false
   },
   "outputs": [
    {
     "name": "stderr",
     "output_type": "stream",
     "text": [
      "/home/kooli/anaconda2/envs/py36/lib/python3.6/site-packages/IPython/core/interactiveshell.py:2717: DtypeWarning: Columns (1,2,4,5) have mixed types. Specify dtype option on import or set low_memory=False.\n",
      "  interactivity=interactivity, compiler=compiler, result=result)\n"
     ]
    }
   ],
   "source": [
    "bdd = pd.read_csv(\"rise_human_transcriptome.txt\", sep = \"\\t\")"
   ]
  },
  {
   "cell_type": "code",
   "execution_count": 5,
   "metadata": {
    "collapsed": true
   },
   "outputs": [],
   "source": [
    "\n",
    "# bdd convertie panda -> numpy array et seuls les 70 000 premiers RRIs retenus\n",
    "arrbdd = np.array(bdd)[:70000]\n",
    "arrbdd\n",
    "\n",
    "#enlever 'chr' et formater les numéros de chromosomes\n",
    "    \n",
    "for i,el in enumerate(arrbdd[:,3]):\n",
    "    arrbdd[i,0] = arrbdd[i,0][3:]\n",
    "    if arrbdd[i,0] == 'X':\n",
    "        arrbdd[i,0] = '23'\n",
    "    elif arrbdd[i,0] == 'Y':\n",
    "        arrbdd[i,0] = '24'  \n",
    "    elif(arrbdd[i,0] == 'M'):\n",
    "        continue\n",
    "    elif int(arrbdd[i,0])<10:\n",
    "        arrbdd[i,0] = '0' + arrbdd[i,0]\n",
    "   \n",
    "for i,el in enumerate(arrbdd[:,3]):\n",
    "    arrbdd[i,3] = arrbdd[i,3][3:]\n",
    "    if arrbdd[i,3] == 'X':\n",
    "        arrbdd[i,3] = '23'\n",
    "    elif arrbdd[i,3] == 'Y':\n",
    "        arrbdd[i,3] = '24'  \n",
    "    elif(arrbdd[i,3] == 'M'):\n",
    "        continue\n",
    "    elif int(arrbdd[i,3])<10:\n",
    "        arrbdd[i,3] = '0' + arrbdd[i,3]\n",
    "        \n",
    "\n",
    "#enlever les chromosomes M\n",
    "arg_sansM = np.argwhere((arrbdd[:,0] != 'M') & (arrbdd[:,3] != 'M'))\n",
    "varrbdd = arrbdd[arg_sansM[:,0]]\n",
    "\n",
    "length_varrbdd = varrbdd.shape[0]\n",
    "\n",
    "\n",
    "#changement strand\n",
    "for i in range(length_varrbdd) :\n",
    "    if varrbdd[i,8] == '+':\n",
    "        varrbdd[i,8] = 'true'\n",
    "    elif varrbdd[i,8] == '-':\n",
    "        varrbdd[i,8] = 'false'\n",
    "    if varrbdd[i,9] == '+':\n",
    "        varrbdd[i,9] = 'true'\n",
    "    elif varrbdd[i,9] == '-':\n",
    "        varrbdd[i,9] = 'false'\n",
    "\n",
    "\n",
    "for i in range(length_varrbdd):\n",
    "    varrbdd[i,1] = str(varrbdd[i,1])\n",
    "    varrbdd[i,2] = str(varrbdd[i,2])\n",
    "    varrbdd[i,4] = str(varrbdd[i,4])\n",
    "    varrbdd[i,5] = str(varrbdd[i,5])\n",
    "\n",
    "\n",
    "\n",
    "\n",
    "\n",
    "#génération position début et fin de séquence (nucléotides)\n",
    "for i in range(length_varrbdd):\n",
    "    milieu = int((int(varrbdd[i,1])+int(varrbdd[i,2]))/2)\n",
    "    varrbdd[i,1] = str(milieu-100)\n",
    "    varrbdd[i,2] = str(milieu+100)\n",
    "    milieu = int((int(varrbdd[i,4])+int(varrbdd[i,5]))/2)\n",
    "    varrbdd[i,4] = str(milieu-100)\n",
    "    varrbdd[i,5] = str(milieu+100)\n",
    "\n",
    "#génération URLs\n",
    "for i in range(length_varrbdd):\n",
    "    varrbdd[i,6] = \"https://www.ncbi.nlm.nih.gov/nuccore/NC_0000\"+varrbdd[i,0]+\"?report=genbank&from=\"+varrbdd[i,1]+\"&to=\"+varrbdd[i,2]+\"&strand=\"+varrbdd[i,8]+\".html\"\n",
    "\n",
    "for i,el in enumerate(varrbdd[:,7]):\n",
    "    varrbdd[i,7] = \"https://www.ncbi.nlm.nih.gov/nuccore/NC_0000\"+varrbdd[i,3]+\"?report=genbank&from=\"+varrbdd[i,4]+\"&to=\"+varrbdd[i,5]+\"&strand=\"+varrbdd[i,9]+\".html\"\n",
    "        \n",
    "\n",
    "\n",
    "\n",
    "\n"
   ]
  },
  {
   "cell_type": "code",
   "execution_count": 6,
   "metadata": {
    "collapsed": true
   },
   "outputs": [],
   "source": [
    "from bs4 import BeautifulSoup\n",
    "from selenium import webdriver\n",
    "import time\n",
    "browser = webdriver.Firefox()"
   ]
  },
  {
   "cell_type": "code",
   "execution_count": 17,
   "metadata": {
    "collapsed": true
   },
   "outputs": [],
   "source": [
    "#for i,el in enumerate(varrbdd[:,18]):\n",
    "    #url = varrbdd[i,6]\n",
    "    #browser.get(url)\n",
    "    #time.sleep(5)\n",
    "    #innerHTML = browser.execute_script(\"return document.body.innerHTML\")\n",
    "    #soup = BeautifulSoup(innerHTML,\"lxml\")\n",
    "    #seq = soup.find_all(\"span\",{'class':\"ff_line\"})\n",
    "    #varrbdd[i,18] = seq[0].text+seq[1].text+seq[2].text+seq[3].text"
   ]
  },
  {
   "cell_type": "code",
   "execution_count": 10,
   "metadata": {
    "scrolled": true
   },
   "outputs": [
    {
     "data": {
      "text/plain": [
       "'\\nGo to:CommentFeaturesSequence\\nLOCUS       NC_000012                201 bp    DNA     linear   CON 06-JUN-2016\\nDEFINITION  Homo sapiens chromosome 12, GRCh38.p7 Primary Assembly.\\nACCESSION   NC_000012 REGION: 12330147..12330347\\nVERSION     NC_000012.12\\nDBLINK      BioProject: PRJNA168\\n            Assembly: GCF_000001405.33\\nKEYWORDS    RefSeq.\\nSOURCE      Homo sapiens (human)\\n  ORGANISM  Homo sapiens\\n            Eukaryota; Metazoa; Chordata; Craniata; Vertebrata; Euteleostomi;\\n            Mammalia; Eutheria; Euarchontoglires; Primates; Haplorrhini;\\n            Catarrhini; Hominidae; Homo.\\nREFERENCE   1  (bases 1 to 201)\\n  AUTHORS   Scherer,S.E., Muzny,D.M., Buhay,C.J., Chen,R., Cree,A., Ding,Y.,\\n            Dugan-Rocha,S., Gill,R., Gunaratne,P., Harris,R.A., Hawes,A.C.,\\n            Hernandez,J., Hodgson,A.V., Hume,J., Jackson,A., Khan,Z.M.,\\n            Kovar-Smith,C., Lewis,L.R., Lozado,R.J., Metzker,M.L.,\\n            Milosavljevic,A., Miner,G.R., Montgomery,K.T., Morgan,M.B.,\\n            Nazareth,L.V., Scott,G., Sodergren,E., Song,X.Z., Steffen,D.,\\n            Lovering,R.C., Wheeler,D.A., Worley,K.C., Yuan,Y., Zhang,Z.,\\n            Adams,C.Q., Ansari-Lari,M.A., Ayele,M., Brown,M.J., Chen,G.,\\n            Chen,Z., Clerc-Blankenburg,K.P., Davis,C., Delgado,O., Dinh,H.H.,\\n            Draper,H., Gonzalez-Garay,M.L., Havlak,P., Jackson,L.R.,\\n            Jacob,L.S., Kelly,S.H., Li,L., Li,Z., Liu,J., Liu,W., Lu,J.,\\n            Maheshwari,M., Nguyen,B.V., Okwuonu,G.O., Pasternak,S., Perez,L.M.,\\n            Plopper,F.J., Santibanez,J., Shen,H., Tabor,P.E., Verduzco,D.,\\n            Waldron,L., Wang,Q., Williams,G.A., Zhang,J., Zhou,J., Allen,C.C.,\\n            Amin,A.G., Anyalebechi,V., Bailey,M., Barbaria,J.A., Bimage,K.E.,\\n            Bryant,N.P., Burch,P.E., Burkett,C.E., Burrell,K.L., Calderon,E.,\\n            Cardenas,V., Carter,K., Casias,K., Cavazos,I., Cavazos,S.R.,\\n            Ceasar,H., Chacko,J., Chan,S.N., Chavez,D., Christopoulos,C.,\\n            Chu,J., Cockrell,R., Cox,C.D., Dang,M., Dathorne,S.R., David,R.,\\n            Davis,C.M., Davy-Carroll,L., Deshazo,D.R., Donlin,J.E., D\\'Souza,L.,\\n            Eaves,K.A., Egan,A., Emery-Cohen,A.J., Escotto,M., Flagg,N.,\\n            Forbes,L.D., Gabisi,A.M., Garza,M., Hamilton,C., Henderson,N.,\\n            Hernandez,O., Hines,S., Hogues,M.E., Huang,M., Idlebird,D.G.,\\n            Johnson,R., Jolivet,A., Jones,S., Kagan,R., King,L.M., Leal,B.,\\n            Lebow,H., Lee,S., LeVan,J.M., Lewis,L.C., London,P.,\\n            Lorensuhewa,L.M., Loulseged,H., Lovett,D.A., Lucier,A.,\\n            Lucier,R.L., Ma,J., Madu,R.C., Mapua,P., Martindale,A.D.,\\n            Martinez,E., Massey,E., Mawhiney,S., Meador,M.G., Mendez,S.,\\n            Mercado,C., Mercado,I.C., Merritt,C.E., Miner,Z.L., Minja,E.,\\n            Mitchell,T., Mohabbat,F., Mohabbat,K., Montgomery,B., Moore,N.,\\n            Morris,S., Munidasa,M., Ngo,R.N., Nguyen,N.B., Nickerson,E.,\\n            Nwaokelemeh,O.O., Nwokenkwo,S., Obregon,M., Oguh,M., Oragunye,N.,\\n            Oviedo,R.J., Parish,B.J., Parker,D.N., Parrish,J., Parks,K.L.,\\n            Paul,H.A., Payton,B.A., Perez,A., Perrin,W., Pickens,A.,\\n            Primus,E.L., Pu,L.L., Puazo,M., Quiles,M.M., Quiroz,J.B.,\\n            Rabata,D., Reeves,K., Ruiz,S.J., Shao,H., Sisson,I., Sonaike,T.,\\n            Sorelle,R.P., Sutton,A.E., Svatek,A.F., Svetz,L.A., Tamerisa,K.S.,\\n            Taylor,T.R., Teague,B., Thomas,N., Thorn,R.D., Trejos,Z.Y.,\\n            Trevino,B.K., Ukegbu,O.N., Urban,J.B., Vasquez,L.I., Vera,V.A.,\\n            Villasana,D.M., Wang,L., Ward-Moore,S., Warren,J.T., Wei,X.,\\n            White,F., Williamson,A.L., Wleczyk,R., Wooden,H.S., Wooden,S.H.,\\n            Yen,J., Yoon,L., Yoon,V., Zorrilla,S.E., Nelson,D.,\\n            Kucherlapati,R., Weinstock,G. and Gibbs,R.A.\\n  CONSRTM   Baylor College of Medicine Human Genome Sequencing Center Sequence\\n            Production Team\\n  TITLE     The finished DNA sequence of human chromosome 12\\n  JOURNAL   Nature 440 (7082), 346-351 (2006)\\n   PUBMED   16541075\\nREFERENCE   2  (bases 1 to 201)\\n  CONSRTM   International Human Genome Sequencing Consortium\\n  TITLE     Finishing the euchromatic sequence of the human genome\\n  JOURNAL   Nature 431 (7011), 931-945 (2004)\\n   PUBMED   15496913\\nREFERENCE   3  (bases 1 to 201)\\n  AUTHORS   Lander,E.S., Linton,L.M., Birren,B., Nusbaum,C., Zody,M.C.,\\n            Baldwin,J., Devon,K., Dewar,K., Doyle,M., FitzHugh,W., Funke,R.,\\n            Gage,D., Harris,K., Heaford,A., Howland,J., Kann,L., Lehoczky,J.,\\n            LeVine,R., McEwan,P., McKernan,K., Meldrim,J., Mesirov,J.P.,\\n            Miranda,C., Morris,W., Naylor,J., Raymond,C., Rosetti,M.,\\n            Santos,R., Sheridan,A., Sougnez,C., Stange-Thomann,Y.,\\n            Stojanovic,N., Subramanian,A., Wyman,D., Rogers,J., Sulston,J.,\\n            Ainscough,R., Beck,S., Bentley,D., Burton,J., Clee,C., Carter,N.,\\n            Coulson,A., Deadman,R., Deloukas,P., Dunham,A., Dunham,I.,\\n            Durbin,R., French,L., Grafham,D., Gregory,S., Hubbard,T.,\\n            Humphray,S., Hunt,A., Jones,M., Lloyd,C., McMurray,A., Matthews,L.,\\n            Mercer,S., Milne,S., Mullikin,J.C., Mungall,A., Plumb,R., Ross,M.,\\n            Shownkeen,R., Sims,S., Waterston,R.H., Wilson,R.K., Hillier,L.W.,\\n            McPherson,J.D., Marra,M.A., Mardis,E.R., Fulton,L.A.,\\n            Chinwalla,A.T., Pepin,K.H., Gish,W.R., Chissoe,S.L., Wendl,M.C.,\\n            Delehaunty,K.D., Miner,T.L., Delehaunty,A., Kramer,J.B., Cook,L.L.,\\n            Fulton,R.S., Johnson,D.L., Minx,P.J., Clifton,S.W., Hawkins,T.,\\n            Branscomb,E., Predki,P., Richardson,P., Wenning,S., Slezak,T.,\\n            Doggett,N., Cheng,J.F., Olsen,A., Lucas,S., Elkin,C.,\\n            Uberbacher,E., Frazier,M., Gibbs,R.A., Muzny,D.M., Scherer,S.E.,\\n            Bouck,J.B., Sodergren,E.J., Worley,K.C., Rives,C.M., Gorrell,J.H.,\\n            Metzker,M.L., Naylor,S.L., Kucherlapati,R.S., Nelson,D.L.,\\n            Weinstock,G.M., Sakaki,Y., Fujiyama,A., Hattori,M., Yada,T.,\\n            Toyoda,A., Itoh,T., Kawagoe,C., Watanabe,H., Totoki,Y., Taylor,T.,\\n            Weissenbach,J., Heilig,R., Saurin,W., Artiguenave,F., Brottier,P.,\\n            Bruls,T., Pelletier,E., Robert,C., Wincker,P., Smith,D.R.,\\n            Doucette-Stamm,L., Rubenfield,M., Weinstock,K., Lee,H.M.,\\n            Dubois,J., Rosenthal,A., Platzer,M., Nyakatura,G., Taudien,S.,\\n            Rump,A., Yang,H., Yu,J., Wang,J., Huang,G., Gu,J., Hood,L.,\\n            Rowen,L., Madan,A., Qin,S., Davis,R.W., Federspiel,N.A.,\\n            Abola,A.P., Proctor,M.J., Myers,R.M., Schmutz,J., Dickson,M.,\\n            Grimwood,J., Cox,D.R., Olson,M.V., Kaul,R., Raymond,C., Shimizu,N.,\\n            Kawasaki,K., Minoshima,S., Evans,G.A., Athanasiou,M., Schultz,R.,\\n            Roe,B.A., Chen,F., Pan,H., Ramser,J., Lehrach,H., Reinhardt,R.,\\n            McCombie,W.R., de la Bastide,M., Dedhia,N., Blocker,H.,\\n            Hornischer,K., Nordsiek,G., Agarwala,R., Aravind,L., Bailey,J.A.,\\n            Bateman,A., Batzoglou,S., Birney,E., Bork,P., Brown,D.G.,\\n            Burge,C.B., Cerutti,L., Chen,H.C., Church,D., Clamp,M.,\\n            Copley,R.R., Doerks,T., Eddy,S.R., Eichler,E.E., Furey,T.S.,\\n            Galagan,J., Gilbert,J.G., Harmon,C., Hayashizaki,Y., Haussler,D.,\\n            Hermjakob,H., Hokamp,K., Jang,W., Johnson,L.S., Jones,T.A.,\\n            Kasif,S., Kaspryzk,A., Kennedy,S., Kent,W.J., Kitts,P.,\\n            Koonin,E.V., Korf,I., Kulp,D., Lancet,D., Lowe,T.M., McLysaght,A.,\\n            Mikkelsen,T., Moran,J.V., Mulder,N., Pollara,V.J., Ponting,C.P.,\\n            Schuler,G., Schultz,J., Slater,G., Smit,A.F., Stupka,E.,\\n            Szustakowki,J., Thierry-Mieg,D., Thierry-Mieg,J., Wagner,L.,\\n            Wallis,J., Wheeler,R., Williams,A., Wolf,Y.I., Wolfe,K.H.,\\n            Yang,S.P., Yeh,R.F., Collins,F., Guyer,M.S., Peterson,J.,\\n            Felsenfeld,A., Wetterstrand,K.A., Patrinos,A., Morgan,M.J., de\\n            Jong,P., Catanese,J.J., Osoegawa,K., Shizuya,H., Choi,S., Chen,Y.J.\\n            and Szustakowki,J.\\n  CONSRTM   International Human Genome Sequencing Consortium\\n  TITLE     Initial sequencing and analysis of the human genome\\n  JOURNAL   Nature 409 (6822), 860-921 (2001)\\n   PUBMED   11237011\\n  REMARK    Erratum:[Nature 2001 Jun 7;411(6838):720. Szustakowki, J [corrected\\n            to Szustakowski, J]]\\nREFERENCE   4  (sites)\\n  AUTHORS   Lowe,T.M. and Eddy,S.R.\\n  TITLE     tRNAscan-SE: a program for improved detection of transfer RNA genes\\n            in genomic sequence\\n  JOURNAL   Nucleic Acids Res. 25 (5), 955-964 (1997)\\n   PUBMED   9023104\\n  REMARK    This is the methods paper for tRNAscan-SE.\\nCOMMENT     REFSEQ INFORMATION: The reference sequence is identical to\\n            CM000674.2.\\n            On Feb 3, 2014 this sequence version replaced NC_000012.11.\\n            Assembly Name: GRCh38.p7 Primary Assembly\\n            The DNA sequence is composed of genomic sequence, primarily\\n            finished clones that were sequenced as part of the Human Genome\\n            Project. PCR products and WGS shotgun sequence have been added\\n            where necessary to fill gaps or correct errors. All such additions\\n            are manually curated by GRC staff. For more information see:\\n            http://genomereference.org.\\n            \\n            ##Genome-Annotation-Data-START##\\n            Annotation Provider         :: NCBI\\n            Annotation Status           :: Full annotation\\n            Annotation Version          :: Homo sapiens Annotation Release 108\\n            Annotation Pipeline         :: NCBI eukaryotic genome annotation\\n                                           pipeline\\n            Annotation Software Version :: 7.0\\n            Annotation Method           :: Best-placed RefSeq; Gnomon\\n            Features Annotated          :: Gene; mRNA; CDS; ncRNA\\n            ##Genome-Annotation-Data-END##\\nFEATURES             Location/Qualifiers\\nif (typeof(oData) == \"undefined\") oData = []; oData.push ({gi:568815586,acc:\"NC_000012\",features: {}});if (!oData[oData.length - 1].features[\"source\"]) oData[oData.length - 1].features[\"source\"] = [];oData[oData.length - 1].features[\"source\"].push([[1, 201]]);     source          1..201\\n                     /organism=\"Homo sapiens\"\\n                     /mol_type=\"genomic DNA\"\\n                     /db_xref=\"taxon:9606\"\\n                     /chromosome=\"12\"\\nif (!oData[oData.length - 1].features[\"gene\"]) oData[oData.length - 1].features[\"gene\"] = [];oData[oData.length - 1].features[\"gene\"].push([[201, 1]]);     gene            complement(<1..>201)\\n                     /gene=\"MANSC1\"\\n                     /gene_synonym=\"9130403P13Rik; LOH12CR3\"\\n                     /note=\"MANSC domain containing 1; Derived by automated\\n                     computational analysis using gene prediction method:\\n                     BestRefSeq,Gnomon.\"\\n                     /db_xref=\"GeneID:54682\"\\n                     /db_xref=\"HGNC:HGNC:25505\"\\n                     /db_xref=\"HPRD:10067\"\\nif (!oData[oData.length - 1].features[\"mRNA\"]) oData[oData.length - 1].features[\"mRNA\"] = [];oData[oData.length - 1].features[\"mRNA\"].push([[201, 1]]);     mRNA            complement(<1..>201)\\n                     /gene=\"MANSC1\"\\n                     /gene_synonym=\"9130403P13Rik; LOH12CR3\"\\n                     /product=\"MANSC domain containing 1, transcript variant\\n                     X1\"\\n                     /note=\"Derived by automated computational analysis using\\n                     gene prediction method: Gnomon. Supporting evidence\\n                     includes similarity to: 2 mRNAs, 18 ESTs, 72 long SRA\\n                     reads, 1 Protein, and 88% coverage of the annotated\\n                     genomic feature by RNAseq alignments, including 83 samples\\n                     with support for all annotated introns\"\\n                     /transcript_id=\"XM_017019531.1\"\\n                     /db_xref=\"GeneID:54682\"\\n                     /db_xref=\"HGNC:HGNC:25505\"\\n                     /db_xref=\"HPRD:10067\"\\nif (!oData[oData.length - 1].features[\"mRNA\"]) oData[oData.length - 1].features[\"mRNA\"] = [];oData[oData.length - 1].features[\"mRNA\"].push([[201, 1]]);     mRNA            complement(<1..>201)\\n                     /gene=\"MANSC1\"\\n                     /gene_synonym=\"9130403P13Rik; LOH12CR3\"\\n                     /product=\"MANSC domain containing 1\"\\n                     /note=\"Derived by automated computational analysis using\\n                     gene prediction method: BestRefSeq.\"\\n                     /transcript_id=\"NM_018050.2\"\\n                     /db_xref=\"GeneID:54682\"\\n                     /db_xref=\"HGNC:HGNC:25505\"\\n                     /db_xref=\"HPRD:10067\"\\nif (!oData[oData.length - 1].features[\"CDS\"]) oData[oData.length - 1].features[\"CDS\"] = [];oData[oData.length - 1].features[\"CDS\"].push([[201, 1]]);     CDS             complement(<1..>201)\\n                     /gene=\"MANSC1\"\\n                     /gene_synonym=\"9130403P13Rik; LOH12CR3\"\\n                     /note=\"Derived by automated computational analysis using\\n                     gene prediction method: Gnomon.\"\\n                     /codon_start=2\\n                     /product=\"MANSC domain-containing protein 1 isoform X1\"\\n                     /protein_id=\"XP_016875020.1\"\\n                     /db_xref=\"GeneID:54682\"\\n                     /db_xref=\"HGNC:HGNC:25505\"\\n                     /db_xref=\"HPRD:10067\"\\n                     /translation=\"PT\"\\nif (!oData[oData.length - 1].features[\"CDS\"]) oData[oData.length - 1].features[\"CDS\"] = [];oData[oData.length - 1].features[\"CDS\"].push([[201, 1]]);     CDS             complement(<1..>201)\\n                     /gene=\"MANSC1\"\\n                     /gene_synonym=\"9130403P13Rik; LOH12CR3\"\\n                     /note=\"Derived by automated computational analysis using\\n                     gene prediction method: BestRefSeq.\"\\n                     /codon_start=2\\n                     /product=\"MANSC domain-containing protein 1 precursor\"\\n                     /protein_id=\"NP_060520.2\"\\n                     /db_xref=\"CCDS:CCDS8648.1\"\\n                     /db_xref=\"GeneID:54682\"\\n                     /db_xref=\"HGNC:HGNC:25505\"\\n                     /db_xref=\"HPRD:10067\"\\n                     /translation=\"PT\"\\nORIGIN      \\n        1 aaagagcagg gacccgataa gaagccattt ttcaaatgga aggccgtact gattttctgg\\n       61 aacactgccc tgggaggaac tgcctggact ggcctcccta ccttcccagg aagcagtttt\\n      121 attcatagtg gaagactcca catttgacat agaaagtgca gtagggttat acacattccc\\n      181 tgtgttcaaa gttaggttgg a\\n//\\n\\n'"
      ]
     },
     "execution_count": 10,
     "metadata": {},
     "output_type": "execute_result"
    }
   ],
   "source": [
    "url = varrbdd[100,7]\n",
    "browser.get(url)\n",
    "time.sleep(8)\n",
    "innerHTML = browser.execute_script(\"return document.body.innerHTML\")\n",
    "soup = BeautifulSoup(innerHTML,\"lxml\")\n",
    "seq = soup.find_all(\"span\",{'class':\"ff_line\"})\n",
    "#seq = soup.find_all(\"div\",{'class':\"seq gbff\"}) doesn't work for me \n",
    "rep = ''\n",
    "for i in range(len(seq)):\n",
    "    rep += seq[i].text\n",
    "rep"
   ]
  },
  {
   "cell_type": "code",
   "execution_count": 52,
   "metadata": {
    "collapsed": true
   },
   "outputs": [],
   "source": [
    "def former_sequence(sequence):\n",
    "    return ''.join(sequence.split());"
   ]
  },
  {
   "cell_type": "code",
   "execution_count": 53,
   "metadata": {
    "collapsed": true
   },
   "outputs": [],
   "source": [
    "def transformer_sequence(sequence,long):\n",
    "    nucleotides = np.zeros((4,long))\n",
    "    cnt = 0\n",
    "    for lettre in sequence:\n",
    "        if lettre=='a':\n",
    "            nucleotides[0,cnt] = 1\n",
    "            cnt += 1\n",
    "        elif lettre=='c':\n",
    "            nucleotides[1,cnt] = 1\n",
    "            cnt += 1\n",
    "        elif lettre=='g':\n",
    "            nucleotides[2,cnt] = 1\n",
    "            cnt += 1\n",
    "        elif lettre=='t':\n",
    "            nucleotides[3,cnt] = 1\n",
    "            cnt += 1\n",
    "    return nucleotides"
   ]
  },
  {
   "cell_type": "code",
   "execution_count": 55,
   "metadata": {},
   "outputs": [
    {
     "data": {
      "text/plain": [
       "'atcgtgtcacctgctcacacacctaattgggatcttgtcagtgacgttgttaactcctgtagccgaatctaccgctcttccaaacagtgccggaatcgctacgagaatgtcatcattccacgagaggaggggaaggtaagcacggtctcgtttgtccttcgaggagagcacaggcaggtgtggtggccgtggcctgcagtt'"
      ]
     },
     "execution_count": 55,
     "metadata": {},
     "output_type": "execute_result"
    }
   ],
   "source": [
    "s = transformer_sequence(rep,201)\n",
    "s.shape\n",
    "seq = former_sequence(rep)\n",
    "seq"
   ]
  },
  {
   "cell_type": "markdown",
   "metadata": {},
   "source": [
    "#### A partir de mainenant, on essaye d'obtenir les probabilités d'accesibilité de chaque nucléotide sur une séquence quelconque ARN par exemple 'ACGUUGUCACACGAU'"
   ]
  },
  {
   "cell_type": "code",
   "execution_count": 50,
   "metadata": {},
   "outputs": [
    {
     "ename": "ModuleNotFoundError",
     "evalue": "No module named 'RNA'",
     "output_type": "error",
     "traceback": [
      "\u001b[0;31m---------------------------------------------------------------------------\u001b[0m",
      "\u001b[0;31mModuleNotFoundError\u001b[0m                       Traceback (most recent call last)",
      "\u001b[0;32m<ipython-input-50-ab1c6a7d1ac7>\u001b[0m in \u001b[0;36m<module>\u001b[0;34m()\u001b[0m\n\u001b[0;32m----> 1\u001b[0;31m \u001b[0;32mimport\u001b[0m \u001b[0mRNA\u001b[0m\u001b[0;34m\u001b[0m\u001b[0m\n\u001b[0m",
      "\u001b[0;31mModuleNotFoundError\u001b[0m: No module named 'RNA'"
     ]
    }
   ],
   "source": [
    "import RNA"
   ]
  },
  {
   "cell_type": "code",
   "execution_count": 11,
   "metadata": {},
   "outputs": [
    {
     "name": "stdout",
     "output_type": "stream",
     "text": [
      "Help on built-in function pfl_fold in module _RNA:\n",
      "\n",
      "pfl_fold(...)\n",
      "\n"
     ]
    }
   ],
   "source": [
    "help(RNA.pfl_fold)"
   ]
  },
  {
   "cell_type": "code",
   "execution_count": 29,
   "metadata": {},
   "outputs": [
    {
     "data": {
      "text/plain": [
       "102"
      ]
     },
     "execution_count": 29,
     "metadata": {},
     "output_type": "execute_result"
    }
   ],
   "source": [
    "len('augcucgucgaucguaguagcucaguacgucaguacgaucgacuacgacuguacguacgacugacguaugcuagcugacucgaucguaucgaucgacugcau')"
   ]
  },
  {
   "cell_type": "code",
   "execution_count": 37,
   "metadata": {
    "collapsed": true
   },
   "outputs": [],
   "source": [
    "a = RNA.pfl_fold_up('augcucgucgaucguaguagcucaguacgucaguacgaucgacuacgacuguacguacgacugacguaugcuagcugacucgaucguaucgaucgacugcau',1,102,102)"
   ]
  },
  {
   "cell_type": "code",
   "execution_count": null,
   "metadata": {
    "collapsed": true
   },
   "outputs": [],
   "source": []
  },
  {
   "cell_type": "code",
   "execution_count": 56,
   "metadata": {},
   "outputs": [
    {
     "ename": "NameError",
     "evalue": "name 'a' is not defined",
     "output_type": "error",
     "traceback": [
      "\u001b[0;31m---------------------------------------------------------------------------\u001b[0m",
      "\u001b[0;31mNameError\u001b[0m                                 Traceback (most recent call last)",
      "\u001b[0;32m<ipython-input-56-29c1c4b3c0d3>\u001b[0m in \u001b[0;36m<module>\u001b[0;34m()\u001b[0m\n\u001b[0;32m----> 1\u001b[0;31m \u001b[0mb\u001b[0m \u001b[0;34m=\u001b[0m \u001b[0mnp\u001b[0m\u001b[0;34m.\u001b[0m\u001b[0marray\u001b[0m\u001b[0;34m(\u001b[0m\u001b[0ma\u001b[0m\u001b[0;34m)\u001b[0m\u001b[0;34m\u001b[0m\u001b[0m\n\u001b[0m\u001b[1;32m      2\u001b[0m \u001b[0mb\u001b[0m \u001b[0;34m=\u001b[0m \u001b[0mb\u001b[0m\u001b[0;34m[\u001b[0m\u001b[0;36m1\u001b[0m\u001b[0;34m:\u001b[0m\u001b[0;34m,\u001b[0m\u001b[0;36m1\u001b[0m\u001b[0;34m]\u001b[0m\u001b[0;34m\u001b[0m\u001b[0m\n\u001b[1;32m      3\u001b[0m \u001b[0mb\u001b[0m\u001b[0;34m\u001b[0m\u001b[0m\n",
      "\u001b[0;31mNameError\u001b[0m: name 'a' is not defined"
     ]
    }
   ],
   "source": [
    "b = np.array(a)\n",
    "b = b[1:,1]\n",
    "b"
   ]
  },
  {
   "cell_type": "code",
   "execution_count": null,
   "metadata": {
    "collapsed": true
   },
   "outputs": [],
   "source": []
  }
 ],
 "metadata": {
  "kernelspec": {
   "display_name": "Python 3",
   "language": "python",
   "name": "python3"
  },
  "language_info": {
   "codemirror_mode": {
    "name": "ipython",
    "version": 3
   },
   "file_extension": ".py",
   "mimetype": "text/x-python",
   "name": "python",
   "nbconvert_exporter": "python",
   "pygments_lexer": "ipython3",
   "version": "3.6.1"
  }
 },
 "nbformat": 4,
 "nbformat_minor": 2
}
