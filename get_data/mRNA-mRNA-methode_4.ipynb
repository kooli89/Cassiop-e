{
 "cells": [
  {
   "cell_type": "markdown",
   "metadata": {},
   "source": [
    "#### Construction de la base d'apprentissage"
   ]
  },
  {
   "cell_type": "code",
   "execution_count": 1,
   "metadata": {
    "collapsed": true
   },
   "outputs": [],
   "source": [
    "# Pour construire la base d'apprentissage seulement\n",
    "#from Bio import SeqIO\n",
    "#import RNA"
   ]
  },
  {
   "cell_type": "code",
   "execution_count": 2,
   "metadata": {
    "collapsed": true
   },
   "outputs": [],
   "source": [
    "import numpy as np\n",
    "import pandas as pd\n",
    "import csv\n",
    "from random import shuffle\n",
    "from Bio import SeqIO\n",
    "import RNA"
   ]
  },
  {
   "cell_type": "code",
   "execution_count": 3,
   "metadata": {
    "collapsed": true
   },
   "outputs": [],
   "source": [
    "def transformer_sequence(sequence,long):\n",
    "    nucleotides = np.zeros((4,int(max(long,25))))\n",
    "    cnt = 0\n",
    "    for lettre in sequence:\n",
    "        if lettre=='a':\n",
    "            nucleotides[0,cnt] = 1\n",
    "            cnt = cnt+1\n",
    "        elif lettre=='c':\n",
    "            nucleotides[1,cnt] = 1\n",
    "            cnt = cnt+1\n",
    "        elif lettre=='g':\n",
    "            nucleotides[2,cnt] = 1\n",
    "            cnt = cnt+1\n",
    "        else:\n",
    "            nucleotides[3,cnt] = 1\n",
    "            cnt = cnt+1\n",
    "    return nucleotides"
   ]
  },
  {
   "cell_type": "code",
   "execution_count": 4,
   "metadata": {
    "collapsed": true
   },
   "outputs": [],
   "source": [
    "def transformer_structure(structure):\n",
    "    long = len(structure)\n",
    "    a = np.zeros(25)\n",
    "    a[:long] = structure\n",
    "    return a"
   ]
  },
  {
   "cell_type": "code",
   "execution_count": 5,
   "metadata": {
    "collapsed": true
   },
   "outputs": [],
   "source": [
    "def traduire(seq,strand):\n",
    "    nucleotides = ''\n",
    "    if strand:\n",
    "        for lettre in seq:\n",
    "            if lettre=='A':\n",
    "                nucleotides=nucleotides+'a'\n",
    "            elif lettre=='C':\n",
    "                nucleotides=nucleotides+'c'\n",
    "            elif lettre=='G':\n",
    "                nucleotides=nucleotides+'g'\n",
    "            else:\n",
    "                nucleotides=nucleotides+'u'    \n",
    "    else:\n",
    "        string = ''\n",
    "        for i in seq:\n",
    "            string = i + string\n",
    "        seq = string\n",
    "        for lettre in seq:\n",
    "            if lettre=='A':\n",
    "                nucleotides=nucleotides+'u'\n",
    "            elif lettre=='C':\n",
    "                nucleotides=nucleotides+'g'\n",
    "            elif lettre=='G':\n",
    "                nucleotides=nucleotides+'c'\n",
    "            else:\n",
    "                nucleotides=nucleotides+'a'\n",
    "    return nucleotides"
   ]
  },
  {
   "cell_type": "markdown",
   "metadata": {},
   "source": [
    "### Génération des bdd (ne pas exécuter)"
   ]
  },
  {
   "cell_type": "code",
   "execution_count": 5,
   "metadata": {
    "collapsed": true
   },
   "outputs": [],
   "source": [
    "parser = SeqIO.parse(open(\"genomes/GRCh38.genome.fa\"),\"fasta\")\n",
    "dict_fasta = dict([(seq.id, seq) for seq in parser])"
   ]
  },
  {
   "cell_type": "code",
   "execution_count": 20,
   "metadata": {
    "collapsed": true
   },
   "outputs": [],
   "source": [
    "bdd = pd.read_csv(\"rise_human_transcriptome.csv\", sep = \"\\t\",header=None)\n",
    "arrbdd = np.array(bdd)\n",
    "\n",
    "# Ne garder que les interactions miRNA - mRNA\n",
    "arg_mi = np.argwhere(arrbdd[:,14]=='protein_coding')[:,0]\n",
    "arg_m = np.argwhere(arrbdd[:,15]=='protein_coding')[:,0]\n",
    "args = [k for k in arg_mi if k in arg_m]\n",
    "args = np.array(args)\n",
    "arrbdd = arrbdd[args]\n",
    "\n",
    "#enlever les chromosomes M\n",
    "arg_sansM = np.argwhere((arrbdd[:,0] != 'chrM') & (arrbdd[:,3] != 'chrM'))\n",
    "arrbdd = arrbdd[arg_sansM[:,0]]\n",
    "#enlever les champs vides\n",
    "arg_sansM = np.argwhere((arrbdd[:,1] != '.') & (arrbdd[:,2] != '.') & (arrbdd[:,4] != '.') & (arrbdd[:,5] != '.') & (arrbdd[:,0] != '.') & (arrbdd[:,3] != '.') & (arrbdd[:,8] != '.') & (arrbdd[:,9] != '.'))\n",
    "print(len(arg_sansM))\n",
    "varrbdd = arrbdd[arg_sansM[:,0]]\n",
    "\n",
    "\n",
    "#changement strand\n",
    "for i,el in enumerate(varrbdd[:,8]):\n",
    "    if varrbdd[i,8] == '+':\n",
    "        varrbdd[i,8] = True\n",
    "    else:\n",
    "        varrbdd[i,8] = False\n",
    "\n",
    "for i,el in enumerate(varrbdd[:,9]):\n",
    "    if varrbdd[i,9] == '+':\n",
    "        varrbdd[i,9] = True\n",
    "    else:\n",
    "        varrbdd[i,9] = False\n",
    "arg_sansM=[]\n",
    "arrbdd=[]\n",
    "bdd=[]\n",
    "\n",
    "for i,el in enumerate(varrbdd[:,1]):\n",
    "        varrbdd[i,1] = int(varrbdd[i,1])\n",
    "        varrbdd[i,2] = int(varrbdd[i,2])\n",
    "\n",
    "varrbdd = varrbdd[np.argwhere(varrbdd[:,2]-varrbdd[:,1] <= 30)]\n",
    "\n",
    "varrbdd = varrbdd[:,0]\n",
    "\n",
    "for i,el in enumerate(varrbdd[:,4]):\n",
    "        varrbdd[i,4] = int(varrbdd[i,4])\n",
    "        varrbdd[i,5] = int(varrbdd[i,5])\n",
    "\n",
    "varrbdd = varrbdd[np.argwhere(varrbdd[:,5]-varrbdd[:,4] <= 30)]\n",
    "\n",
    "varrbdd = varrbdd[:,0]"
   ]
  },
  {
   "cell_type": "code",
   "execution_count": 37,
   "metadata": {},
   "outputs": [
    {
     "data": {
      "text/plain": [
       "22183"
      ]
     },
     "execution_count": 37,
     "metadata": {},
     "output_type": "execute_result"
    }
   ],
   "source": [
    "len(varrbdd)"
   ]
  },
  {
   "cell_type": "markdown",
   "metadata": {},
   "source": [
    "### Tests anciens"
   ]
  },
  {
   "cell_type": "code",
   "execution_count": 8,
   "metadata": {
    "collapsed": true
   },
   "outputs": [],
   "source": [
    "i = 0\n",
    "pos = bdd[i,:4]\n",
    "ide, begin, end = [bdd[i,0],bdd[i,1],bdd[i,2]]\n",
    "seq = dict_fasta[ide][begin:end].format(\"fasta\").split('\\n')\n",
    "pos[0] = traduire(seq[1]+seq[2],bdd[i,8])\n",
    "ide, begin, end = [bdd[i,3],bdd[i,4],bdd[i,5]]\n",
    "seq = dict_fasta[ide][begin:end].format(\"fasta\").split('\\n')\n",
    "pos[1] = traduire(seq[1]+seq[2],bdd[i,9])\n",
    "w = len(pos[0])\n",
    "pos[2] = np.array(RNA.pfl_fold_up(pos[0],1,w,w))[1:,1]\n",
    "pos[3] = np.array(RNA.pfl_fold_up(pos[1],1,101,101))[1:,1]"
   ]
  },
  {
   "cell_type": "code",
   "execution_count": 34,
   "metadata": {},
   "outputs": [
    {
     "data": {
      "text/plain": [
       "'agggggaacgcuggccucugaaacuagcucugggaccggggu'"
      ]
     },
     "execution_count": 34,
     "metadata": {},
     "output_type": "execute_result"
    }
   ],
   "source": [
    "pos[0][31:73]"
   ]
  },
  {
   "cell_type": "code",
   "execution_count": 32,
   "metadata": {},
   "outputs": [
    {
     "data": {
      "text/plain": [
       "'uccuccugcauucaaccgugcag'"
      ]
     },
     "execution_count": 32,
     "metadata": {},
     "output_type": "execute_result"
    }
   ],
   "source": [
    "pos[1][40:63]"
   ]
  },
  {
   "cell_type": "code",
   "execution_count": 26,
   "metadata": {},
   "outputs": [
    {
     "data": {
      "text/plain": [
       "'acgugccaacuuacguccuccucaa'"
      ]
     },
     "execution_count": 26,
     "metadata": {},
     "output_type": "execute_result"
    }
   ],
   "source": [
    "def rev(s):\n",
    "    t=''\n",
    "    for i in s:\n",
    "        t = i + t\n",
    "    return t\n",
    "rev('aacuccuccugcauucaaccgugca')"
   ]
  },
  {
   "cell_type": "markdown",
   "metadata": {},
   "source": [
    "### Création base"
   ]
  },
  {
   "cell_type": "code",
   "execution_count": null,
   "metadata": {
    "collapsed": true
   },
   "outputs": [],
   "source": [
    "bdd=varrbdd\n",
    "varrbdd=[]"
   ]
  },
  {
   "cell_type": "code",
   "execution_count": 40,
   "metadata": {
    "collapsed": true
   },
   "outputs": [],
   "source": [
    "writer = csv.writer(open(\"genomes/positifs_m-m.csv\", 'w',newline=''),delimiter=\"\\t\")\n",
    "\n",
    "for i in range(len(bdd)):\n",
    "    pos = bdd[i,:2] # 4 si structures secondaires\n",
    "    ide, begin, end = [bdd[i,0],bdd[i,1],bdd[i,2]]\n",
    "    pos[0] = traduire(dict_fasta[ide][begin:end].format(\"fasta\").split('\\n')[1],bdd[i,8])\n",
    "    ide, begin, end = [bdd[i,3],bdd[i,4],bdd[i,5]]\n",
    "    pos[1] = traduire(dict_fasta[ide][begin:end].format(\"fasta\").split('\\n')[1],bdd[i,9])\n",
    "    #w = len(pos[0])\n",
    "    #pos[2] = np.array(RNA.pfl_fold_up(pos[0],1,w,w))[1:,1]\n",
    "    #w = len(pos[1])\n",
    "    #pos[3] = np.array(RNA.pfl_fold_up(pos[1],1,w,w))[1:,1]\n",
    "    writer.writerow(pos)        \n"
   ]
  },
  {
   "cell_type": "code",
   "execution_count": 43,
   "metadata": {},
   "outputs": [
    {
     "name": "stderr",
     "output_type": "stream",
     "text": [
      "/media/DATA/anaconda3/envs/keras/lib/python3.6/site-packages/IPython/core/interactiveshell.py:2698: DtypeWarning: Columns (1,2,4,5) have mixed types. Specify dtype option on import or set low_memory=False.\n",
      "  interactivity=interactivity, compiler=compiler, result=result)\n"
     ]
    },
    {
     "name": "stdout",
     "output_type": "stream",
     "text": [
      "37385\n"
     ]
    }
   ],
   "source": [
    "bdd = pd.read_csv(\"rise_human_transcriptome.csv\", sep = \"\\t\",header=None)\n",
    "arrbdd = np.array(bdd)\n",
    "\n",
    "# Ne garder que les interactions miRNA - mRNA\n",
    "arg_mi = np.argwhere(arrbdd[:,14]=='protein_coding')[:,0]\n",
    "arg_m = np.argwhere(arrbdd[:,15]=='protein_coding')[:,0]\n",
    "args = [k for k in arg_mi if k in arg_m]\n",
    "args = np.array(args)\n",
    "arrbdd = arrbdd[args]\n",
    "\n",
    "#enlever les chromosomes M\n",
    "arg_sansM = np.argwhere((arrbdd[:,0] != 'chrM') & (arrbdd[:,3] != 'chrM'))\n",
    "arrbdd = arrbdd[arg_sansM[:,0]]\n",
    "#enlever les champs vides\n",
    "arg_sansM = np.argwhere((arrbdd[:,1] != '.') & (arrbdd[:,2] != '.') & (arrbdd[:,4] != '.') & (arrbdd[:,5] != '.') & (arrbdd[:,0] != '.') & (arrbdd[:,3] != '.') & (arrbdd[:,8] != '.') & (arrbdd[:,9] != '.'))\n",
    "varrbdd = arrbdd[arg_sansM[:,0]]\n",
    "\n",
    "\n",
    "#changement strand\n",
    "for i,el in enumerate(varrbdd[:,8]):\n",
    "    if varrbdd[i,8] == '+':\n",
    "        varrbdd[i,8] = True\n",
    "    else:\n",
    "        varrbdd[i,8] = False\n",
    "\n",
    "for i,el in enumerate(varrbdd[:,9]):\n",
    "    if varrbdd[i,9] == '+':\n",
    "        varrbdd[i,9] = True\n",
    "    else:\n",
    "        varrbdd[i,9] = False\n",
    "arg_sansM=[]\n",
    "arrbdd=[]\n",
    "bdd=[]\n",
    "\n",
    "for i,el in enumerate(varrbdd[:,1]):\n",
    "        varrbdd[i,1] = int(varrbdd[i,1])\n",
    "        varrbdd[i,2] = int(varrbdd[i,2])\n",
    "\n",
    "varrbdd = varrbdd[np.argwhere(varrbdd[:,2]-varrbdd[:,1] <= 30)]\n",
    "\n",
    "varrbdd = varrbdd[:,0]\n",
    "\n",
    "for i,el in enumerate(varrbdd[:,4]):\n",
    "        varrbdd[i,4] = int(varrbdd[i,4])\n",
    "        varrbdd[i,5] = int(varrbdd[i,5])\n",
    "\n",
    "varrbdd = varrbdd[np.argwhere(varrbdd[:,5]-varrbdd[:,4] <= 30)]\n",
    "\n",
    "varrbdd = varrbdd[:,0]"
   ]
  },
  {
   "cell_type": "code",
   "execution_count": 45,
   "metadata": {},
   "outputs": [
    {
     "data": {
      "text/plain": [
       "22183"
      ]
     },
     "execution_count": 45,
     "metadata": {},
     "output_type": "execute_result"
    }
   ],
   "source": [
    "len(varrbdd)"
   ]
  },
  {
   "cell_type": "code",
   "execution_count": 46,
   "metadata": {
    "collapsed": true
   },
   "outputs": [],
   "source": [
    "bdd=varrbdd\n",
    "varrbdd=[]"
   ]
  },
  {
   "cell_type": "code",
   "execution_count": 47,
   "metadata": {
    "collapsed": true
   },
   "outputs": [],
   "source": [
    "writer = csv.writer(open(\"genomes/negatifs_m-m.csv\", 'w',newline=''),delimiter=\"\\t\")\n",
    "\n",
    "for i in range(len(bdd)): \n",
    "    neg = bdd[i,:2]\n",
    "    ide, begin, end = [bdd[i,0],bdd[i,1]+30,bdd[i,2]+30]\n",
    "    neg[0] = traduire(dict_fasta[ide][begin:end].format(\"fasta\").split('\\n')[1],bdd[i,8])\n",
    "    ide, begin, end = [bdd[i,3], bdd[i,4]+30, bdd[i,5]+30]\n",
    "    neg[1] = traduire(dict_fasta[ide][begin:end].format(\"fasta\").split('\\n')[1],bdd[i,9])\n",
    "    #w = len(neg[0])\n",
    "    #neg[2] = np.array(RNA.pfl_fold_up(neg[0],1,w,w))[1:,1]\n",
    "    #neg[3] = np.array(RNA.pfl_fold_up(neg[1],1,101,101))[1:,1]\n",
    "    writer.writerow(neg)"
   ]
  },
  {
   "cell_type": "markdown",
   "metadata": {},
   "source": [
    "### Récupération et vérification des bases de données (exécuter à partir d'ici pour l'apprentissage)"
   ]
  },
  {
   "cell_type": "markdown",
   "metadata": {},
   "source": [
    "### Réseau de neurones basé sur iDeep"
   ]
  },
  {
   "cell_type": "code",
   "execution_count": 6,
   "metadata": {},
   "outputs": [
    {
     "name": "stderr",
     "output_type": "stream",
     "text": [
      "/media/DATA/anaconda3/envs/keras/lib/python3.6/site-packages/h5py/__init__.py:36: FutureWarning: Conversion of the second argument of issubdtype from `float` to `np.floating` is deprecated. In future, it will be treated as `np.float64 == np.dtype(float).type`.\n",
      "  from ._conv import register_converters as _register_converters\n",
      "Using Theano backend.\n"
     ]
    }
   ],
   "source": [
    "import keras\n",
    "from keras.models import Sequential\n",
    "from keras.layers.core import Dense, Dropout, Activation, Flatten\n",
    "from keras.layers import Concatenate, concatenate\n",
    "from keras.layers.normalization import BatchNormalization\n",
    "from keras.layers.advanced_activations import PReLU\n",
    "from keras.utils import np_utils, generic_utils\n",
    "from keras.optimizers import SGD, RMSprop, Adadelta, Adagrad, Adam\n",
    "from keras.layers.recurrent import LSTM\n",
    "from keras.layers.embeddings import Embedding\n",
    "from keras.layers.convolutional import Conv2D, MaxPooling2D,Conv1D, MaxPooling1D"
   ]
  },
  {
   "cell_type": "code",
   "execution_count": 7,
   "metadata": {},
   "outputs": [
    {
     "name": "stderr",
     "output_type": "stream",
     "text": [
      "/media/DATA/anaconda3/envs/keras/lib/python3.6/site-packages/sklearn/cross_validation.py:41: DeprecationWarning: This module was deprecated in version 0.18 in favor of the model_selection module into which all the refactored classes and functions are moved. Also note that the interface of the new CV iterators are different from that of this module. This module will be removed in 0.20.\n",
      "  \"This module will be removed in 0.20.\", DeprecationWarning)\n",
      "/media/DATA/anaconda3/envs/keras/lib/python3.6/site-packages/sklearn/grid_search.py:42: DeprecationWarning: This module was deprecated in version 0.18 in favor of the model_selection module into which all the refactored classes and functions are moved. This module will be removed in 0.20.\n",
      "  DeprecationWarning)\n"
     ]
    }
   ],
   "source": [
    "from keras.models import model_from_config\n",
    "from keras import regularizers\n",
    "from keras.callbacks import ModelCheckpoint, EarlyStopping\n",
    "from keras.constraints import maxnorm\n",
    "from keras.models import load_model\n",
    "#from keras.optimizers import kl_divergence\n",
    "from sklearn import svm, grid_search\n",
    "from sklearn.preprocessing import LabelEncoder\n",
    "from sklearn.preprocessing import StandardScaler, MinMaxScaler\n",
    "from sklearn.cross_validation import train_test_split\n",
    "from sklearn.calibration import CalibratedClassifierCV\n",
    "from sklearn.cross_validation import StratifiedKFold\n",
    "from sklearn.linear_model import LogisticRegression\n",
    "from sklearn.metrics import roc_curve, auc\n",
    "import numpy as np\n",
    "\n",
    "import random\n",
    "import gzip\n",
    "from sklearn import svm\n",
    "from sklearn.svm import LinearSVC\n",
    "from sklearn.ensemble import RandomForestClassifier\n",
    "from sklearn.decomposition import PCA\n",
    "from sklearn import metrics\n",
    "from sklearn.metrics import roc_auc_score\n",
    "from sklearn.cross_validation import train_test_split\n",
    "from sklearn.grid_search import GridSearchCV\n",
    "from sklearn.externals import joblib \n",
    "from scipy import sparse\n",
    "import pdb\n",
    "from math import  sqrt\n",
    "from sklearn.metrics import roc_curve, auc\n",
    "import theano\n",
    "import subprocess as sp\n",
    "import scipy.stats as stats\n",
    "import argparse\n",
    "\n",
    "from keras.layers import Merge"
   ]
  },
  {
   "cell_type": "code",
   "execution_count": 8,
   "metadata": {
    "collapsed": true
   },
   "outputs": [],
   "source": [
    "def calculate_performance(test_num, pred_y,  labels):\n",
    "    tp = 0\n",
    "    fp = 0\n",
    "    tn = 0\n",
    "    fn = 0\n",
    "    for index in range(test_num):\n",
    "        if labels[index] ==1:\n",
    "            if labels[index] == pred_y[index]:\n",
    "                tp = tp +1\n",
    "            else:\n",
    "                fn = fn + 1\n",
    "        else:\n",
    "            if labels[index] == pred_y[index]:\n",
    "                tn = tn +1\n",
    "            else:\n",
    "                fp = fp + 1               \n",
    "            \n",
    "    acc = float(tp + tn)/test_num\n",
    "    precision = float(tp)/(tp+ fp)\n",
    "    sensitivity = float(tp)/ (tp+fn)\n",
    "    specificity = float(tn)/(tn + fp)\n",
    "    MCC = float(tp*tn-fp*fn)/(np.sqrt((tp+fp)*(tp+fn)*(tn+fp)*(tn+fn)))\n",
    "    return acc, precision, sensitivity, specificity, MCC \n"
   ]
  },
  {
   "cell_type": "code",
   "execution_count": 9,
   "metadata": {
    "collapsed": true
   },
   "outputs": [],
   "source": [
    "def clean(seq):\n",
    "    seq = seq.split('\\n')\n",
    "    seq2 = ''\n",
    "    for j in seq:\n",
    "        seq2 = seq2 + j\n",
    "    seq2 = seq2[2:len(seq2)-1]\n",
    "    seq2 = seq2.split(' ')\n",
    "    #print(seq2)\n",
    "    seq3=[]\n",
    "    for j in seq2:\n",
    "        #print(j)\n",
    "        if j=='':\n",
    "            a=0\n",
    "        else:\n",
    "            seq3.append(float(j))\n",
    "    return seq3\n",
    "\n",
    "verif = pd.read_csv(\"genomes/negatifs_m-m.csv\", sep = \"\\t\",header=None)\n",
    "verif = np.array(verif)\n",
    "for i in range(len(verif)):\n",
    "    for j in range(2):\n",
    "        if len(verif[i,j]) <= 15:\n",
    "            print(i,\"erreur\")\n",
    "            \n",
    "\n",
    "neg = verif\n",
    "\n",
    "verif = pd.read_csv(\"genomes/positifs_m-m.csv\", sep = \"\\t\",header=None)  \n",
    "verif = np.array(verif)\n",
    "for i in range(len(verif)):\n",
    "    for j in range(2):\n",
    "        if len(verif[i,j]) <= 15:\n",
    "            print(i,\"erreur\")\n",
    "            \n",
    "pos = verif\n",
    "verif = []\n",
    "bdd = np.concatenate((pos,neg))\n",
    "pos = []\n",
    "neg = []\n",
    "labels = np.zeros((len(bdd),1))\n",
    "\n",
    "bdd = np.concatenate((bdd,labels),axis=1)\n",
    "for i in range(int(len(bdd)/2)):\n",
    "    bdd[i,2]=1\n",
    "bdd = bdd[:int(len(bdd)*0.9)]\n",
    "labels=[]"
   ]
  },
  {
   "cell_type": "code",
   "execution_count": 11,
   "metadata": {
    "collapsed": true
   },
   "outputs": [],
   "source": [
    "nb_train = 20000\n",
    "nb_val = 500\n",
    "nb_test = 1000"
   ]
  },
  {
   "cell_type": "code",
   "execution_count": 10,
   "metadata": {
    "collapsed": true
   },
   "outputs": [],
   "source": [
    "# shuffle total\n",
    "\n",
    "indices = np.arange(len(bdd))\n",
    "shuffle(indices)\n",
    "bdd = bdd[indices]\n",
    "indices=[]\n",
    "\n",
    "# \n",
    "l = len(bdd)\n",
    "matrice = np.zeros((l,30,30,3)) #4\n",
    "\n",
    "for i in range(l):\n",
    "    seq1 = bdd[i,0]\n",
    "    seq2 = bdd[i,1]\n",
    "    for j in range(len(seq1)):\n",
    "        for k in range(len(seq2)):\n",
    "            if (seq1[j]=='a' and seq2[k]=='u') or (seq1[j]=='u' and seq2[k]=='a'):\n",
    "                matrice[i,j,k,0] = 1\n",
    "            elif (seq1[j]=='g' and seq2[k]=='c') or (seq1[j]=='c' and seq2[k]=='g'):\n",
    "                matrice[i,j,k,1] = 1\n",
    "            elif (seq1[j]=='g' and seq2[k]=='u') or (seq1[j]=='u' and seq2[k]=='g'):\n",
    "                matrice[i,j,k,2] = 1\n",
    "    "
   ]
  },
  {
   "cell_type": "code",
   "execution_count": 12,
   "metadata": {
    "collapsed": true
   },
   "outputs": [],
   "source": [
    "matrice_train = matrice[:nb_train]\n",
    "matrice_val = matrice[nb_train:nb_train+nb_val]\n",
    "matrice_test = matrice[-nb_test:]\n",
    "labels = bdd[:,2]\n",
    "\n",
    "y = labels[:nb_train]\n",
    "y = keras.utils.np_utils.to_categorical(y,2)\n",
    "val_y = labels[nb_train:nb_train+nb_val]\n",
    "val_y = keras.utils.np_utils.to_categorical(val_y,2)\n",
    "true_y = labels[-nb_test:]\n",
    "bdd = []"
   ]
  },
  {
   "cell_type": "code",
   "execution_count": 133,
   "metadata": {
    "collapsed": true
   },
   "outputs": [],
   "source": [
    "# alternative\n",
    "l = len(bdd)\n",
    "m = int(l/2)\n",
    "matrice = np.zeros((l,30,30,3)) #4\n",
    "\n",
    "for i in range(l):\n",
    "    seq1 = bdd[i,0]\n",
    "    seq2 = bdd[i,1]\n",
    "    for j in range(len(seq1)):\n",
    "        for k in range(len(seq2)):\n",
    "            if (seq1[j]=='a' and seq2[k]=='u') or (seq1[j]=='u' and seq2[k]=='a'):\n",
    "                matrice[i,j,k,0] = 1\n",
    "            elif (seq1[j]=='g' and seq2[k]=='c') or (seq1[j]=='c' and seq2[k]=='g'):\n",
    "                matrice[i,j,k,1] = 1\n",
    "            elif (seq1[j]=='g' and seq2[k]=='u') or (seq1[j]=='u' and seq2[k]=='g'):\n",
    "                matrice[i,j,k,2] = 1\n",
    "\n",
    "prop_1 = 0.6    # proportion d'exemples positifs dans le train\n",
    "\n",
    "ind_p = np.arange(m)\n",
    "shuffle(ind_p)\n",
    "indices_train = ind_p[:int(nb_train*prop_1)]\n",
    "indices_val = ind_p[int(nb_train*prop_1):int(nb_train*prop_1)+int(0.5*nb_val)]\n",
    "indices_test = ind_p[-int(nb_test/2):]\n",
    "\n",
    "ind_n = np.arange(m) + m\n",
    "shuffle(ind_n)\n",
    "ind_train_neg = ind_n[:int(nb_train*(1-prop_1))]\n",
    "ind_val_neg = ind_n[int(nb_train*(1-prop_1)):int(nb_train*(1-prop_1))+int(0.5*nb_val)]\n",
    "ind_test_neg = ind_n[-int(nb_test/2)]\n",
    "\n",
    "ind_n = []\n",
    "ind_p = []\n",
    "\n",
    "indices_train = np.concatenate((indices_train,ind_train_neg))\n",
    "shuffle(indices_train)\n",
    "ind_train_neg = []\n",
    "indices_val = np.concatenate((indices_val,ind_val_neg))\n",
    "shuffle(indices_val)\n",
    "ind_val_neg = []\n",
    "indices_test = np.concatenate((indices_test,ind_test_neg))\n",
    "shuffle(indices_test)\n",
    "ind_test_neg = []\n",
    "\n",
    "matrice_train = matrice[indices_train]\n",
    "matrice_val = matrice[indices_val]\n",
    "matrice_test = matrice[indices_test]\n",
    "\n",
    "#matrice_train = np.concatenate((matrice[:int(nb_train*0.7)],matrice[int(l/2):int(l/2)+int(nb_train*0.3)]))\n",
    "#matrice_val = np.concatenate((matrice[:nb_train+int(nb_val*0.5)],matrice[int(l/2):nb_train+int(l/2)+int(nb_val*0.5)]))\n",
    "#matrice_test = np.concatenate((matrice[int(l/2)-nb_test:int(l/2)],matrice[-nb_test:]))\n",
    "\n",
    "labels = bdd[:,2]\n",
    "\n",
    "y = labels[indices_train]\n",
    "y = keras.utils.np_utils.to_categorical(y,2)\n",
    "val_y = labels[indices_val]\n",
    "val_y = keras.utils.np_utils.to_categorical(val_y,2)\n",
    "true_y = labels[indices_test]\n",
    "bdd = []     "
   ]
  },
  {
   "cell_type": "code",
   "execution_count": 13,
   "metadata": {},
   "outputs": [
    {
     "data": {
      "text/plain": [
       "array([[1., 0., 0.],\n",
       "       [0., 0., 0.],\n",
       "       [0., 0., 0.],\n",
       "       [0., 0., 0.],\n",
       "       [0., 0., 0.],\n",
       "       [0., 0., 0.],\n",
       "       [1., 0., 0.],\n",
       "       [0., 0., 0.],\n",
       "       [0., 0., 0.],\n",
       "       [1., 0., 0.],\n",
       "       [1., 0., 0.],\n",
       "       [1., 0., 0.],\n",
       "       [0., 0., 0.],\n",
       "       [0., 0., 0.],\n",
       "       [0., 0., 0.],\n",
       "       [0., 0., 0.],\n",
       "       [0., 0., 0.],\n",
       "       [0., 0., 0.],\n",
       "       [0., 0., 0.],\n",
       "       [0., 0., 0.],\n",
       "       [1., 0., 0.],\n",
       "       [0., 0., 0.],\n",
       "       [0., 0., 0.],\n",
       "       [1., 0., 0.],\n",
       "       [0., 0., 0.],\n",
       "       [0., 0., 0.],\n",
       "       [0., 0., 0.],\n",
       "       [0., 0., 0.],\n",
       "       [0., 0., 0.],\n",
       "       [0., 0., 0.]])"
      ]
     },
     "execution_count": 13,
     "metadata": {},
     "output_type": "execute_result"
    }
   ],
   "source": [
    "matrice_train[1,1]"
   ]
  },
  {
   "cell_type": "code",
   "execution_count": 14,
   "metadata": {
    "collapsed": true
   },
   "outputs": [],
   "source": [
    "def merge_networks_train_predict():\n",
    "    \n",
    "    print('training', nb_train)\n",
    "    \n",
    "    hid = 32\n",
    "    \n",
    "    tableau_net =  get_cnn_network()         \n",
    "    \n",
    "    #y, encoder = preprocess_labels(training_label)\n",
    "    #val_y, encoder = preprocess_labels(validation_label, encoder = encoder)\n",
    "       \n",
    "    \n",
    "    model = Sequential()\n",
    "    model.add(tableau_net)\n",
    "    model.add(BatchNormalization())\n",
    "    \n",
    "    model.add(Dropout(0.5))\n",
    "    print(hid)\n",
    "    model.add(Dense(2, input_shape=(hid,)))\n",
    "    model.add(Activation('softmax'))\n",
    "    \n",
    "    #sgd = SGD(lr=0.01, decay=1e-6, momentum=0.9, nesterov=True)\n",
    "    model.compile(loss='categorical_crossentropy', optimizer='rmsprop')\n",
    "    \n",
    "    \n",
    "    #checkpointer = ModelCheckpoint(filepath=\"models/bestmodel.hdf5\", verbose=0, save_best_only=True)\n",
    "    earlystopper = EarlyStopping(monitor='val_loss', patience=5, verbose=0)\n",
    "    #validation_data=(np.transpose(validmat['validxdata'],axes=(0,2,1)), validmat['validdata']), callbacks=[checkpointer,earlystopper]\n",
    "    print('model training')\n",
    "    model.fit(matrice_train, y, batch_size=32, epochs=25, verbose=0, validation_data=(matrice_val, val_y), callbacks=[earlystopper])\n",
    "    \n",
    "    # test   \n",
    "    \n",
    "    print('predicting')\n",
    "    \n",
    "        \n",
    "    predictions = model.predict_proba(matrice_test)[:,1]\n",
    "    print(predictions)\n",
    "    for i,nulll in enumerate(predictions):\n",
    "        predictions[i] = round(predictions[i])\n",
    "    print(predictions,true_y)\n",
    "    perfs = calculate_performance(len(predictions), predictions, true_y)\n",
    "    print(\"acc : \", perfs[0])\n",
    "    print(\"precision : \", perfs[1])\n",
    "    print(\"sensitivity : \", perfs[2])\n",
    "    print(\"specificity : \", perfs[3])\n",
    "    print(\"MCC : \", perfs[4])\n",
    "\n",
    "    \n",
    "    return model"
   ]
  },
  {
   "cell_type": "code",
   "execution_count": 16,
   "metadata": {},
   "outputs": [
    {
     "name": "stdout",
     "output_type": "stream",
     "text": [
      "training 20000\n",
      "configure cnn network\n",
      "(None, 23, 23, 128)\n",
      "(None, 6, 6, 32)\n",
      "32\n",
      "model training\n",
      "predicting\n",
      "[9.60029602e-01 6.60396814e-01 4.70581204e-01 8.54571834e-02\n",
      " 5.08384883e-01 9.80807900e-01 9.38623667e-01 9.66124594e-01\n",
      " 9.71181631e-01 2.67716199e-01 8.88967037e-01 9.18532848e-01\n",
      " 9.71960604e-01 2.10281506e-01 3.30641359e-01 8.21014404e-01\n",
      " 3.73472273e-01 8.66120934e-01 1.11460276e-01 2.13824108e-01\n",
      " 2.07870185e-01 1.01633981e-01 1.04260184e-01 9.62626785e-02\n",
      " 9.26189542e-01 8.54132548e-02 6.32947028e-01 2.86731124e-01\n",
      " 9.64920521e-01 6.12917483e-01 9.64563370e-01 5.06604075e-01\n",
      " 3.84419590e-01 8.21527719e-01 1.10484086e-01 6.62164927e-01\n",
      " 4.70311970e-01 8.75177205e-01 6.53212011e-01 8.98903131e-01\n",
      " 9.15468931e-01 7.23839775e-02 1.77150860e-01 6.47880137e-01\n",
      " 1.84435453e-02 8.81997287e-01 6.79534495e-01 8.52999464e-03\n",
      " 8.02689850e-01 9.93079066e-01 8.36860180e-01 7.47546554e-01\n",
      " 8.83082271e-01 8.08321059e-01 2.68528521e-01 5.57460546e-01\n",
      " 8.19684267e-01 9.70277727e-01 7.46810138e-01 9.49250758e-01\n",
      " 4.54178825e-02 7.36818731e-01 7.32491970e-01 2.21869886e-01\n",
      " 9.67871308e-01 8.95262718e-01 1.48462458e-02 3.82430941e-01\n",
      " 7.84856796e-01 2.99370348e-01 4.37773675e-01 7.30162859e-01\n",
      " 8.56064856e-01 3.78545642e-01 8.47560167e-01 9.33058798e-01\n",
      " 6.26039743e-01 7.87710607e-01 5.30350268e-01 3.15548092e-01\n",
      " 1.16745248e-01 5.75823307e-01 6.75460756e-01 2.31340095e-01\n",
      " 7.47731030e-01 9.74405587e-01 8.90230954e-01 9.29518342e-02\n",
      " 9.19103563e-01 6.05005734e-02 3.93519491e-01 6.93191469e-01\n",
      " 5.32976329e-01 8.62700105e-01 3.10874969e-01 9.68939722e-01\n",
      " 2.43136600e-01 2.10078470e-02 8.01161110e-01 7.39807487e-01\n",
      " 6.97830915e-01 4.30201180e-04 6.44758880e-01 6.83563471e-01\n",
      " 9.29934978e-01 9.36195374e-01 5.76166548e-02 9.62033868e-01\n",
      " 6.68522358e-01 1.73299119e-01 8.11085105e-01 6.16693318e-01\n",
      " 3.76350403e-01 9.06799257e-01 9.47450221e-01 3.14335972e-01\n",
      " 1.86246246e-01 8.99862707e-01 8.14529955e-01 7.12700188e-01\n",
      " 7.76043177e-01 7.37768263e-02 5.50187647e-01 9.78047490e-01\n",
      " 3.64104092e-01 3.46440502e-04 5.10448039e-01 8.96431804e-01\n",
      " 9.42579925e-01 6.49924219e-01 9.42207396e-01 9.47061658e-01\n",
      " 9.90200162e-01 4.68585908e-01 5.68575144e-01 8.03453326e-01\n",
      " 5.86898685e-01 4.51843232e-01 5.84808886e-01 8.61624300e-01\n",
      " 8.39056492e-01 2.40693077e-01 5.42690516e-01 6.43576145e-01\n",
      " 9.22715962e-01 6.70685112e-01 3.51609170e-01 4.71365243e-01\n",
      " 4.91206676e-01 1.61983892e-01 7.98060954e-01 8.84154320e-01\n",
      " 5.59343219e-01 6.98851228e-01 8.91639829e-01 7.98169494e-01\n",
      " 5.32267272e-01 9.94617224e-01 4.61742818e-01 3.66408348e-01\n",
      " 5.29784679e-01 1.46778952e-02 8.10722291e-01 1.92030191e-01\n",
      " 2.66268283e-01 5.74023664e-01 5.59921488e-02 9.67291117e-01\n",
      " 3.26978534e-01 9.46794987e-01 7.75351152e-02 2.15295166e-01\n",
      " 1.28586248e-01 9.49911952e-01 8.88194263e-01 7.07268834e-01\n",
      " 5.94708025e-01 2.25355804e-01 9.82712865e-01 3.44477773e-01\n",
      " 4.22034413e-01 4.89612252e-01 1.04960119e-02 8.91508460e-01\n",
      " 8.47531796e-01 3.39073798e-04 7.28158832e-01 5.36988676e-01\n",
      " 7.90668190e-01 9.20298457e-01 7.97969162e-01 9.64925587e-01\n",
      " 5.78280389e-02 4.54963028e-01 1.30020842e-01 5.82575440e-01\n",
      " 3.82429123e-01 2.96633601e-01 2.29737386e-01 8.34835410e-01\n",
      " 2.93765634e-01 7.83090740e-02 3.62484246e-01 9.77684140e-01\n",
      " 3.79993826e-01 3.79438937e-01 8.62947583e-01 1.96779847e-01\n",
      " 3.96370627e-02 2.60178745e-02 4.27449197e-01 5.13551295e-01\n",
      " 9.47668031e-02 7.25648046e-01 1.54463023e-01 1.40423164e-01\n",
      " 8.47251475e-01 2.36307889e-01 8.02637517e-01 3.32715720e-01\n",
      " 5.24754882e-01 9.57505763e-01 4.39724952e-01 2.89026111e-01\n",
      " 1.41939983e-01 7.59247169e-02 5.51294148e-01 8.56364548e-01\n",
      " 8.83821964e-01 7.34224737e-01 6.53485596e-01 5.42387784e-01\n",
      " 4.64497097e-02 3.40674698e-01 2.40371510e-01 7.59543255e-02\n",
      " 2.60200560e-01 7.28891313e-01 5.63959360e-01 8.37836325e-01\n",
      " 9.49082434e-01 9.50545013e-01 9.99907613e-01 8.02104652e-01\n",
      " 5.88855863e-01 6.69995785e-01 3.71891409e-01 6.27035081e-01\n",
      " 8.21409747e-02 9.07206297e-01 3.77728105e-01 5.59548020e-01\n",
      " 9.99847472e-01 4.50524449e-01 6.52650177e-01 4.26483691e-01\n",
      " 8.08503807e-01 8.04024518e-01 6.25130460e-02 6.29235685e-01\n",
      " 7.32570171e-01 4.58288118e-02 7.83946037e-01 1.37433261e-01\n",
      " 2.96239138e-01 7.99540162e-01 2.85108596e-01 6.67044878e-01\n",
      " 2.97869772e-01 8.54300201e-01 7.86240697e-01 3.25100273e-01\n",
      " 4.66487408e-01 2.53304332e-01 1.91590652e-01 1.03786163e-01\n",
      " 6.39506161e-01 9.90434110e-01 7.44129956e-01 9.58316922e-01\n",
      " 9.85143423e-01 9.56993282e-01 2.74119992e-02 4.72606331e-01\n",
      " 8.45143676e-01 1.46172926e-01 3.26576024e-01 5.14675602e-02\n",
      " 6.00534528e-02 8.43942225e-01 4.31724072e-01 5.17741442e-01\n",
      " 8.11479568e-01 8.28601420e-01 9.21610177e-01 7.76802525e-02\n",
      " 6.97600961e-01 8.83187354e-02 7.96296299e-01 4.66853768e-01\n",
      " 9.58042800e-01 5.68442338e-04 7.04577982e-01 9.99923408e-01\n",
      " 5.54875314e-01 4.67740893e-02 8.97529185e-01 7.83131123e-01\n",
      " 5.15016615e-01 4.06131208e-01 6.61083460e-01 6.27039280e-03\n",
      " 9.68401730e-02 9.69394207e-01 6.59399986e-01 4.08219665e-01\n",
      " 7.48240173e-01 3.66599172e-01 9.38497722e-01 4.94171977e-01\n",
      " 3.66652787e-01 8.02591622e-01 2.79725730e-01 5.84123254e-01\n",
      " 3.16802919e-01 4.40577567e-01 1.86562523e-01 5.63973725e-01\n",
      " 8.24054718e-01 8.56094539e-01 7.69035995e-01 1.47662297e-01\n",
      " 9.80808794e-01 4.24945265e-01 8.98906052e-01 2.64031678e-01\n",
      " 7.57367790e-01 1.12122804e-01 2.90633738e-01 9.76779997e-01\n",
      " 9.85745192e-01 9.09613967e-01 8.68388772e-01 5.29961228e-01\n",
      " 9.47840035e-01 6.43023849e-01 6.22667611e-01 3.10661793e-01\n",
      " 9.12749469e-01 8.43387365e-01 4.93400902e-01 7.51776278e-01\n",
      " 9.99495029e-01 4.04962122e-01 8.11313391e-01 8.74461591e-01\n",
      " 5.16089082e-01 9.41626191e-01 9.66825426e-01 6.80836678e-01\n",
      " 1.32725298e-01 4.94968712e-01 7.20113695e-01 5.16196549e-01\n",
      " 9.29170728e-01 7.00281203e-01 2.17534095e-01 2.89105803e-01\n",
      " 9.47824001e-01 5.58887839e-01 8.35617423e-01 3.93921971e-01\n",
      " 1.85414597e-01 6.47935748e-01 7.49034047e-01 7.54775822e-01\n",
      " 7.60786772e-01 2.71149009e-01 7.61582375e-01 1.86382473e-01\n",
      " 7.50419736e-01 7.15330720e-01 1.74679890e-01 5.19496560e-01\n",
      " 4.54622298e-01 6.66898906e-01 6.18713439e-01 8.67673993e-01\n",
      " 1.16970740e-01 9.47083950e-01 2.98450381e-01 8.46129060e-01\n",
      " 8.81925106e-01 9.15567875e-01 4.75600183e-01 6.90110505e-01\n",
      " 1.39202833e-01 8.61817479e-01 5.32763600e-01 3.52626771e-01\n",
      " 5.12925506e-01 4.14207987e-02 8.59900057e-01 6.58871055e-01\n",
      " 5.04909933e-01 1.50439546e-01 8.67031634e-01 1.23296775e-01\n",
      " 8.43424737e-01 2.38616932e-02 9.43006098e-01 7.98570931e-01\n",
      " 3.56656075e-01 8.07073176e-01 8.46728623e-01 6.27641201e-01\n",
      " 7.97105372e-01 6.10273242e-01 1.29617322e-02 6.08445883e-01\n",
      " 2.70387173e-01 1.54018283e-01 7.35594034e-01 8.66539121e-01\n",
      " 8.93990517e-01 3.94520372e-01 9.73074794e-01 7.54491448e-01\n",
      " 5.86404145e-01 6.53125763e-01 9.97551382e-01 1.38925344e-01\n",
      " 4.57760125e-01 5.19300818e-01 8.90111566e-01 7.58584812e-02\n",
      " 2.74194330e-01 1.51075244e-01 5.09069324e-01 8.07326794e-01\n",
      " 9.95417476e-01 9.95902121e-01 1.35770097e-01 6.39295816e-01\n",
      " 9.55592096e-01 7.03758836e-01 3.30171794e-01 9.31329489e-01\n",
      " 9.66613710e-01 7.19093740e-01 5.02897978e-01 4.00273114e-01\n",
      " 9.99895036e-01 9.71861541e-01 2.28785574e-01 8.94161820e-01\n",
      " 6.03901446e-01 6.67466640e-01 8.32647920e-01 9.62117016e-02\n",
      " 5.66731811e-01 4.31064188e-01 6.45332456e-01 5.63774891e-02\n",
      " 5.02379984e-03 1.65765673e-01 3.11179571e-02 4.70077664e-01\n",
      " 6.50145948e-01 6.62275970e-01 2.28806421e-01 8.42249572e-01\n",
      " 1.29982410e-02 8.93418491e-01 9.85276103e-01 9.98019457e-01\n",
      " 1.68730542e-01 2.30107516e-01 7.18952000e-01 1.12562617e-02\n",
      " 9.51938808e-01 9.48854208e-01 1.90696016e-01 6.58195853e-01\n",
      " 8.52306545e-01 7.99509417e-03 9.96870100e-01 8.96097243e-01\n",
      " 8.90858650e-01 6.52541518e-01 9.26191390e-01 9.27605629e-01\n",
      " 9.79353309e-01 9.05945599e-01 6.16194129e-01 3.47362063e-03\n",
      " 5.68905056e-01 9.44571853e-01 7.93623030e-02 5.31129241e-01\n",
      " 5.19331396e-01 6.51755393e-01 9.73865569e-01 4.50981051e-01\n",
      " 6.46244407e-01 8.02388966e-01 8.57388556e-01 5.41735947e-01\n",
      " 4.16361779e-01 7.60269225e-01 9.45176482e-02 8.97519350e-01\n",
      " 8.67744088e-01 8.84150922e-01 8.16048205e-01 1.12455860e-01\n",
      " 7.70513892e-01 1.60907373e-01 5.00100374e-01 6.03097022e-01\n",
      " 8.27308774e-01 2.88674682e-01 8.65076840e-01 7.57165372e-01\n",
      " 8.22319567e-01 9.59240556e-01 4.45678860e-01 1.78010926e-01\n",
      " 2.67710239e-01 9.44752216e-01 1.97299078e-01 8.22040677e-01\n",
      " 5.88206768e-01 3.61537158e-01 4.33925867e-01 4.33304220e-01\n",
      " 1.54725820e-01 5.62225997e-01 7.72172153e-01 6.14040077e-01\n",
      " 6.03305958e-02 8.50399211e-02 6.96484506e-01 5.74427307e-01\n",
      " 3.40874285e-01 7.12504864e-01 3.60112309e-01 5.28649867e-01\n",
      " 4.40651208e-01 9.74337339e-01 2.57491320e-01 7.52879441e-01\n",
      " 7.88986325e-01 9.51670647e-01 6.97155595e-01 1.09367371e-01\n",
      " 1.15887269e-01 1.12465806e-01 7.70415962e-02 9.52204049e-01\n",
      " 1.25045225e-01 2.55194485e-01 2.74993837e-01 6.62941694e-01\n",
      " 9.96110439e-01 2.65748918e-01 3.00586373e-01 8.65552008e-01\n",
      " 3.57178360e-01 7.82246470e-01 3.48566502e-01 8.91962409e-01\n",
      " 9.63322699e-01 9.11286056e-01 3.04386634e-02 6.57412827e-01\n",
      " 9.89021540e-01 7.55692899e-01 8.86259496e-01 3.08504581e-01\n",
      " 7.65432715e-01 4.40589517e-01 8.14181983e-01 2.74917603e-01\n",
      " 6.16130173e-01 7.15781987e-01 2.67050922e-01 9.27090719e-02\n",
      " 5.10324761e-02 9.68550026e-01 8.36091042e-01 4.26767290e-01\n",
      " 5.46613634e-01 1.17329508e-02 9.73670065e-01 2.98015684e-01\n",
      " 6.47493184e-01 6.19970024e-01 8.34209442e-01 5.22902906e-01\n",
      " 4.03430641e-01 8.27039123e-01 7.57887483e-01 1.08635940e-01\n",
      " 7.82103777e-01 8.85612443e-02 8.47207978e-02 4.28154707e-01\n",
      " 9.68051374e-01 2.68041380e-02 9.67472315e-01 7.24373937e-01\n",
      " 7.63474584e-01 7.12550163e-01 2.43826598e-01 4.25417095e-01\n",
      " 9.01749264e-03 9.45267975e-01 1.74565464e-01 5.73956966e-01\n",
      " 1.49402112e-01 8.77309680e-01 7.50259399e-01 8.35759878e-01\n",
      " 4.99841481e-01 8.73540699e-01 7.51866877e-01 6.47003055e-02\n",
      " 9.86570179e-01 2.91299164e-01 2.15642080e-01 3.24261421e-03\n",
      " 1.05339147e-01 6.58854544e-01 9.80227649e-01 6.78765848e-02\n",
      " 5.34642696e-01 1.22784726e-01 5.92305101e-02 9.81380701e-01\n",
      " 2.64341861e-01 6.85282290e-01 9.88539994e-01 6.42445624e-01\n",
      " 5.97208261e-01 5.64373553e-01 5.72591841e-01 5.95834732e-01\n",
      " 9.91683304e-01 9.64359641e-01 2.28628412e-01 8.91239941e-01\n",
      " 9.12919343e-01 7.19473302e-01 7.27925539e-01 6.88301846e-02\n",
      " 9.47599828e-01 8.89665246e-01 9.48854625e-01 8.50826204e-01\n",
      " 3.13736051e-02 6.62156045e-01 9.22921672e-02 9.33019936e-01\n",
      " 6.45130575e-02 9.18059826e-01 6.70426548e-01 9.37786222e-01\n",
      " 5.33487201e-01 9.69549835e-01 1.60725653e-01 6.38638139e-01\n",
      " 2.32482672e-01 9.82209682e-01 9.24316406e-01 9.64373529e-01\n",
      " 7.92398274e-01 6.53956532e-01 3.50264549e-01 7.75355399e-01\n",
      " 4.36543941e-01 2.87697673e-01 9.64416802e-01 2.28568763e-02\n",
      " 5.54863274e-01 8.91392469e-01 6.22594416e-01 8.68780494e-01\n",
      " 3.81273538e-01 3.10995281e-01 3.58982772e-01 3.73903960e-01\n",
      " 4.31765288e-01 7.25943327e-01 3.36102515e-01 8.30552042e-01\n",
      " 9.72234011e-01 8.65783513e-01 6.01235211e-01 1.34795129e-01\n",
      " 9.35639501e-01 6.98889434e-01 9.18894649e-01 3.79002661e-01\n",
      " 7.79197693e-01 7.01930150e-02 9.54206169e-01 2.59739906e-01\n",
      " 3.03939283e-01 5.34951150e-01 3.34059358e-01 8.35843146e-01\n",
      " 9.99842286e-01 9.99217212e-01 1.16288334e-01 6.62225425e-01\n",
      " 8.89981151e-01 7.07389295e-01 6.62900746e-01 8.55732203e-01\n",
      " 1.63843378e-01 4.82793719e-01 7.76552975e-01 8.92788351e-01\n",
      " 7.03192413e-01 7.69419670e-01 7.70316899e-01 8.23724389e-01\n",
      " 1.97787046e-01 9.75015461e-01 4.00618434e-01 9.10563171e-01\n",
      " 9.50572491e-01 9.77178097e-01 7.12467849e-01 7.48616695e-01\n",
      " 9.88128245e-01 8.23798895e-01 1.50330484e-01 5.19835472e-01\n",
      " 5.72844505e-01 8.34482253e-01 3.43811959e-01 7.67585933e-01\n",
      " 9.42474544e-01 1.61412105e-01 6.15700901e-01 9.97919738e-01\n",
      " 8.15039396e-01 4.50062096e-01 9.97801423e-01 7.58148849e-01\n",
      " 8.79779816e-01 8.57367888e-02 4.10275996e-01 5.21892488e-01\n",
      " 5.39452732e-02 8.48879993e-01 2.10056245e-01 2.06466322e-03\n",
      " 5.72571516e-01 5.76256335e-01 6.70676053e-01 6.48802936e-01\n",
      " 7.69265592e-01 3.96074131e-02 7.96512887e-03 6.51708066e-01\n",
      " 2.85127580e-01 2.26538237e-02 1.33274868e-01 2.45386496e-01\n",
      " 5.09316921e-01 2.10785106e-01 4.78955001e-01 8.12621474e-01\n",
      " 1.86379105e-01 8.79504442e-01 6.20937765e-01 1.69345979e-02\n",
      " 3.63971055e-01 1.78764105e-01 9.77239072e-01 7.96831965e-01\n",
      " 9.53258753e-01 6.92731440e-01 4.39509004e-01 7.74581194e-01\n",
      " 5.80382168e-01 9.07059073e-01 8.85164380e-01 9.27302003e-01\n",
      " 6.85347319e-01 3.73684973e-01 2.49548942e-01 6.48818374e-01\n",
      " 7.23791659e-01 5.23472369e-01 1.23188645e-01 9.44744051e-01\n",
      " 6.69819355e-01 5.10875285e-01 7.42054343e-01 1.68254808e-01\n",
      " 2.40371510e-01 6.08187579e-02 9.79802132e-01 9.95879292e-01\n",
      " 9.39332128e-01 6.13934755e-01 8.01073074e-01 9.64251399e-01\n",
      " 8.26610267e-01 8.03158760e-01 1.54588655e-01 8.23586524e-01\n",
      " 6.55137599e-01 6.26803458e-01 2.14667350e-01 1.64460734e-01\n",
      " 1.73206598e-01 5.79018816e-02 8.28641474e-01 9.55316424e-01\n",
      " 9.11830366e-01 7.90047646e-01 8.81974638e-01 9.15162563e-01\n",
      " 8.19367647e-01 2.81537712e-01 2.67898683e-02 7.28204370e-01\n",
      " 5.10922730e-01 7.55343556e-01 7.47788608e-01 8.49128664e-01\n",
      " 9.99996424e-01 6.99353740e-02 1.87880039e-01 5.48320532e-01\n",
      " 5.63791454e-01 3.98875833e-01 5.38316727e-01 4.72070903e-01\n",
      " 1.54623622e-02 1.31122712e-02 8.85403156e-01 5.26057370e-02\n",
      " 2.79551595e-01 4.55601960e-01 6.64821923e-01 9.77554142e-01\n",
      " 5.24159312e-01 9.04565513e-01 2.96137750e-01 9.58156228e-01\n",
      " 1.51004285e-01 7.83420801e-01 7.86706090e-01 2.18041658e-01\n",
      " 4.64241803e-01 5.66281796e-01 8.62442493e-01 3.45468462e-01\n",
      " 6.85257390e-02 6.59527242e-01 5.29696457e-02 1.97434068e-01\n",
      " 6.68129146e-01 5.52440345e-01 9.14847970e-01 6.77448094e-01\n",
      " 1.81280002e-01 3.66155148e-01 4.29529905e-01 9.07506943e-01\n",
      " 7.43746608e-02 6.43431246e-01 8.47574353e-01 6.47574812e-02\n",
      " 1.75195694e-01 1.08192042e-04 2.67522693e-01 8.29574525e-01\n",
      " 5.31589806e-01 6.35974109e-02 5.57415545e-01 7.96999216e-01\n",
      " 3.28113854e-01 8.88251364e-01 6.49207652e-01 9.93606508e-01\n",
      " 4.83212201e-03 3.85789931e-01 3.79523605e-01 4.76627469e-01\n",
      " 8.80188406e-01 2.16419369e-01 9.71492589e-01 9.20974016e-01\n",
      " 2.14525774e-01 9.86929059e-01 3.52939308e-01 8.22710514e-01\n",
      " 5.63980162e-01 9.57047760e-01 7.41874814e-01 4.75107044e-01\n",
      " 8.60878453e-02 6.09829307e-01 5.23735344e-01 1.28036976e-01\n",
      " 5.51936567e-01 1.96355991e-02 6.73206270e-01 1.63726345e-01\n",
      " 3.92348796e-01 1.88710704e-01 1.18586056e-01 1.37733787e-01\n",
      " 8.27963278e-02 9.89038765e-01 9.43319917e-01 8.98615241e-01\n",
      " 7.68923521e-01 2.48815894e-01 7.00928271e-01 2.85342485e-01\n",
      " 5.79046905e-01 9.41413224e-01 8.31631958e-01 9.23539698e-01\n",
      " 4.83587772e-01 5.04961759e-02 3.78254414e-01 8.66786182e-01\n",
      " 1.81251258e-01 1.91542536e-01 5.74655592e-01 2.61123449e-01\n",
      " 2.59121209e-01 2.01146021e-01 6.53837502e-01 8.23423028e-01\n",
      " 9.37940121e-01 9.55549121e-01 4.50034320e-01 3.79427165e-01\n",
      " 7.08069980e-01 7.31463075e-01 6.82413697e-01 4.44629848e-01\n",
      " 5.47309995e-01 5.60757279e-01 8.84998798e-01 6.68929517e-01\n",
      " 5.34885943e-01 6.20462894e-01 9.66782749e-01 7.73669064e-01\n",
      " 9.17004883e-01 9.93265331e-01 6.80323601e-01 2.73631215e-01\n",
      " 5.79820395e-01 8.02794844e-02 6.66666985e-01 2.08367370e-02\n",
      " 6.71126544e-01 3.97963315e-01 9.52627242e-01 9.07598794e-01\n",
      " 4.69933391e-01 7.34461606e-01 4.27469552e-01 2.43276373e-01\n",
      " 2.98426688e-01 1.61098242e-01 7.73398399e-01 6.55351937e-01\n",
      " 8.68433118e-01 6.96852326e-01 1.78655908e-01 9.48827684e-01\n",
      " 9.69365180e-01 9.75749731e-01 5.30350268e-01 1.72907189e-01\n",
      " 5.22339880e-01 3.13736677e-01 9.83513176e-01 3.16912727e-03\n",
      " 8.52588058e-01 9.55567896e-01 9.74080145e-01 3.00502896e-01\n",
      " 9.51652527e-01 7.24247515e-01 8.43129456e-01 3.07404429e-01]\n",
      "[1. 1. 0. 0. 1. 1. 1. 1. 1. 0. 1. 1. 1. 0. 0. 1. 0. 1. 0. 0. 0. 0. 0. 0.\n",
      " 1. 0. 1. 0. 1. 1. 1. 1. 0. 1. 0. 1. 0. 1. 1. 1. 1. 0. 0. 1. 0. 1. 1. 0.\n",
      " 1. 1. 1. 1. 1. 1. 0. 1. 1. 1. 1. 1. 0. 1. 1. 0. 1. 1. 0. 0. 1. 0. 0. 1.\n",
      " 1. 0. 1. 1. 1. 1. 1. 0. 0. 1. 1. 0. 1. 1. 1. 0. 1. 0. 0. 1. 1. 1. 0. 1.\n",
      " 0. 0. 1. 1. 1. 0. 1. 1. 1. 1. 0. 1. 1. 0. 1. 1. 0. 1. 1. 0. 0. 1. 1. 1.\n",
      " 1. 0. 1. 1. 0. 0. 1. 1. 1. 1. 1. 1. 1. 0. 1. 1. 1. 0. 1. 1. 1. 0. 1. 1.\n",
      " 1. 1. 0. 0. 0. 0. 1. 1. 1. 1. 1. 1. 1. 1. 0. 0. 1. 0. 1. 0. 0. 1. 0. 1.\n",
      " 0. 1. 0. 0. 0. 1. 1. 1. 1. 0. 1. 0. 0. 0. 0. 1. 1. 0. 1. 1. 1. 1. 1. 1.\n",
      " 0. 0. 0. 1. 0. 0. 0. 1. 0. 0. 0. 1. 0. 0. 1. 0. 0. 0. 0. 1. 0. 1. 0. 0.\n",
      " 1. 0. 1. 0. 1. 1. 0. 0. 0. 0. 1. 1. 1. 1. 1. 1. 0. 0. 0. 0. 0. 1. 1. 1.\n",
      " 1. 1. 1. 1. 1. 1. 0. 1. 0. 1. 0. 1. 1. 0. 1. 0. 1. 1. 0. 1. 1. 0. 1. 0.\n",
      " 0. 1. 0. 1. 0. 1. 1. 0. 0. 0. 0. 0. 1. 1. 1. 1. 1. 1. 0. 0. 1. 0. 0. 0.\n",
      " 0. 1. 0. 1. 1. 1. 1. 0. 1. 0. 1. 0. 1. 0. 1. 1. 1. 0. 1. 1. 1. 0. 1. 0.\n",
      " 0. 1. 1. 0. 1. 0. 1. 0. 0. 1. 0. 1. 0. 0. 0. 1. 1. 1. 1. 0. 1. 0. 1. 0.\n",
      " 1. 0. 0. 1. 1. 1. 1. 1. 1. 1. 1. 0. 1. 1. 0. 1. 1. 0. 1. 1. 1. 1. 1. 1.\n",
      " 0. 0. 1. 1. 1. 1. 0. 0. 1. 1. 1. 0. 0. 1. 1. 1. 1. 0. 1. 0. 1. 1. 0. 1.\n",
      " 0. 1. 1. 1. 0. 1. 0. 1. 1. 1. 0. 1. 0. 1. 1. 0. 1. 0. 1. 1. 1. 0. 1. 0.\n",
      " 1. 0. 1. 1. 0. 1. 1. 1. 1. 1. 0. 1. 0. 0. 1. 1. 1. 0. 1. 1. 1. 1. 1. 0.\n",
      " 0. 1. 1. 0. 0. 0. 1. 1. 1. 1. 0. 1. 1. 1. 0. 1. 1. 1. 1. 0. 1. 1. 0. 1.\n",
      " 1. 1. 1. 0. 1. 0. 1. 0. 0. 0. 0. 0. 1. 1. 0. 1. 0. 1. 1. 1. 0. 0. 1. 0.\n",
      " 1. 1. 0. 1. 1. 0. 1. 1. 1. 1. 1. 1. 1. 1. 1. 0. 1. 1. 0. 1. 1. 1. 1. 0.\n",
      " 1. 1. 1. 1. 0. 1. 0. 1. 1. 1. 1. 0. 1. 0. 1. 1. 1. 0. 1. 1. 1. 1. 0. 0.\n",
      " 0. 1. 0. 1. 1. 0. 0. 0. 0. 1. 1. 1. 0. 0. 1. 1. 0. 1. 0. 1. 0. 1. 0. 1.\n",
      " 1. 1. 1. 0. 0. 0. 0. 1. 0. 0. 0. 1. 1. 0. 0. 1. 0. 1. 0. 1. 1. 1. 0. 1.\n",
      " 1. 1. 1. 0. 1. 0. 1. 0. 1. 1. 0. 0. 0. 1. 1. 0. 1. 0. 1. 0. 1. 1. 1. 1.\n",
      " 0. 1. 1. 0. 1. 0. 0. 0. 1. 0. 1. 1. 1. 1. 0. 0. 0. 1. 0. 1. 0. 1. 1. 1.\n",
      " 0. 1. 1. 0. 1. 0. 0. 0. 0. 1. 1. 0. 1. 0. 0. 1. 0. 1. 1. 1. 1. 1. 1. 1.\n",
      " 1. 1. 0. 1. 1. 1. 1. 0. 1. 1. 1. 1. 0. 1. 0. 1. 0. 1. 1. 1. 1. 1. 0. 1.\n",
      " 0. 1. 1. 1. 1. 1. 0. 1. 0. 0. 1. 0. 1. 1. 1. 1. 0. 0. 0. 0. 0. 1. 0. 1.\n",
      " 1. 1. 1. 0. 1. 1. 1. 0. 1. 0. 1. 0. 0. 1. 0. 1. 1. 1. 0. 1. 1. 1. 1. 1.\n",
      " 0. 0. 1. 1. 1. 1. 1. 1. 0. 1. 0. 1. 1. 1. 1. 1. 1. 1. 0. 1. 1. 1. 0. 1.\n",
      " 1. 0. 1. 1. 1. 0. 1. 1. 1. 0. 0. 1. 0. 1. 0. 0. 1. 1. 1. 1. 1. 0. 0. 1.\n",
      " 0. 0. 0. 0. 1. 0. 0. 1. 0. 1. 1. 0. 0. 0. 1. 1. 1. 1. 0. 1. 1. 1. 1. 1.\n",
      " 1. 0. 0. 1. 1. 1. 0. 1. 1. 1. 1. 0. 0. 0. 1. 1. 1. 1. 1. 1. 1. 1. 0. 1.\n",
      " 1. 1. 0. 0. 0. 0. 1. 1. 1. 1. 1. 1. 1. 0. 0. 1. 1. 1. 1. 1. 1. 0. 0. 1.\n",
      " 1. 0. 1. 0. 0. 0. 1. 0. 0. 0. 1. 1. 1. 1. 0. 1. 0. 1. 1. 0. 0. 1. 1. 0.\n",
      " 0. 1. 0. 0. 1. 1. 1. 1. 0. 0. 0. 1. 0. 1. 1. 0. 0. 0. 0. 1. 1. 0. 1. 1.\n",
      " 0. 1. 1. 1. 0. 0. 0. 0. 1. 0. 1. 1. 0. 1. 0. 1. 1. 1. 1. 0. 0. 1. 1. 0.\n",
      " 1. 0. 1. 0. 0. 0. 0. 0. 0. 1. 1. 1. 1. 0. 1. 0. 1. 1. 1. 1. 0. 0. 0. 1.\n",
      " 0. 0. 1. 0. 0. 0. 1. 1. 1. 1. 0. 0. 1. 1. 1. 0. 1. 1. 1. 1. 1. 1. 1. 1.\n",
      " 1. 1. 1. 0. 1. 0. 1. 0. 1. 0. 1. 1. 0. 1. 0. 0. 0. 0. 1. 1. 1. 1. 0. 1.\n",
      " 1. 1. 1. 0. 1. 0. 1. 0. 1. 1. 1. 0. 1. 1. 1. 0.] [1 1 1 0.0 0.0 1 1 1 1 1 0.0 1 1 1 0.0 0.0 1 0.0 0.0 0.0 0.0 1 1 0.0 0.0\n",
      " 0.0 0.0 0.0 1 1 1 1 1 1 0.0 0.0 0.0 1 1 1 1 0.0 0.0 0.0 0.0 0.0 1 0.0 0.0\n",
      " 1 1 1 1 1 1 0.0 1 1 1 1 1 1 0.0 0.0 1 1 0.0 0.0 0.0 0.0 1 1 1 1 1 0.0 1 1\n",
      " 1 1 0.0 1 1 1 1 1 1 1 1 0.0 1 0.0 1 0.0 0.0 1 1 0.0 1 1 0.0 0.0 0.0 1 1 1\n",
      " 1 1 1 0.0 1 0.0 1 0.0 1 1 1 1 1 1 0.0 0.0 1 1 1 0.0 1 1 1 1 1 1 1 1 1 1 1\n",
      " 1 1 0.0 0.0 1 1 1 1 0.0 0.0 0.0 0.0 1 1 0.0 1 0.0 1 0.0 0.0 1 0.0 1 1 0.0\n",
      " 1 1 1 0.0 0.0 1 1 1 1 0.0 0.0 1 1 0.0 1 0.0 1 1 0.0 0.0 0.0 0.0 0.0 0.0 1\n",
      " 1 0.0 1 1 1 0.0 1 1 0.0 1 0.0 0.0 1 1 0.0 0.0 1 1 0.0 1 1 0.0 0.0 0.0 0.0\n",
      " 0.0 1 0.0 0.0 0.0 0.0 0.0 0.0 1 1 0.0 0.0 1 1 0.0 1 1 1 1 0.0 0.0 1 0.0 1\n",
      " 0.0 0.0 0.0 1 1 1 1 1 1 1 0.0 1 0.0 1 0.0 0.0 1 0.0 1 1 1 1 0.0 1 1 0.0 1\n",
      " 1 1 1 1 1 1 1 0.0 1 1 0.0 1 1 1 1 1 1 0.0 1 1 0.0 0.0 1 0.0 1 0.0 1 0.0\n",
      " 0.0 1 0.0 1 0.0 0.0 0.0 0.0 1 1 0.0 1 0.0 0.0 0.0 1 0.0 0.0 1 1 0.0 0.0 1\n",
      " 1 0.0 0.0 1 1 0.0 1 1 1 0.0 0.0 1 0.0 1 1 0.0 0.0 1 0.0 0.0 1 0.0 0.0 1\n",
      " 0.0 1 1 0.0 1 1 1 0.0 0.0 0.0 1 1 1 1 1 0.0 0.0 1 0.0 1 1 0.0 0.0 1 0.0 1\n",
      " 1 0.0 0.0 1 0.0 1 0.0 0.0 0.0 1 1 0.0 0.0 0.0 1 1 1 0.0 0.0 0.0 0.0 1 0.0\n",
      " 1 0.0 1 0.0 1 1 1 0.0 0.0 0.0 0.0 1 1 1 0.0 1 1 1 0.0 1 0.0 0.0 0.0 1 1\n",
      " 0.0 0.0 1 1 1 0.0 0.0 0.0 0.0 0.0 0.0 1 1 0.0 1 0.0 1 1 1 0.0 1 0.0 1 1\n",
      " 0.0 1 1 0.0 1 1 0.0 0.0 1 1 1 1 1 1 0.0 0.0 1 0.0 0.0 1 1 1 1 0.0 1 0.0 1\n",
      " 0.0 0.0 0.0 1 1 0.0 1 0.0 1 0.0 1 1 1 1 1 1 0.0 1 1 0.0 1 1 0.0 1 0.0 1 1\n",
      " 1 1 0.0 1 0.0 0.0 0.0 1 0.0 0.0 0.0 1 1 1 0.0 0.0 0.0 1 0.0 0.0 0.0 1 0.0\n",
      " 0.0 1 0.0 1 0.0 0.0 0.0 1 0.0 0.0 1 1 0.0 0.0 0.0 0.0 1 0.0 1 1 0.0 1 1 1\n",
      " 1 1 1 1 1 1 1 0.0 0.0 1 0.0 1 1 0.0 0.0 1 1 1 0.0 0.0 0.0 0.0 1 0.0 0.0\n",
      " 0.0 1 1 1 1 0.0 0.0 1 1 0.0 1 1 0.0 1 1 0.0 1 1 1 1 1 1 0.0 0.0 0.0 0.0\n",
      " 0.0 1 1 1 1 0.0 1 1 1 1 0.0 1 1 0.0 1 0.0 0.0 0.0 0.0 1 0.0 0.0 1 1 1 0.0\n",
      " 0.0 1 0.0 1 1 1 0.0 1 0.0 0.0 0.0 1 1 0.0 1 1 1 0.0 1 0.0 1 1 1 0.0 0.0 1\n",
      " 1 1 1 1 1 1 0.0 1 1 0.0 1 1 1 1 1 0.0 0.0 1 1 1 0.0 1 1 0.0 0.0 1 0.0 0.0\n",
      " 1 0.0 0.0 1 0.0 1 1 1 1 1 0.0 1 0.0 1 1 0.0 1 1 1 1 0.0 1 1 0.0 1 1 0.0 1\n",
      " 1 1 1 0.0 0.0 1 0.0 0.0 1 0.0 1 1 1 0.0 1 1 1 1 0.0 0.0 1 1 1 1 0.0 1 0.0\n",
      " 1 1 1 1 1 0.0 0.0 0.0 1 1 1 1 1 1 0.0 1 0.0 1 0.0 0.0 0.0 1 1 1 1 0.0 0.0\n",
      " 1 1 0.0 0.0 0.0 0.0 1 1 1 0.0 1 1 0.0 1 0.0 0.0 0.0 0.0 0.0 0.0 1 0.0 0.0\n",
      " 1 1 1 0.0 1 0.0 0.0 1 1 1 1 1 1 0.0 1 1 1 1 1 1 0.0 1 1 1 1 0.0 0.0 1 0.0\n",
      " 0.0 0.0 0.0 0.0 1 1 1 0.0 1 1 1 1 1 1 0.0 0.0 0.0 0.0 0.0 0.0 1 0.0 1 0.0\n",
      " 1 1 0.0 1 0.0 0.0 0.0 1 1 0.0 1 0.0 1 0.0 1 1 0.0 1 0.0 0.0 1 0.0 0.0 0.0\n",
      " 1 1 1 1 1 1 1 0.0 0.0 0.0 0.0 1 0.0 1 0.0 0.0 0.0 0.0 1 1 1 1 1 0.0 1 1\n",
      " 0.0 1 1 1 0.0 0.0 1 1 0.0 0.0 1 1 0.0 1 1 1 0.0 0.0 1 1 1 1 1 1 0.0 1 0.0\n",
      " 1 1 1 1 0.0 0.0 0.0 0.0 1 0.0 0.0 1 0.0 0.0 1 0.0 0.0 0.0 1 1 1 1 0.0 1\n",
      " 0.0 0.0 1 1 1 1 1 1 1 1 1 1 1 0.0 1 1 1 1 1 1 0.0 0.0 1 1 1 0.0 0.0 0.0 1\n",
      " 0.0 0.0 0.0 1 1 1 1 1 1 0.0 1 1 1 1 0.0 1 0.0 1 0.0 0.0 1 0.0 1 1 1 1 1\n",
      " 0.0 1 0.0 1 1 0.0 0.0 1 0.0 1 1 1 1 1 0.0 1 0.0]\n",
      "acc :  0.668\n",
      "precision :  0.7039473684210527\n",
      "sensitivity :  0.7379310344827587\n",
      "specificity :  0.5714285714285714\n",
      "MCC :  0.3127572779642389\n"
     ]
    },
    {
     "data": {
      "text/plain": [
       "<keras.models.Sequential at 0x7fa9a0a9b6d8>"
      ]
     },
     "execution_count": 16,
     "metadata": {},
     "output_type": "execute_result"
    }
   ],
   "source": [
    "merge_networks_train_predict()"
   ]
  },
  {
   "cell_type": "code",
   "execution_count": 15,
   "metadata": {
    "collapsed": true
   },
   "outputs": [],
   "source": [
    "def get_cnn_network():    \n",
    "    \n",
    "    print('configure cnn network')\n",
    "    nbfilter = 128\n",
    "\n",
    "    model = Sequential()\n",
    "    model.add(Conv2D(filters = nbfilter, kernel_size=(8, 8), padding='valid', input_shape=(30,30,3),strides=(1,1)))\n",
    "    model.add(Activation('relu'))\n",
    "    model.add(Dropout(0.3))\n",
    "    print(model.output_shape)\n",
    "    model.add(Conv2D(filters = 64, kernel_size = (6, 6),padding='valid',input_shape=(23,23,128)))\n",
    "    model.add(Activation('relu'))\n",
    "    model.add(MaxPooling2D(pool_size=(2,2)))\n",
    "    model.add(Dropout(0.3))\n",
    "    model.add(Conv2D(filters = 32, kernel_size = (4, 4),padding='valid',input_shape=(20,20,64)))\n",
    "    model.add(Activation('relu'))\n",
    "    print(model.output_shape)\n",
    "    model.add(Flatten())\n",
    "        \n",
    "    \n",
    "    return model"
   ]
  },
  {
   "cell_type": "markdown",
   "metadata": {},
   "source": [
    "### ARCHIVES"
   ]
  },
  {
   "cell_type": "markdown",
   "metadata": {},
   "source": [
    "### Récupération rapide des séquences à partir de chr_nb start end"
   ]
  },
  {
   "cell_type": "code",
   "execution_count": null,
   "metadata": {
    "collapsed": true
   },
   "outputs": [],
   "source": [
    "# download genome at ftp://ftp.sanger.ac.uk/pub/gencode/Gencode_human/release_24/GRCh38.primary_assembly.genome.fa.gz\n",
    "\n",
    "parser = SeqIO.parse(open(\"genomes/GRCh38.genome.fa\"),\"fasta\")\n",
    "\n",
    "dict_fasta = dict([(seq.id, seq) for seq in parser])\n",
    "\n",
    "ide, begin, end = ['chr17',8222876,8222895]\n",
    "\n",
    "dict_fasta[ide][begin:end].format(\"fasta\").split('\\n')[1]"
   ]
  },
  {
   "cell_type": "markdown",
   "metadata": {},
   "source": [
    "### A partir de là c'est l'ancienne méthode (à conserver au cas où, archive)"
   ]
  },
  {
   "cell_type": "markdown",
   "metadata": {},
   "source": [
    "#### On  sauvegarde la base de données dans un fichier csv"
   ]
  },
  {
   "cell_type": "code",
   "execution_count": 28,
   "metadata": {
    "collapsed": true
   },
   "outputs": [],
   "source": [
    "browser = webdriver.Chrome()\n",
    "import csv\n",
    "\n",
    "writer = csv.writer(open(\"genomes/database.csv\", 'w',newline=''),delimiter=\"\\t\")\n",
    "for i,el in enumerate(varrbdd):\n",
    "    row = transformer_database2(varrbdd[i])    \n",
    "    writer.writerow(row)"
   ]
  },
  {
   "cell_type": "markdown",
   "metadata": {},
   "source": [
    "On cherche les trous dans les données"
   ]
  },
  {
   "cell_type": "code",
   "execution_count": 7,
   "metadata": {
    "collapsed": true
   },
   "outputs": [],
   "source": [
    "bdd_5000_trouee = pd.read_csv(\"genomes/database.csv\", sep = \"\\t\",header = None)"
   ]
  },
  {
   "cell_type": "code",
   "execution_count": 8,
   "metadata": {},
   "outputs": [
    {
     "data": {
      "text/plain": [
       "4983"
      ]
     },
     "execution_count": 8,
     "metadata": {},
     "output_type": "execute_result"
    }
   ],
   "source": [
    "bdd_5000_trouee = np.array(bdd_5000_trouee)\n",
    "l = []\n",
    "for i,el in enumerate(bdd_5000_trouee):\n",
    "    if type(bdd_5000_trouee[i,0])==float or type(bdd_5000_trouee[i,1])==float:\n",
    "        a=0\n",
    "    elif len(bdd_5000_trouee[i,0])==0 or len(bdd_5000_trouee[i,0])==0:\n",
    "        a=0\n",
    "    else:\n",
    "        l.append(i)\n",
    "l = np.array(l)\n",
    "len(l)"
   ]
  },
  {
   "cell_type": "code",
   "execution_count": 23,
   "metadata": {
    "collapsed": true
   },
   "outputs": [],
   "source": [
    "bdd_miRNA_mRNA = bdd_5000_trouee[l]"
   ]
  },
  {
   "cell_type": "code",
   "execution_count": 26,
   "metadata": {
    "collapsed": true
   },
   "outputs": [],
   "source": [
    "bdd_miRNA_mRNA = nettoyer(bdd_miRNA_mRNA)"
   ]
  },
  {
   "cell_type": "code",
   "execution_count": 29,
   "metadata": {
    "collapsed": true
   },
   "outputs": [],
   "source": [
    "bdd_miRNA_mRNA = traduire_séquences(bdd_miRNA_mRNA)"
   ]
  },
  {
   "cell_type": "code",
   "execution_count": 20,
   "metadata": {
    "collapsed": true
   },
   "outputs": [],
   "source": [
    "bdd_apprentissage = construire_seq_et_structure_bdd(bdd_miRNA_mRNA[:15])"
   ]
  },
  {
   "cell_type": "markdown",
   "metadata": {},
   "source": [
    "#### A partir de mainenant, on essaye d'obtenir les probabilités d'accesibilité de chaque nucléotide sur une séquence quelconque ARN par exemple 'ACGUUGUCACACGAU'"
   ]
  },
  {
   "cell_type": "code",
   "execution_count": 10,
   "metadata": {
    "collapsed": true
   },
   "outputs": [],
   "source": [
    "def traduire_test(seq,strand):\n",
    "    nucleotides = ''\n",
    "    if strand:\n",
    "        string = ''\n",
    "        for i in seq:\n",
    "            string = i + string\n",
    "        seq = string\n",
    "        for lettre in seq:\n",
    "            if lettre=='a':\n",
    "                nucleotides=nucleotides+'u'\n",
    "            elif lettre=='c':\n",
    "                nucleotides=nucleotides+'g'\n",
    "            elif lettre=='g':\n",
    "                nucleotides=nucleotides+'c'\n",
    "            else:\n",
    "                nucleotides=nucleotides+'a'\n",
    "    else:\n",
    "        for lettre in seq:\n",
    "            if lettre=='a':\n",
    "                nucleotides=nucleotides+'a'\n",
    "            elif lettre=='c':\n",
    "                nucleotides=nucleotides+'c'\n",
    "            elif lettre=='g':\n",
    "                nucleotides=nucleotides+'g'\n",
    "            else:\n",
    "                nucleotides=nucleotides+'u'    \n",
    "    return nucleotides"
   ]
  },
  {
   "cell_type": "code",
   "execution_count": 55,
   "metadata": {},
   "outputs": [
    {
     "data": {
      "text/plain": [
       "'cacuacagcaagccuggcacgaccucuaaggcgguucgcggcaacguccgcacgucggcucguuggucuagggguaugauucucgcuucgggugcgagaggucccggguucaaaucccggacgagcccuccuuuaccuuuuacugagacaagagugucuuc'"
      ]
     },
     "execution_count": 55,
     "metadata": {},
     "output_type": "execute_result"
    }
   ],
   "source": [
    "traduire_test('gaagacactcttgtctcagtaaaaggtaaaggagggctcgtccgggatttgaacccgggacctctcgcacccgaagcgagaatcatacccctagaccaacgagccgacgtgcggacgttgccgcgaaccgccttagaggtcgtgccaggcttgctgtagtg',True)"
   ]
  },
  {
   "cell_type": "code",
   "execution_count": null,
   "metadata": {
    "collapsed": true
   },
   "outputs": [],
   "source": [
    "'gaagacactcttgtctcagtaaaaggtaaaggagggctcgtccgggatttgaacccgggacctctcgcacccgaagcgagaatcatacccctagaccaacgagccgacgtgcggacgttgccgcgaaccgccttagaggtcgtgccaggcttgctgtagtg'"
   ]
  },
  {
   "cell_type": "code",
   "execution_count": 12,
   "metadata": {
    "scrolled": true
   },
   "outputs": [
    {
     "name": "stderr",
     "output_type": "stream",
     "text": [
      "/media/DATA/anaconda3/lib/python3.6/site-packages/IPython/core/interactiveshell.py:2717: DtypeWarning: Columns (1,2,4,5) have mixed types. Specify dtype option on import or set low_memory=False.\n",
      "  interactivity=interactivity, compiler=compiler, result=result)\n"
     ]
    }
   ],
   "source": [
    "bdd = pd.read_csv(\"rise_human_transcriptome (copie).csv\", sep = \"\\t\",header=None)"
   ]
  },
  {
   "cell_type": "code",
   "execution_count": 68,
   "metadata": {
    "collapsed": true
   },
   "outputs": [],
   "source": [
    "# bdd convertie panda -> numpy array et seuls les 70 000 premiers RRIs retenus\n",
    "arrbdd = np.array(bdd)[:70000]\n",
    "\n",
    "#enlever 'chr' et formater les numéros de chromosomes\n",
    "for i,el in enumerate(arrbdd[:,0]):\n",
    "    arrbdd[i,0] = arrbdd[i,0][3:]\n",
    "\n",
    "for i,el in enumerate(arrbdd[:,0]):\n",
    "    if arrbdd[i,0] == 'X':\n",
    "        arrbdd[i,0] = '23'\n",
    "    if arrbdd[i,0] == 'Y':\n",
    "        arrbdd[i,0] = '24'\n",
    "    if arrbdd[i,0] == '1':\n",
    "        arrbdd[i,0] = '01'\n",
    "    if arrbdd[i,0] == '2':\n",
    "        arrbdd[i,0] = '02'\n",
    "    if arrbdd[i,0] == '3':\n",
    "        arrbdd[i,0] = '03'\n",
    "    if arrbdd[i,0] == '4':\n",
    "        arrbdd[i,0] = '04'\n",
    "    if arrbdd[i,0] == '5':\n",
    "        arrbdd[i,0] = '05'\n",
    "    if arrbdd[i,0] == '6':\n",
    "        arrbdd[i,0] = '06'\n",
    "    if arrbdd[i,0] == '7':\n",
    "        arrbdd[i,0] = '07'\n",
    "    if arrbdd[i,0] == '8':\n",
    "        arrbdd[i,0] = '08'\n",
    "    if arrbdd[i,0] == '9':\n",
    "        arrbdd[i,0] = '09'\n",
    "\n",
    "for i,el in enumerate(arrbdd[:,3]):\n",
    "    arrbdd[i,3] = arrbdd[i,3][3:]\n",
    "\n",
    "for i,el in enumerate(arrbdd[:,3]):\n",
    "    if arrbdd[i,3] == 'X':\n",
    "        arrbdd[i,3] = '23'\n",
    "    elif arrbdd[i,3] == 'Y':\n",
    "        arrbdd[i,3] = '24'  \n",
    "    elif arrbdd[i,3] == '1':\n",
    "        arrbdd[i,3] = '01'\n",
    "    elif arrbdd[i,3] == '2':\n",
    "        arrbdd[i,3] = '02'\n",
    "    elif arrbdd[i,3] == '3':\n",
    "        arrbdd[i,3] = '03'\n",
    "    elif arrbdd[i,3] == '4':\n",
    "        arrbdd[i,3] = '04'\n",
    "    elif arrbdd[i,3] == '5':\n",
    "        arrbdd[i,3] = '05'\n",
    "    elif arrbdd[i,3] == '6':\n",
    "        arrbdd[i,3] = '06'\n",
    "    elif arrbdd[i,3] == '7':\n",
    "        arrbdd[i,3] = '07'\n",
    "    elif arrbdd[i,3] == '8':\n",
    "        arrbdd[i,3] = '08'\n",
    "    elif arrbdd[i,3] == '9':\n",
    "        arrbdd[i,3] = '09'\n",
    "\n",
    "\n",
    "#enlever les chromosomes M\n",
    "arg_sansM = np.argwhere((arrbdd[:,0] != 'M') & (arrbdd[:,3] != 'M'))\n",
    "varrbdd = arrbdd[arg_sansM[:,0]]\n",
    "\n",
    "#changement strand\n",
    "for i,el in enumerate(varrbdd[:,8]):\n",
    "    if varrbdd[i,8] == '+':\n",
    "        varrbdd[i,8] = 'true'\n",
    "    else:\n",
    "        varrbdd[i,8] = 'false'\n",
    "\n",
    "for i,el in enumerate(varrbdd[:,9]):\n",
    "    if varrbdd[i,9] == '+':\n",
    "        varrbdd[i,9] = 'true'\n",
    "    else:\n",
    "        varrbdd[i,9] = 'false'\n",
    "\n",
    "\n",
    "#int str\n",
    "for i,el in enumerate(varrbdd[:,1]):\n",
    "    if type(el) == int:\n",
    "        varrbdd[i,1] = str(el)\n",
    "for i,el in enumerate(varrbdd[:,2]):\n",
    "    if type(el) == int:\n",
    "        varrbdd[i,2] = str(el)\n",
    "for i,el in enumerate(varrbdd[:,4]):\n",
    "    if type(el) == int:\n",
    "        varrbdd[i,4] = str(el)\n",
    "for i,el in enumerate(varrbdd[:,5]):\n",
    "    if type(el) == int:\n",
    "        varrbdd[i,5] = str(el)\n",
    "\n",
    "#génération position début et fin de séquence (nucléotides)\n",
    "\n",
    "for i,el in enumerate(varrbdd[:,1]):\n",
    "    milieu = int((int(varrbdd[i,1])+int(varrbdd[i,2]))/2)\n",
    "    varrbdd[i,1] = str(milieu-50)\n",
    "    varrbdd[i,2] = str(milieu+50)\n",
    "    milieu = int((int(varrbdd[i,4])+int(varrbdd[i,5]))/2)\n",
    "    varrbdd[i,4] = str(milieu-50)\n",
    "    varrbdd[i,5] = str(milieu+50)\n",
    "\n",
    "# Génération URLs\n",
    "\n",
    "#for i,el in enumerate(varrbdd[:,6]):\n",
    " #   varrbdd[i,6] = \"https://www.ncbi.nlm.nih.gov/nuccore/NC_0000\"+varrbdd[i,0]+\"?report=genbank&from=\"+varrbdd[i,1]+\"&to=\"+varrbdd[i,2]+\"&strand=\"+varrbdd[i,8]+\".html\"\n",
    "#for i,el in enumerate(varrbdd[:,6]):\n",
    " #   varrbdd[i,6] = 'https://www.ncbi.nlm.nih.gov/nuccore/NC_0000'+varrbdd[i,0]+'?report=fasta&log$=seqview&format=text&from='+varrbdd[i,1]+'&to='+varrbdd[i,2]\n",
    "\n",
    "#for i,el in enumerate(varrbdd[:,7]):\n",
    " #   varrbdd[i,7] = \"https://www.ncbi.nlm.nih.gov/nuccore/NC_0000\"+varrbdd[i,3]+\"?report=genbank&from=\"+varrbdd[i,4]+\"&to=\"+varrbdd[i,5]+\"&strand=\"+varrbdd[i,9]+\".html\"\n",
    "#for i,el in enumerate(varrbdd[:,7]):\n",
    " #   varrbdd[i,7] = 'https://www.ncbi.nlm.nih.gov/nuccore/NC_0000'+varrbdd[i,3]+'?report=fasta&log$=seqview&format=text&from='+varrbdd[i,4]+'&to='+varrbdd[i,5]"
   ]
  },
  {
   "cell_type": "code",
   "execution_count": null,
   "metadata": {
    "collapsed": true
   },
   "outputs": [],
   "source": [
    "def recuperer_sequence(url):\n",
    "    browser = webdriver.Chrome()\n",
    "    browser.get(url)\n",
    "    time.sleep(4)\n",
    "    innerHTML = browser.execute_script(\"return document.body.innerHTML\")\n",
    "    browser.quit()\n",
    "    soup = BeautifulSoup(innerHTML,\"lxml\")\n",
    "    seq = soup.find_all(\"span\",{'class':\"ff_line\"})\n",
    "    rep = seq[0].text+seq[1].text+seq[2].text+seq[3].text\n",
    "    rep = ''.join(rep.split())\n",
    "    return rep\n",
    "\n",
    "def recuperer_sequence2(url):\n",
    "    browser.get(url)\n",
    "    time.sleep(1.3)\n",
    "    innerHTML = browser.execute_script(\"return document.body.innerHTML\")\n",
    "    soup = BeautifulSoup(innerHTML,\"lxml\")\n",
    "    seq = soup.find_all(\"div\",{'class':\"seq gbff\"})\n",
    "    rep = seq[0].text   \n",
    "    return rep\n",
    "\n",
    "def transformer_database(bddrow):\n",
    "    sequence=recuperer_sequence(bddrow[6])\n",
    "    sequence=transformer_sequence(sequence,len(sequence))\n",
    "    sequencebis=recuperer_sequence(bddrow[7])\n",
    "    sequencebis=transformer_sequence(sequencebis,len(sequencebis))    \n",
    "    bddrow = np.array([bddrow[18],bddrow[19],bddrow[20],bddrow[21],sequence,bddrow[0],bddrow[1],bddrow[2],bddrow[8],bddrow[10],bddrow[11],bddrow[14],bddrow[16],sequencebis,bddrow[3],bddrow[4],bddrow[5],bddrow[9],bddrow[12],bddrow[13],bddrow[15],bddrow[17]], dtype=object)\n",
    "    return bddrow\n",
    "\n",
    "def transformer_database2(bddrow):\n",
    "    sequence=recuperer_sequence2(bddrow[6])\n",
    "    sequencebis=recuperer_sequence2(bddrow[7])\n",
    "    bddrow = np.array([sequence,sequencebis,bddrow[8],bddrow[9]], dtype=object)\n",
    "    return bddrow\n",
    "\n",
    "def construire_seq_et_structure_bdd(bdd):\n",
    "    for i,el in enumerate(bdd):\n",
    "        bdd[i,2] = np.array(RNA.pfl_fold_up(bdd[i,0],1,201,201))[1:,1]\n",
    "        bdd[i,3] = np.array(RNA.pfl_fold_up(bdd[i,1],1,201,201))[1:,1]\n",
    "        #bdd[i,0] = transformer_sequence(bdd[i,0],201)\n",
    "        #bdd[i,1] = transformer_sequence(bdd[i,1],201)\n",
    "    return bdd\n",
    "\n",
    "def nettoyer(bdd):\n",
    "    for i,el in enumerate(bdd):\n",
    "        bdd[i,0]=bdd[i,0].split('\\n')[1]+bdd[i,0].split('\\n')[2]+bdd[i,0].split('\\n')[3]\n",
    "        bdd[i,1]=bdd[i,1].split('\\n')[1]+bdd[i,1].split('\\n')[2]+bdd[i,1].split('\\n')[3]\n",
    "    return bdd\n",
    "\n",
    "def traduire_séquences(bdd):\n",
    "    for i,el in enumerate(bdd):\n",
    "        bdd[i,0]=traduire(bdd[i,0],bdd[i,2])\n",
    "        bdd[i,1]=traduire(bdd[i,1],bdd[i,3])\n",
    "    return bdd"
   ]
  }
 ],
 "metadata": {
  "kernelspec": {
   "display_name": "Python 3",
   "language": "python",
   "name": "python3"
  },
  "language_info": {
   "codemirror_mode": {
    "name": "ipython",
    "version": 3
   },
   "file_extension": ".py",
   "mimetype": "text/x-python",
   "name": "python",
   "nbconvert_exporter": "python",
   "pygments_lexer": "ipython3",
   "version": "3.6.4"
  }
 },
 "nbformat": 4,
 "nbformat_minor": 2
}
