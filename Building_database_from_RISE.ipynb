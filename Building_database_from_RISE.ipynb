{
 "cells": [
  {
   "cell_type": "markdown",
   "metadata": {},
   "source": [
    "### Bases d'apprentissage construites à partir de RISE : http://rise.life.tsinghua.edu.cn/downloads.html\n",
    "- Human and Mouse Transcriptome-wide studies téléchargées depuis ce site, format .txt à renommer en .csv afin de procéder à la construction des bases de données.\n",
    "- The coordinates in the database denote the interacting regions. We use hg38 (v24) and mm10 (vM9) from Genecode (https://www.gencodegenes.org). You can download the reference genome, then use bedtools getfasta / BioPython SeqIO command to retrieve the interacting regions sequence of the duplexes.  \n",
    "- mouse : ftp://ftp.sanger.ac.uk/pub/gencode/Gencode_mouse/release_M9/GRCm38.primary_assembly.genome.fa.gz\n",
    "- human : ftp://ftp.sanger.ac.uk/pub/gencode/Gencode_human/release_24/GRCh38.primary_assembly.genome.fa.gz"
   ]
  },
  {
   "cell_type": "code",
   "execution_count": 1,
   "metadata": {
    "collapsed": true
   },
   "outputs": [],
   "source": [
    "import numpy as np\n",
    "import pandas as pd\n",
    "import csv\n",
    "from random import shuffle\n",
    "from Bio import SeqIO\n",
    "import RNA"
   ]
  },
  {
   "cell_type": "markdown",
   "metadata": {},
   "source": [
    "Traduction des séquences d'ADN en ARN selon le strand"
   ]
  },
  {
   "cell_type": "code",
   "execution_count": 3,
   "metadata": {
    "collapsed": true
   },
   "outputs": [],
   "source": [
    "def traduire(seq,strand):\n",
    "    nucleotides = ''\n",
    "    if strand:\n",
    "        for lettre in seq:\n",
    "            if lettre=='A':\n",
    "                nucleotides=nucleotides+'a'\n",
    "            elif lettre=='C':\n",
    "                nucleotides=nucleotides+'c'\n",
    "            elif lettre=='G':\n",
    "                nucleotides=nucleotides+'g'\n",
    "            else:\n",
    "                nucleotides=nucleotides+'u'    \n",
    "    else:\n",
    "        string = ''\n",
    "        for i in seq:\n",
    "            string = i + string\n",
    "        seq = string\n",
    "        for lettre in seq:\n",
    "            if lettre=='A':\n",
    "                nucleotides=nucleotides+'u'\n",
    "            elif lettre=='C':\n",
    "                nucleotides=nucleotides+'g'\n",
    "            elif lettre=='G':\n",
    "                nucleotides=nucleotides+'c'\n",
    "            else:\n",
    "                nucleotides=nucleotides+'a'\n",
    "    return nucleotides"
   ]
  },
  {
   "cell_type": "markdown",
   "metadata": {},
   "source": [
    "### Génération des bdd"
   ]
  },
  {
   "cell_type": "code",
   "execution_count": 28,
   "metadata": {
    "collapsed": true
   },
   "outputs": [],
   "source": [
    "# Génome humain : création d'un dictionnaire entre les chromosomes et leurs séquences dans le génome format fasta\n",
    "\n",
    "parser = SeqIO.parse(open(\"genomes/GRCh38.genome.fa\"),\"fasta\")\n",
    "dict_fasta = dict([(seq.id, seq) for seq in parser])"
   ]
  },
  {
   "cell_type": "markdown",
   "metadata": {},
   "source": [
    "### Création base"
   ]
  },
  {
   "cell_type": "code",
   "execution_count": 29,
   "metadata": {},
   "outputs": [
    {
     "name": "stderr",
     "output_type": "stream",
     "text": [
      "/media/DATA/anaconda3/lib/python3.6/site-packages/IPython/core/interactiveshell.py:2717: DtypeWarning: Columns (1,2,4,5) have mixed types. Specify dtype option on import or set low_memory=False.\n",
      "  interactivity=interactivity, compiler=compiler, result=result)\n"
     ]
    },
    {
     "name": "stdout",
     "output_type": "stream",
     "text": [
      "33759\n"
     ]
    },
    {
     "data": {
      "text/plain": [
       "24229"
      ]
     },
     "execution_count": 29,
     "metadata": {},
     "output_type": "execute_result"
    }
   ],
   "source": [
    "bdd = pd.read_csv(\"rise_human_transcriptome.csv\", sep = \"\\t\",header=None)\n",
    "arrbdd = np.array(bdd)\n",
    "\n",
    "# Ne garder que les interactions diverses (pas mRNA-mRNA)\n",
    "arg_m = np.argwhere((arrbdd[:,14]!='protein_coding') | (arrbdd[:,15]!='protein_coding'))[:,0]\n",
    "arg_m = np.array(arg_m)\n",
    "arrbdd = arrbdd[arg_m]\n",
    "\n",
    "#enlever les champs vides\n",
    "arg_propre = np.argwhere((arrbdd[:,1] != '.') & (arrbdd[:,2] != '.') & (arrbdd[:,4] != '.') & (arrbdd[:,5] != '.') & (arrbdd[:,0] != '.') & (arrbdd[:,3] != '.') & (arrbdd[:,8] != '.') & (arrbdd[:,9] != '.'))\n",
    "print(len(arg_propre))\n",
    "varrbdd = arrbdd[arg_propre[:,0]]\n",
    "\n",
    "#changement strand\n",
    "for i,el in enumerate(varrbdd[:,8]):\n",
    "    if varrbdd[i,8] == '+':\n",
    "        varrbdd[i,8] = True\n",
    "    else:\n",
    "        varrbdd[i,8] = False\n",
    "\n",
    "for i,el in enumerate(varrbdd[:,9]):\n",
    "    if varrbdd[i,9] == '+':\n",
    "        varrbdd[i,9] = True\n",
    "    else:\n",
    "        varrbdd[i,9] = False\n",
    "arg_sansM=[]\n",
    "arrbdd=[]\n",
    "bdd=[]\n",
    "\n",
    "for i,el in enumerate(varrbdd[:,1]):\n",
    "        varrbdd[i,1] = int(varrbdd[i,1])\n",
    "        varrbdd[i,2] = int(varrbdd[i,2])\n",
    "\n",
    "varrbdd = varrbdd[np.argwhere(varrbdd[:,2]-varrbdd[:,1] <= 35)]\n",
    "\n",
    "varrbdd = varrbdd[:,0]\n",
    "\n",
    "for i,el in enumerate(varrbdd[:,4]):\n",
    "        varrbdd[i,4] = int(varrbdd[i,4])\n",
    "        varrbdd[i,5] = int(varrbdd[i,5])\n",
    "\n",
    "varrbdd = varrbdd[np.argwhere(varrbdd[:,5]-varrbdd[:,4] <= 35)]\n",
    "\n",
    "varrbdd = varrbdd[:,0]\n",
    "len(varrbdd)"
   ]
  },
  {
   "cell_type": "code",
   "execution_count": 30,
   "metadata": {
    "collapsed": true
   },
   "outputs": [],
   "source": [
    "bdd=varrbdd\n",
    "varrbdd=[]"
   ]
  },
  {
   "cell_type": "markdown",
   "metadata": {},
   "source": [
    "- Sélection de 170 nucléotides autour du site d'interaction donnée par RISE.\n",
    "Seul le milieu sera utilisé pour entraînr le réseau de données mais les séquences de 200 nt serviront à remplir la base de benchmark où l'on cherchera à retrouver le site d'interaction au milieu des deux séquences\n",
    "- Calcul des probabilités d'accessibilité par RNA.pl_fold sur 96 nucléotides\n",
    "- Ecriture sur la base créée"
   ]
  },
  {
   "cell_type": "code",
   "execution_count": 7,
   "metadata": {},
   "outputs": [
    {
     "name": "stdout",
     "output_type": "stream",
     "text": [
      "203 96 96\n",
      "0.0 % de la base est chargé\n",
      "194 96 96\n",
      "192 96 96\n",
      "196 96 96\n",
      "190 96 96\n",
      "4.1272854843369515 % de la base est chargé\n",
      "8.254570968673903 % de la base est chargé\n",
      "12.381856453010855 % de la base est chargé\n",
      "16.509141937347806 % de la base est chargé\n",
      "20.636427421684758 % de la base est chargé\n",
      "24.76371290602171 % de la base est chargé\n",
      "28.890998390358664 % de la base est chargé\n",
      "33.01828387469561 % de la base est chargé\n",
      "37.145569359032564 % de la base est chargé\n",
      "41.272854843369515 % de la base est chargé\n",
      "45.40014032770647 % de la base est chargé\n",
      "49.52742581204342 % de la base est chargé\n",
      "53.65471129638038 % de la base est chargé\n",
      "57.78199678071733 % de la base est chargé\n",
      "61.90928226505428 % de la base est chargé\n",
      "66.03656774939122 % de la base est chargé\n",
      "70.16385323372818 % de la base est chargé\n",
      "74.29113871806513 % de la base est chargé\n",
      "78.41842420240208 % de la base est chargé\n",
      "82.54570968673903 % de la base est chargé\n",
      "86.67299517107598 % de la base est chargé\n",
      "90.80028065541293 % de la base est chargé\n",
      "94.92756613974989 % de la base est chargé\n",
      "99.05485162408684 % de la base est chargé\n"
     ]
    }
   ],
   "source": [
    "writer = csv.writer(open(\"genomes/human_diversprob.csv\", 'w',newline=''),delimiter=\"\\t\")\n",
    "\n",
    "for i in range(len(bdd)):\n",
    "    if i%2==0:        \n",
    "        pos = bdd[i,:6]\n",
    "        ide, begin, end = [bdd[i,0],bdd[i,1],bdd[i,2]]\n",
    "        long1 = end-begin+1    # longueur du site d'interaction\n",
    "        # 170 nt + longueur du site\n",
    "        pos[0] = traduire(dict_fasta[ide][begin-85:end+1+85].format(\"fasta\").split('\\n')[1]+dict_fasta[ide][begin-85:end+1+85].format(\"fasta\").split('\\n')[2]+dict_fasta[ide][begin-85:end+1+85].format(\"fasta\").split('\\n')[3]+dict_fasta[ide][begin-85:end+1+85].format(\"fasta\").split('\\n')[4],bdd[i,8])\n",
    "        w = long1 + 170\n",
    "        # sélection du milieu des probabilités d'accessibilité \n",
    "        pos[2] = np.array(RNA.pfl_fold_up(pos[0][55:151],1,w,w))[1:,1][30:66]\n",
    "        # deuxième séquence de l'interaction : \n",
    "        ide, begin, end = [bdd[i,3],bdd[i,4],bdd[i,5]]\n",
    "        long2 = end-begin+1\n",
    "        pos[1] = traduire(dict_fasta[ide][begin-85:end+1+85].format(\"fasta\").split('\\n')[1]+dict_fasta[ide][begin-85:end+1+85].format(\"fasta\").split('\\n')[2]+dict_fasta[ide][begin-85:end+1+85].format(\"fasta\").split('\\n')[3]+dict_fasta[ide][begin-85:end+1+85].format(\"fasta\").split('\\n')[4],bdd[i,9])\n",
    "        w = long2 + 170\n",
    "        pos[3] = np.array(RNA.pfl_fold_up(pos[1][55:151],1,w,w))[1:,1][30:66]\n",
    "        pos[4] = long1\n",
    "        pos[5] = long2\n",
    "        writer.writerow(pos)     \n",
    "    else:\n",
    "        pos = bdd[i,:6]\n",
    "        ide, begin, end = [bdd[i,3],bdd[i,4],bdd[i,5]]\n",
    "        ide2, begin2, end2 = [bdd[i,0],bdd[i,1],bdd[i,2]]\n",
    "        long1 = end-begin+1    # longueur du site d'interaction\n",
    "        pos[0] = traduire(dict_fasta[ide][begin-85:end+1+85].format(\"fasta\").split('\\n')[1]+dict_fasta[ide][begin-85:end+1+85].format(\"fasta\").split('\\n')[2]+dict_fasta[ide][begin-85:end+1+85].format(\"fasta\").split('\\n')[3]+dict_fasta[ide][begin-85:end+1+85].format(\"fasta\").split('\\n')[4],bdd[i,9])\n",
    "        w = long1 + 170\n",
    "        if i<5:\n",
    "            print(len(pos[0]),len(np.array(RNA.pfl_fold_up(pos[0][55:151],1,w,w))[1:,1]),96)\n",
    "        pos[2] = np.array(RNA.pfl_fold_up(pos[0][55:151],1,w,w))[1:,1][30:66]\n",
    "        # deuxième séquence de l'interaction : \n",
    "        long2 = end2-begin2+1\n",
    "        pos[1] = traduire(dict_fasta[ide2][begin2-85:end2+1+85].format(\"fasta\").split('\\n')[1]+dict_fasta[ide2][begin2-85:end2+1+85].format(\"fasta\").split('\\n')[2]+dict_fasta[ide2][begin2-85:end2+1+85].format(\"fasta\").split('\\n')[3]+dict_fasta[ide2][begin2-85:end2+1+85].format(\"fasta\").split('\\n')[4],bdd[i,8])\n",
    "        w = long2 + 170\n",
    "        pos[3] = np.array(RNA.pfl_fold_up(pos[1][55:151],1,w,w))[1:,1][30:66]\n",
    "        pos[4] = long1\n",
    "        pos[5] = long2\n",
    "        writer.writerow(pos)   \n",
    "    if i%1000==0:\n",
    "        print(i/len(bdd)*100,'% de la base est chargé')"
   ]
  },
  {
   "cell_type": "code",
   "execution_count": 8,
   "metadata": {
    "scrolled": true
   },
   "outputs": [
    {
     "name": "stdout",
     "output_type": "stream",
     "text": [
      "24224\n"
     ]
    }
   ],
   "source": [
    "v=[]\n",
    "v = pd.read_csv(\"genomes/human_diversprob.csv\", sep = \"\\t\",header=None)\n",
    "print(len(v))\n",
    "v=[]"
   ]
  },
  {
   "cell_type": "code",
   "execution_count": 9,
   "metadata": {},
   "outputs": [
    {
     "name": "stderr",
     "output_type": "stream",
     "text": [
      "/media/DATA/anaconda3/lib/python3.6/site-packages/IPython/core/interactiveshell.py:2717: DtypeWarning: Columns (1,2,4,5) have mixed types. Specify dtype option on import or set low_memory=False.\n",
      "  interactivity=interactivity, compiler=compiler, result=result)\n"
     ]
    },
    {
     "name": "stdout",
     "output_type": "stream",
     "text": [
      "33759\n"
     ]
    },
    {
     "data": {
      "text/plain": [
       "24229"
      ]
     },
     "execution_count": 9,
     "metadata": {},
     "output_type": "execute_result"
    }
   ],
   "source": [
    "bdd = pd.read_csv(\"rise_human_transcriptome.csv\", sep = \"\\t\",header=None)\n",
    "arrbdd = np.array(bdd)\n",
    "bdd=[]\n",
    "\n",
    "arg_m = np.argwhere((arrbdd[:,14]!='protein_coding') | (arrbdd[:,15]!='protein_coding'))[:,0]\n",
    "\n",
    "arg_m = np.array(arg_m)\n",
    "arrbdd = arrbdd[arg_m]\n",
    "\n",
    "arg_propre = np.argwhere((arrbdd[:,1] != '.') & (arrbdd[:,2] != '.') & (arrbdd[:,4] != '.') & (arrbdd[:,5] != '.') & (arrbdd[:,0] != '.') & (arrbdd[:,3] != '.') & (arrbdd[:,8] != '.') & (arrbdd[:,9] != '.'))\n",
    "print(len(arg_propre))\n",
    "varrbdd = arrbdd[arg_propre[:,0]]\n",
    "\n",
    "#changement strand\n",
    "for i,el in enumerate(varrbdd[:,8]):\n",
    "    if varrbdd[i,8] == '+':\n",
    "        varrbdd[i,8] = True\n",
    "    else:\n",
    "        varrbdd[i,8] = False\n",
    "\n",
    "for i,el in enumerate(varrbdd[:,9]):\n",
    "    if varrbdd[i,9] == '+':\n",
    "        varrbdd[i,9] = True\n",
    "    else:\n",
    "        varrbdd[i,9] = False\n",
    "\n",
    "arrbdd=[]\n",
    "\n",
    "\n",
    "for i,el in enumerate(varrbdd[:,1]):\n",
    "        varrbdd[i,1] = int(varrbdd[i,1])\n",
    "        varrbdd[i,2] = int(varrbdd[i,2])\n",
    "\n",
    "varrbdd = varrbdd[np.argwhere(varrbdd[:,2]-varrbdd[:,1] <= 35)]\n",
    "\n",
    "varrbdd = varrbdd[:,0]\n",
    "\n",
    "for i,el in enumerate(varrbdd[:,4]):\n",
    "        varrbdd[i,4] = int(varrbdd[i,4])\n",
    "        varrbdd[i,5] = int(varrbdd[i,5])\n",
    "\n",
    "varrbdd = varrbdd[np.argwhere(varrbdd[:,5]-varrbdd[:,4] <= 35)]\n",
    "\n",
    "varrbdd = varrbdd[:,0]\n",
    "len(varrbdd)"
   ]
  },
  {
   "cell_type": "code",
   "execution_count": 10,
   "metadata": {
    "collapsed": true
   },
   "outputs": [],
   "source": [
    "bdd=varrbdd\n",
    "varrbdd=[]"
   ]
  },
  {
   "cell_type": "code",
   "execution_count": 11,
   "metadata": {},
   "outputs": [
    {
     "name": "stdout",
     "output_type": "stream",
     "text": [
      "203 96 96\n",
      "0.0 % de la base est chargé\n",
      "194 96 96\n",
      "192 96 96\n",
      "196 96 96\n",
      "190 96 96\n",
      "4.1272854843369515 % de la base est chargé\n",
      "8.254570968673903 % de la base est chargé\n",
      "12.381856453010855 % de la base est chargé\n",
      "16.509141937347806 % de la base est chargé\n",
      "20.636427421684758 % de la base est chargé\n",
      "24.76371290602171 % de la base est chargé\n",
      "28.890998390358664 % de la base est chargé\n",
      "33.01828387469561 % de la base est chargé\n",
      "37.145569359032564 % de la base est chargé\n",
      "41.272854843369515 % de la base est chargé\n",
      "45.40014032770647 % de la base est chargé\n",
      "49.52742581204342 % de la base est chargé\n",
      "53.65471129638038 % de la base est chargé\n",
      "57.78199678071733 % de la base est chargé\n",
      "61.90928226505428 % de la base est chargé\n",
      "66.03656774939122 % de la base est chargé\n",
      "70.16385323372818 % de la base est chargé\n",
      "74.29113871806513 % de la base est chargé\n",
      "78.41842420240208 % de la base est chargé\n",
      "82.54570968673903 % de la base est chargé\n",
      "86.67299517107598 % de la base est chargé\n",
      "90.80028065541293 % de la base est chargé\n",
      "94.92756613974989 % de la base est chargé\n",
      "99.05485162408684 % de la base est chargé\n"
     ]
    }
   ],
   "source": [
    "writer = csv.writer(open(\"genomes/human_divers_negatifsprob.csv\", 'w',newline=''),delimiter=\"\\t\")\n",
    "\n",
    "for i in range(len(bdd)):\n",
    "    if i%2==0:        \n",
    "        neg = bdd[i,:6]\n",
    "        ide, begin, end = [bdd[i,0],bdd[i,1]-35,bdd[i,2]-35]\n",
    "        long1 = end-begin+1    # longueur du site d'interaction\n",
    "        neg[0] = traduire(dict_fasta[ide][begin-85:end+1+85].format(\"fasta\").split('\\n')[1]+dict_fasta[ide][begin-85:end+1+85].format(\"fasta\").split('\\n')[2]+dict_fasta[ide][begin-85:end+1+85].format(\"fasta\").split('\\n')[3]+dict_fasta[ide][begin-85:end+1+85].format(\"fasta\").split('\\n')[4],bdd[i,8])\n",
    "        w = long1 + 170\n",
    "        if i<5:\n",
    "            print(len(neg[0]),len(np.array(RNA.pfl_fold_up(neg[0][55:151],1,w,w))[1:,1]),96)\n",
    "        neg[2] = np.array(RNA.pfl_fold_up(neg[0][55:151],1,w,w))[1:,1][30:66]\n",
    "        # deuxième séquence de l'interaction : \n",
    "        ide, begin, end = [bdd[i,3],bdd[i,4]+35,bdd[i,5]+35]\n",
    "        long2 = end-begin+1\n",
    "        neg[1] = traduire(dict_fasta[ide][begin-85:end+1+85].format(\"fasta\").split('\\n')[1]+dict_fasta[ide][begin-85:end+1+85].format(\"fasta\").split('\\n')[2]+dict_fasta[ide][begin-85:end+1+85].format(\"fasta\").split('\\n')[3]+dict_fasta[ide][begin-85:end+1+85].format(\"fasta\").split('\\n')[4],bdd[i,9])\n",
    "        w = long2 + 170\n",
    "        neg[3] = np.array(RNA.pfl_fold_up(neg[1][55:151],1,w,w))[1:,1][30:66]\n",
    "        neg[4] = long1\n",
    "        neg[5] = long2\n",
    "        writer.writerow(neg)     \n",
    "    else:\n",
    "        neg = bdd[i,:6]\n",
    "        ide, begin, end = [bdd[i,3],bdd[i,4]-35,bdd[i,5]-35]\n",
    "        ide2, begin2, end2 = [bdd[i,0],bdd[i,1]-35,bdd[i,2]-35]\n",
    "        long1 = end-begin+1    # longueur du site d'interaction\n",
    "        neg[0] = traduire(dict_fasta[ide][begin-85:end+1+85].format(\"fasta\").split('\\n')[1]+dict_fasta[ide][begin-85:end+1+85].format(\"fasta\").split('\\n')[2]+dict_fasta[ide][begin-85:end+1+85].format(\"fasta\").split('\\n')[3]+dict_fasta[ide][begin-85:end+1+85].format(\"fasta\").split('\\n')[4],bdd[i,9])\n",
    "        w = long1 + 170\n",
    "        if i<5:\n",
    "            print(len(neg[0]),len(np.array(RNA.pfl_fold_up(neg[0][55:151],1,w,w))[1:,1]),96)\n",
    "        neg[2] = np.array(RNA.pfl_fold_up(neg[0][55:151],1,w,w))[1:,1][30:66]\n",
    "        # deuxième séquence de l'interaction : \n",
    "        long2 = end2-begin2+1\n",
    "        neg[1] = traduire(dict_fasta[ide2][begin2-85:end2+1+85].format(\"fasta\").split('\\n')[1]+dict_fasta[ide2][begin2-85:end2+1+85].format(\"fasta\").split('\\n')[2]+dict_fasta[ide2][begin2-85:end2+1+85].format(\"fasta\").split('\\n')[3]+dict_fasta[ide2][begin2-85:end2+1+85].format(\"fasta\").split('\\n')[4],bdd[i,8])\n",
    "        w = long2 + 170\n",
    "        neg[3] = np.array(RNA.pfl_fold_up(neg[1][55:151],1,w,w))[1:,1][30:66]\n",
    "        neg[4] = long1\n",
    "        neg[5] = long2\n",
    "        writer.writerow(neg)   \n",
    "    if i%1000==0:\n",
    "        print(i/len(bdd)*100,'% de la base est chargé')"
   ]
  },
  {
   "cell_type": "code",
   "execution_count": 17,
   "metadata": {},
   "outputs": [
    {
     "name": "stdout",
     "output_type": "stream",
     "text": [
      "24229\n"
     ]
    }
   ],
   "source": [
    "v=[]\n",
    "v = pd.read_csv(\"genomes/human_divers_negatifsprob.csv\", sep = \"\\t\",header=None)\n",
    "verif = np.array(v)\n",
    "print(len(v))"
   ]
  },
  {
   "cell_type": "markdown",
   "metadata": {},
   "source": [
    "#### Chargement base de mRNA-mRNA"
   ]
  },
  {
   "cell_type": "code",
   "execution_count": 13,
   "metadata": {},
   "outputs": [
    {
     "name": "stderr",
     "output_type": "stream",
     "text": [
      "/media/DATA/anaconda3/lib/python3.6/site-packages/IPython/core/interactiveshell.py:2717: DtypeWarning: Columns (1,2,4,5) have mixed types. Specify dtype option on import or set low_memory=False.\n",
      "  interactivity=interactivity, compiler=compiler, result=result)\n"
     ]
    },
    {
     "name": "stdout",
     "output_type": "stream",
     "text": [
      "39643\n"
     ]
    },
    {
     "data": {
      "text/plain": [
       "27078"
      ]
     },
     "execution_count": 13,
     "metadata": {},
     "output_type": "execute_result"
    }
   ],
   "source": [
    "bdd = pd.read_csv(\"rise_human_transcriptome.csv\", sep = \"\\t\",header=None)\n",
    "arrbdd = np.array(bdd)\n",
    "bdd=[]\n",
    "\n",
    "arg_m = np.argwhere((arrbdd[:,14]=='protein_coding') & (arrbdd[:,15]=='protein_coding'))[:,0]\n",
    "\n",
    "arg_m = np.array(arg_m)\n",
    "arrbdd = arrbdd[arg_m]\n",
    "\n",
    "arg_propre = np.argwhere((arrbdd[:,1] != '.') & (arrbdd[:,2] != '.') & (arrbdd[:,4] != '.') & (arrbdd[:,5] != '.') & (arrbdd[:,0] != '.') & (arrbdd[:,3] != '.') & (arrbdd[:,8] != '.') & (arrbdd[:,9] != '.'))\n",
    "print(len(arg_propre))\n",
    "varrbdd = arrbdd[arg_propre[:,0]]\n",
    "\n",
    "#changement strand\n",
    "for i,el in enumerate(varrbdd[:,8]):\n",
    "    if varrbdd[i,8] == '+':\n",
    "        varrbdd[i,8] = True\n",
    "    else:\n",
    "        varrbdd[i,8] = False\n",
    "\n",
    "for i,el in enumerate(varrbdd[:,9]):\n",
    "    if varrbdd[i,9] == '+':\n",
    "        varrbdd[i,9] = True\n",
    "    else:\n",
    "        varrbdd[i,9] = False\n",
    "\n",
    "arrbdd=[]\n",
    "\n",
    "\n",
    "for i,el in enumerate(varrbdd[:,1]):\n",
    "        varrbdd[i,1] = int(varrbdd[i,1])\n",
    "        varrbdd[i,2] = int(varrbdd[i,2])\n",
    "\n",
    "varrbdd = varrbdd[np.argwhere(varrbdd[:,2]-varrbdd[:,1] <= 35)]\n",
    "\n",
    "varrbdd = varrbdd[:,0]\n",
    "\n",
    "for i,el in enumerate(varrbdd[:,4]):\n",
    "        varrbdd[i,4] = int(varrbdd[i,4])\n",
    "        varrbdd[i,5] = int(varrbdd[i,5])\n",
    "\n",
    "varrbdd = varrbdd[np.argwhere(varrbdd[:,5]-varrbdd[:,4] <= 35)]\n",
    "\n",
    "varrbdd = varrbdd[:,0]\n",
    "len(varrbdd)"
   ]
  },
  {
   "cell_type": "code",
   "execution_count": 14,
   "metadata": {
    "collapsed": true
   },
   "outputs": [],
   "source": [
    "bdd=varrbdd\n",
    "varrbdd=[]"
   ]
  },
  {
   "cell_type": "code",
   "execution_count": 15,
   "metadata": {},
   "outputs": [
    {
     "name": "stdout",
     "output_type": "stream",
     "text": [
      "205 96 96\n",
      "0.0 % de la base est chargé\n",
      "191 96 96\n",
      "205 96 96\n",
      "199 96 96\n",
      "191 96 96\n",
      "3.6930349361104953 % de la base est chargé\n",
      "7.3860698722209905 % de la base est chargé\n",
      "11.079104808331488 % de la base est chargé\n",
      "14.772139744441981 % de la base est chargé\n",
      "18.46517468055248 % de la base est chargé\n",
      "22.158209616662976 % de la base est chargé\n",
      "25.851244552773466 % de la base est chargé\n",
      "29.544279488883962 % de la base est chargé\n",
      "33.237314424994466 % de la base est chargé\n",
      "36.93034936110496 % de la base est chargé\n",
      "40.62338429721545 % de la base est chargé\n",
      "44.31641923332595 % de la base est chargé\n",
      "48.009454169436445 % de la base est chargé\n",
      "51.70248910554693 % de la base est chargé\n",
      "55.39552404165743 % de la base est chargé\n",
      "59.088558977767924 % de la base est chargé\n",
      "62.78159391387843 % de la base est chargé\n",
      "66.47462884998893 % de la base est chargé\n",
      "70.16766378609942 % de la base est chargé\n",
      "73.86069872220992 % de la base est chargé\n",
      "77.55373365832041 % de la base est chargé\n",
      "81.2467685944309 % de la base est chargé\n",
      "84.9398035305414 % de la base est chargé\n",
      "88.6328384666519 % de la base est chargé\n",
      "92.3258734027624 % de la base est chargé\n",
      "96.01890833887289 % de la base est chargé\n",
      "99.71194327498338 % de la base est chargé\n"
     ]
    }
   ],
   "source": [
    "writer = csv.writer(open(\"genomes/human_mRNA-mRNAprob.csv\", 'w',newline=''),delimiter=\"\\t\")\n",
    "\n",
    "for i in range(len(bdd)):\n",
    "    if i%2==0:        \n",
    "        pos = bdd[i,:6]\n",
    "        ide, begin, end = [bdd[i,0],bdd[i,1],bdd[i,2]]\n",
    "        long1 = end-begin+1    # longueur du site d'interaction\n",
    "        pos[0] = traduire(dict_fasta[ide][begin-85:end+1+85].format(\"fasta\").split('\\n')[1]+dict_fasta[ide][begin-85:end+1+85].format(\"fasta\").split('\\n')[2]+dict_fasta[ide][begin-85:end+1+85].format(\"fasta\").split('\\n')[3]+dict_fasta[ide][begin-85:end+1+85].format(\"fasta\").split('\\n')[4],bdd[i,8])\n",
    "        w = long1 + 170\n",
    "        if i<5:\n",
    "            print(len(pos[0]),len(np.array(RNA.pfl_fold_up(pos[0][55:151],1,w,w))[1:,1]),96)\n",
    "        pos[2] = np.array(RNA.pfl_fold_up(pos[0][55:151],1,w,w))[1:,1][30:66]\n",
    "        # deuxième séquence de l'interaction : \n",
    "        ide, begin, end = [bdd[i,3],bdd[i,4],bdd[i,5]]\n",
    "        long2 = end-begin+1\n",
    "        pos[1] = traduire(dict_fasta[ide][begin-85:end+1+85].format(\"fasta\").split('\\n')[1]+dict_fasta[ide][begin-85:end+1+85].format(\"fasta\").split('\\n')[2]+dict_fasta[ide][begin-85:end+1+85].format(\"fasta\").split('\\n')[3]+dict_fasta[ide][begin-85:end+1+85].format(\"fasta\").split('\\n')[4],bdd[i,9])\n",
    "        w = long2 + 170\n",
    "        pos[3] = np.array(RNA.pfl_fold_up(pos[1][55:151],1,w,w))[1:,1][30:66]\n",
    "        pos[4] = long1\n",
    "        pos[5] = long2\n",
    "        writer.writerow(pos)     \n",
    "    else:\n",
    "        pos = bdd[i,:6]\n",
    "        ide, begin, end = [bdd[i,3],bdd[i,4],bdd[i,5]]\n",
    "        ide2, begin2, end2 = [bdd[i,0],bdd[i,1],bdd[i,2]]\n",
    "        long1 = end-begin+1    # longueur du site d'interaction\n",
    "        pos[0] = traduire(dict_fasta[ide][begin-85:end+1+85].format(\"fasta\").split('\\n')[1]+dict_fasta[ide][begin-85:end+1+85].format(\"fasta\").split('\\n')[2]+dict_fasta[ide][begin-85:end+1+85].format(\"fasta\").split('\\n')[3]+dict_fasta[ide][begin-85:end+1+85].format(\"fasta\").split('\\n')[4],bdd[i,9])\n",
    "        w = long1 + 170\n",
    "        if i<5:\n",
    "            print(len(pos[0]),len(np.array(RNA.pfl_fold_up(pos[0][55:151],1,w,w))[1:,1]),96)\n",
    "        pos[2] = np.array(RNA.pfl_fold_up(pos[0][55:151],1,w,w))[1:,1][30:66]\n",
    "        # deuxième séquence de l'interaction : \n",
    "        long2 = end2-begin2+1\n",
    "        pos[1] = traduire(dict_fasta[ide2][begin2-85:end2+1+85].format(\"fasta\").split('\\n')[1]+dict_fasta[ide2][begin2-85:end2+1+85].format(\"fasta\").split('\\n')[2]+dict_fasta[ide2][begin2-85:end2+1+85].format(\"fasta\").split('\\n')[3]+dict_fasta[ide2][begin2-85:end2+1+85].format(\"fasta\").split('\\n')[4],bdd[i,8])\n",
    "        w = long2 + 170\n",
    "        pos[3] = np.array(RNA.pfl_fold_up(pos[1][55:151],1,w,w))[1:,1][30:66]\n",
    "        pos[4] = long1\n",
    "        pos[5] = long2\n",
    "        writer.writerow(pos)   \n",
    "    if i%1000==0:\n",
    "        print(i/len(bdd)*100,'% de la base est chargé')"
   ]
  },
  {
   "cell_type": "code",
   "execution_count": 35,
   "metadata": {},
   "outputs": [
    {
     "name": "stdout",
     "output_type": "stream",
     "text": [
      "27074\n"
     ]
    }
   ],
   "source": [
    "v=[]\n",
    "v = pd.read_csv(\"genomes/human_mRNA-mRNAprob.csv\", sep = \"\\t\",header=None)\n",
    "verif = np.array(v)\n",
    "print(len(v))"
   ]
  },
  {
   "cell_type": "code",
   "execution_count": 36,
   "metadata": {},
   "outputs": [
    {
     "name": "stderr",
     "output_type": "stream",
     "text": [
      "/media/DATA/anaconda3/lib/python3.6/site-packages/IPython/core/interactiveshell.py:2717: DtypeWarning: Columns (1,2,4,5) have mixed types. Specify dtype option on import or set low_memory=False.\n",
      "  interactivity=interactivity, compiler=compiler, result=result)\n"
     ]
    },
    {
     "name": "stdout",
     "output_type": "stream",
     "text": [
      "39643\n"
     ]
    },
    {
     "data": {
      "text/plain": [
       "27078"
      ]
     },
     "execution_count": 36,
     "metadata": {},
     "output_type": "execute_result"
    }
   ],
   "source": [
    "bdd = pd.read_csv(\"rise_human_transcriptome.csv\", sep = \"\\t\",header=None)\n",
    "arrbdd = np.array(bdd)\n",
    "bdd=[]\n",
    "\n",
    "arg_m = np.argwhere((arrbdd[:,14]=='protein_coding') & (arrbdd[:,15]=='protein_coding'))[:,0]\n",
    "\n",
    "arg_m = np.array(arg_m)\n",
    "arrbdd = arrbdd[arg_m]\n",
    "\n",
    "arg_propre = np.argwhere((arrbdd[:,1] != '.') & (arrbdd[:,2] != '.') & (arrbdd[:,4] != '.') & (arrbdd[:,5] != '.') & (arrbdd[:,0] != '.') & (arrbdd[:,3] != '.') & (arrbdd[:,8] != '.') & (arrbdd[:,9] != '.'))\n",
    "print(len(arg_propre))\n",
    "varrbdd = arrbdd[arg_propre[:,0]]\n",
    "\n",
    "#changement strand\n",
    "for i,el in enumerate(varrbdd[:,8]):\n",
    "    if varrbdd[i,8] == '+':\n",
    "        varrbdd[i,8] = True\n",
    "    else:\n",
    "        varrbdd[i,8] = False\n",
    "\n",
    "for i,el in enumerate(varrbdd[:,9]):\n",
    "    if varrbdd[i,9] == '+':\n",
    "        varrbdd[i,9] = True\n",
    "    else:\n",
    "        varrbdd[i,9] = False\n",
    "\n",
    "arrbdd=[]\n",
    "\n",
    "\n",
    "for i,el in enumerate(varrbdd[:,1]):\n",
    "        varrbdd[i,1] = int(varrbdd[i,1])\n",
    "        varrbdd[i,2] = int(varrbdd[i,2])\n",
    "\n",
    "varrbdd = varrbdd[np.argwhere(varrbdd[:,2]-varrbdd[:,1] <= 35)]\n",
    "\n",
    "varrbdd = varrbdd[:,0]\n",
    "\n",
    "for i,el in enumerate(varrbdd[:,4]):\n",
    "        varrbdd[i,4] = int(varrbdd[i,4])\n",
    "        varrbdd[i,5] = int(varrbdd[i,5])\n",
    "\n",
    "varrbdd = varrbdd[np.argwhere(varrbdd[:,5]-varrbdd[:,4] <= 35)]\n",
    "\n",
    "varrbdd = varrbdd[:,0]\n",
    "len(varrbdd)"
   ]
  },
  {
   "cell_type": "code",
   "execution_count": 37,
   "metadata": {
    "collapsed": true
   },
   "outputs": [],
   "source": [
    "bdd = varrbdd\n",
    "varrbdd = []"
   ]
  },
  {
   "cell_type": "code",
   "execution_count": 38,
   "metadata": {},
   "outputs": [
    {
     "name": "stdout",
     "output_type": "stream",
     "text": [
      "205 96 96\n",
      "0.0 % de la base est chargé\n",
      "191 96 96\n",
      "205 96 96\n",
      "199 96 96\n",
      "191 96 96\n",
      "3.6930349361104953 % de la base est chargé\n",
      "7.3860698722209905 % de la base est chargé\n",
      "11.079104808331488 % de la base est chargé\n",
      "14.772139744441981 % de la base est chargé\n",
      "18.46517468055248 % de la base est chargé\n",
      "22.158209616662976 % de la base est chargé\n",
      "25.851244552773466 % de la base est chargé\n",
      "29.544279488883962 % de la base est chargé\n",
      "33.237314424994466 % de la base est chargé\n",
      "36.93034936110496 % de la base est chargé\n",
      "40.62338429721545 % de la base est chargé\n",
      "44.31641923332595 % de la base est chargé\n",
      "48.009454169436445 % de la base est chargé\n",
      "51.70248910554693 % de la base est chargé\n",
      "55.39552404165743 % de la base est chargé\n",
      "59.088558977767924 % de la base est chargé\n",
      "62.78159391387843 % de la base est chargé\n",
      "66.47462884998893 % de la base est chargé\n",
      "70.16766378609942 % de la base est chargé\n",
      "73.86069872220992 % de la base est chargé\n",
      "77.55373365832041 % de la base est chargé\n",
      "81.2467685944309 % de la base est chargé\n",
      "84.9398035305414 % de la base est chargé\n",
      "88.6328384666519 % de la base est chargé\n",
      "92.3258734027624 % de la base est chargé\n",
      "96.01890833887289 % de la base est chargé\n",
      "99.71194327498338 % de la base est chargé\n"
     ]
    }
   ],
   "source": [
    "writer = csv.writer(open(\"genomes/human_mRNA-mRNA_negatifsprob.csv\", 'w',newline=''),delimiter=\"\\t\")\n",
    "\n",
    "for i in range(len(bdd)):\n",
    "    if i%2==0:        \n",
    "        neg = bdd[i,:6]\n",
    "        ide, begin, end = [bdd[i,0],bdd[i,1]-35,bdd[i,2]-35]\n",
    "        long1 = end-begin+1    # longueur du site d'interaction\n",
    "        neg[0] = traduire(dict_fasta[ide][begin-85:end+1+85].format(\"fasta\").split('\\n')[1]+dict_fasta[ide][begin-85:end+1+85].format(\"fasta\").split('\\n')[2]+dict_fasta[ide][begin-85:end+1+85].format(\"fasta\").split('\\n')[3]+dict_fasta[ide][begin-85:end+1+85].format(\"fasta\").split('\\n')[4],bdd[i,8])\n",
    "        w = long1 + 170\n",
    "        if i<5:\n",
    "            print(len(neg[0]),len(np.array(RNA.pfl_fold_up(neg[0][55:151],1,w,w))[1:,1]),96)\n",
    "        neg[2] = np.array(RNA.pfl_fold_up(neg[0][55:151],1,w,w))[1:,1][30:66]\n",
    "        # deuxième séquence de l'interaction : \n",
    "        ide, begin, end = [bdd[i,3],bdd[i,4]+35,bdd[i,5]+35]\n",
    "        long2 = end-begin+1\n",
    "        neg[1] = traduire(dict_fasta[ide][begin-85:end+1+85].format(\"fasta\").split('\\n')[1]+dict_fasta[ide][begin-85:end+1+85].format(\"fasta\").split('\\n')[2]+dict_fasta[ide][begin-85:end+1+85].format(\"fasta\").split('\\n')[3]+dict_fasta[ide][begin-85:end+1+85].format(\"fasta\").split('\\n')[4],bdd[i,9])\n",
    "        w = long2 + 170\n",
    "        neg[3] = np.array(RNA.pfl_fold_up(neg[1][55:151],1,w,w))[1:,1][30:66]\n",
    "        neg[4] = long1\n",
    "        neg[5] = long2\n",
    "        writer.writerow(neg)     \n",
    "    else:\n",
    "        neg = bdd[i,:6]\n",
    "        ide, begin, end = [bdd[i,3],bdd[i,4]-35,bdd[i,5]-35]\n",
    "        ide2, begin2, end2 = [bdd[i,0],bdd[i,1]-35,bdd[i,2]-35]\n",
    "        long1 = end-begin+1    # longueur du site d'interaction\n",
    "        neg[0] = traduire(dict_fasta[ide][begin-85:end+1+85].format(\"fasta\").split('\\n')[1]+dict_fasta[ide][begin-85:end+1+85].format(\"fasta\").split('\\n')[2]+dict_fasta[ide][begin-85:end+1+85].format(\"fasta\").split('\\n')[3]+dict_fasta[ide][begin-85:end+1+85].format(\"fasta\").split('\\n')[4],bdd[i,9])\n",
    "        w = long1 + 170\n",
    "        if i<5:\n",
    "            print(len(neg[0]),len(np.array(RNA.pfl_fold_up(neg[0][55:151],1,w,w))[1:,1]),96)\n",
    "        neg[2] = np.array(RNA.pfl_fold_up(neg[0][55:151],1,w,w))[1:,1][30:66]\n",
    "        # deuxième séquence de l'interaction : \n",
    "        long2 = end2-begin2+1\n",
    "        neg[1] = traduire(dict_fasta[ide2][begin2-85:end2+1+85].format(\"fasta\").split('\\n')[1]+dict_fasta[ide2][begin2-85:end2+1+85].format(\"fasta\").split('\\n')[2]+dict_fasta[ide2][begin2-85:end2+1+85].format(\"fasta\").split('\\n')[3]+dict_fasta[ide2][begin2-85:end2+1+85].format(\"fasta\").split('\\n')[4],bdd[i,8])\n",
    "        w = long2 + 170\n",
    "        neg[3] = np.array(RNA.pfl_fold_up(neg[1][55:151],1,w,w))[1:,1][30:66]\n",
    "        neg[4] = long1\n",
    "        neg[5] = long2\n",
    "        writer.writerow(neg)   \n",
    "    if i%1000==0:\n",
    "        print(i/len(bdd)*100,'% de la base est chargé')"
   ]
  },
  {
   "cell_type": "code",
   "execution_count": 39,
   "metadata": {},
   "outputs": [
    {
     "name": "stdout",
     "output_type": "stream",
     "text": [
      "27077\n"
     ]
    }
   ],
   "source": [
    "v=[]\n",
    "v = pd.read_csv(\"genomes/human_mRNA-mRNA_negatifsprob.csv\", sep = \"\\t\",header=None)\n",
    "verif = np.array(v)\n",
    "print(len(v))"
   ]
  },
  {
   "cell_type": "markdown",
   "metadata": {},
   "source": [
    "#### Génome de la souris"
   ]
  },
  {
   "cell_type": "code",
   "execution_count": 40,
   "metadata": {
    "collapsed": true
   },
   "outputs": [],
   "source": [
    "# génome de la souris\n",
    "parser = SeqIO.parse(open(\"genomes/GRCm38.fa\"),\"fasta\")\n",
    "dict_fasta = dict([(seq.id, seq) for seq in parser])"
   ]
  },
  {
   "cell_type": "code",
   "execution_count": 41,
   "metadata": {},
   "outputs": [
    {
     "name": "stdout",
     "output_type": "stream",
     "text": [
      "173412\n"
     ]
    },
    {
     "data": {
      "text/plain": [
       "37993"
      ]
     },
     "execution_count": 41,
     "metadata": {},
     "output_type": "execute_result"
    }
   ],
   "source": [
    "bdd = pd.read_csv(\"rise_mouse.csv\", sep = \"\\t\",header=None)\n",
    "arrbdd = np.array(bdd)\n",
    "\n",
    "arg_propre = np.argwhere((arrbdd[:,1] != '.') & (arrbdd[:,2] != '.') & (arrbdd[:,4] != '.') & (arrbdd[:,5] != '.') & (arrbdd[:,0] != '.') & (arrbdd[:,3] != '.') & (arrbdd[:,8] != '.') & (arrbdd[:,9] != '.'))\n",
    "print(len(arg_propre))\n",
    "varrbdd = arrbdd[arg_propre[:,0]]\n",
    "\n",
    "\n",
    "#changement strand\n",
    "for i,el in enumerate(varrbdd[:,8]):\n",
    "    if varrbdd[i,8] == '+':\n",
    "        varrbdd[i,8] = True\n",
    "    else:\n",
    "        varrbdd[i,8] = False\n",
    "\n",
    "for i,el in enumerate(varrbdd[:,9]):\n",
    "    if varrbdd[i,9] == '+':\n",
    "        varrbdd[i,9] = True\n",
    "    else:\n",
    "        varrbdd[i,9] = False\n",
    "arg_sansM=[]\n",
    "arrbdd=[]\n",
    "bdd=[]\n",
    "\n",
    "for i,el in enumerate(varrbdd[:,1]):\n",
    "        varrbdd[i,1] = int(varrbdd[i,1])\n",
    "        varrbdd[i,2] = int(varrbdd[i,2])\n",
    "\n",
    "varrbdd = varrbdd[np.argwhere(varrbdd[:,2]-varrbdd[:,1] <= 35)]\n",
    "\n",
    "varrbdd = varrbdd[:,0]\n",
    "\n",
    "for i,el in enumerate(varrbdd[:,4]):\n",
    "        varrbdd[i,4] = int(varrbdd[i,4])\n",
    "        varrbdd[i,5] = int(varrbdd[i,5])\n",
    "\n",
    "varrbdd = varrbdd[np.argwhere(varrbdd[:,5]-varrbdd[:,4] <= 35)]\n",
    "\n",
    "varrbdd = varrbdd[:,0]\n",
    "len(varrbdd)"
   ]
  },
  {
   "cell_type": "code",
   "execution_count": 42,
   "metadata": {
    "collapsed": true
   },
   "outputs": [],
   "source": [
    "bdd=varrbdd\n",
    "varrbdd=[]"
   ]
  },
  {
   "cell_type": "code",
   "execution_count": 43,
   "metadata": {},
   "outputs": [
    {
     "name": "stdout",
     "output_type": "stream",
     "text": [
      "194 96 96\n",
      "0.0 % de la base est chargé\n",
      "200 96 96\n",
      "189 96 96\n",
      "189 96 96\n",
      "191 96 96\n",
      "2.6320638012265416 % de la base est chargé\n",
      "5.264127602453083 % de la base est chargé\n",
      "7.896191403679626 % de la base est chargé\n",
      "10.528255204906166 % de la base est chargé\n",
      "13.16031900613271 % de la base est chargé\n",
      "15.792382807359251 % de la base est chargé\n",
      "18.424446608585793 % de la base est chargé\n",
      "21.056510409812333 % de la base est chargé\n",
      "23.688574211038876 % de la base est chargé\n",
      "26.32063801226542 % de la base est chargé\n",
      "28.95270181349196 % de la base est chargé\n",
      "31.584765614718503 % de la base est chargé\n",
      "34.21682941594504 % de la base est chargé\n",
      "36.848893217171586 % de la base est chargé\n",
      "39.48095701839813 % de la base est chargé\n",
      "42.113020819624666 % de la base est chargé\n",
      "44.74508462085121 % de la base est chargé\n",
      "47.37714842207775 % de la base est chargé\n",
      "50.00921222330429 % de la base est chargé\n",
      "52.64127602453084 % de la base est chargé\n",
      "55.273339825757375 % de la base est chargé\n",
      "57.90540362698392 % de la base est chargé\n",
      "60.537467428210455 % de la base est chargé\n",
      "63.169531229437005 % de la base est chargé\n",
      "65.80159503066353 % de la base est chargé\n",
      "68.43365883189009 % de la base est chargé\n",
      "71.06572263311662 % de la base est chargé\n",
      "73.69778643434317 % de la base est chargé\n",
      "76.32985023556971 % de la base est chargé\n",
      "78.96191403679626 % de la base est chargé\n",
      "81.5939778380228 % de la base est chargé\n",
      "84.22604163924933 % de la base est chargé\n",
      "86.85810544047587 % de la base est chargé\n",
      "89.49016924170242 % de la base est chargé\n",
      "92.12223304292895 % de la base est chargé\n",
      "94.7542968441555 % de la base est chargé\n",
      "97.38636064538204 % de la base est chargé\n"
     ]
    }
   ],
   "source": [
    "writer = csv.writer(open(\"genomes/mouse_divers_posprob.csv\", 'w',newline=''),delimiter=\"\\t\")\n",
    "\n",
    "for i in range(len(bdd)):\n",
    "    if i%2==0:        \n",
    "        pos = bdd[i,:6]\n",
    "        ide, begin, end = [bdd[i,0],bdd[i,1],bdd[i,2]]\n",
    "        long1 = end-begin+1    # longueur du site d'interaction\n",
    "        pos[0] = traduire(dict_fasta[ide][begin-85:end+1+85].format(\"fasta\").split('\\n')[1]+dict_fasta[ide][begin-85:end+1+85].format(\"fasta\").split('\\n')[2]+dict_fasta[ide][begin-85:end+1+85].format(\"fasta\").split('\\n')[3]+dict_fasta[ide][begin-85:end+1+85].format(\"fasta\").split('\\n')[4],bdd[i,8])\n",
    "        w = long1 + 170\n",
    "        if i<5:\n",
    "            print(len(pos[0]),len(np.array(RNA.pfl_fold_up(pos[0][55:151],1,w,w))[1:,1]),96)\n",
    "        pos[2] = np.array(RNA.pfl_fold_up(pos[0][55:151],1,w,w))[1:,1][30:66]\n",
    "        # deuxième séquence de l'interaction : \n",
    "        ide, begin, end = [bdd[i,3],bdd[i,4],bdd[i,5]]\n",
    "        long2 = end-begin+1\n",
    "        pos[1] = traduire(dict_fasta[ide][begin-85:end+1+85].format(\"fasta\").split('\\n')[1]+dict_fasta[ide][begin-85:end+1+85].format(\"fasta\").split('\\n')[2]+dict_fasta[ide][begin-85:end+1+85].format(\"fasta\").split('\\n')[3]+dict_fasta[ide][begin-85:end+1+85].format(\"fasta\").split('\\n')[4],bdd[i,9])\n",
    "        w = long2 + 170\n",
    "        pos[3] = np.array(RNA.pfl_fold_up(pos[1][55:151],1,w,w))[1:,1][30:66]\n",
    "        pos[4] = long1\n",
    "        pos[5] = long2\n",
    "        writer.writerow(pos)     \n",
    "    else:\n",
    "        pos = bdd[i,:6]\n",
    "        ide, begin, end = [bdd[i,3],bdd[i,4],bdd[i,5]]\n",
    "        ide2, begin2, end2 = [bdd[i,0],bdd[i,1],bdd[i,2]]\n",
    "        long1 = end-begin+1    # longueur du site d'interaction\n",
    "        pos[0] = traduire(dict_fasta[ide][begin-85:end+1+85].format(\"fasta\").split('\\n')[1]+dict_fasta[ide][begin-85:end+1+85].format(\"fasta\").split('\\n')[2]+dict_fasta[ide][begin-85:end+1+85].format(\"fasta\").split('\\n')[3]+dict_fasta[ide][begin-85:end+1+85].format(\"fasta\").split('\\n')[4],bdd[i,9])\n",
    "        w = long1 + 170\n",
    "        if i<5:\n",
    "            print(len(pos[0]),len(np.array(RNA.pfl_fold_up(pos[0][55:151],1,w,w))[1:,1]),96)\n",
    "        pos[2] = np.array(RNA.pfl_fold_up(pos[0][55:151],1,w,w))[1:,1][30:66]\n",
    "        # deuxième séquence de l'interaction : \n",
    "        long2 = end2-begin2+1\n",
    "        pos[1] = traduire(dict_fasta[ide2][begin2-85:end2+1+85].format(\"fasta\").split('\\n')[1]+dict_fasta[ide2][begin2-85:end2+1+85].format(\"fasta\").split('\\n')[2]+dict_fasta[ide2][begin2-85:end2+1+85].format(\"fasta\").split('\\n')[3]+dict_fasta[ide2][begin2-85:end2+1+85].format(\"fasta\").split('\\n')[4],bdd[i,8])\n",
    "        w = long2 + 170\n",
    "        pos[3] = np.array(RNA.pfl_fold_up(pos[1][55:151],1,w,w))[1:,1][30:66]\n",
    "        pos[4] = long1\n",
    "        pos[5] = long2\n",
    "        writer.writerow(pos)   \n",
    "    if i%1000==0:\n",
    "        print(i/len(bdd)*100,'% de la base est chargé')"
   ]
  },
  {
   "cell_type": "code",
   "execution_count": 44,
   "metadata": {},
   "outputs": [
    {
     "name": "stdout",
     "output_type": "stream",
     "text": [
      "37989\n"
     ]
    }
   ],
   "source": [
    "v=[]\n",
    "v = pd.read_csv(\"genomes/mouse_divers_posprob.csv\", sep = \"\\t\",header=None)\n",
    "verif = np.array(v)\n",
    "print(len(v))"
   ]
  },
  {
   "cell_type": "code",
   "execution_count": 45,
   "metadata": {},
   "outputs": [
    {
     "name": "stdout",
     "output_type": "stream",
     "text": [
      "173412\n"
     ]
    },
    {
     "data": {
      "text/plain": [
       "37993"
      ]
     },
     "execution_count": 45,
     "metadata": {},
     "output_type": "execute_result"
    }
   ],
   "source": [
    "bdd = pd.read_csv(\"rise_mouse.csv\", sep = \"\\t\",header=None)\n",
    "arrbdd = np.array(bdd)\n",
    "\n",
    "arg_propre = np.argwhere((arrbdd[:,1] != '.') & (arrbdd[:,2] != '.') & (arrbdd[:,4] != '.') & (arrbdd[:,5] != '.') & (arrbdd[:,0] != '.') & (arrbdd[:,3] != '.') & (arrbdd[:,8] != '.') & (arrbdd[:,9] != '.'))\n",
    "print(len(arg_propre))\n",
    "varrbdd = arrbdd[arg_propre[:,0]]\n",
    "\n",
    "\n",
    "#changement strand\n",
    "for i,el in enumerate(varrbdd[:,8]):\n",
    "    if varrbdd[i,8] == '+':\n",
    "        varrbdd[i,8] = True\n",
    "    else:\n",
    "        varrbdd[i,8] = False\n",
    "\n",
    "for i,el in enumerate(varrbdd[:,9]):\n",
    "    if varrbdd[i,9] == '+':\n",
    "        varrbdd[i,9] = True\n",
    "    else:\n",
    "        varrbdd[i,9] = False\n",
    "arg_sansM=[]\n",
    "arrbdd=[]\n",
    "bdd=[]\n",
    "\n",
    "for i,el in enumerate(varrbdd[:,1]):\n",
    "        varrbdd[i,1] = int(varrbdd[i,1])\n",
    "        varrbdd[i,2] = int(varrbdd[i,2])\n",
    "\n",
    "varrbdd = varrbdd[np.argwhere(varrbdd[:,2]-varrbdd[:,1] <= 35)]\n",
    "\n",
    "varrbdd = varrbdd[:,0]\n",
    "\n",
    "for i,el in enumerate(varrbdd[:,4]):\n",
    "        varrbdd[i,4] = int(varrbdd[i,4])\n",
    "        varrbdd[i,5] = int(varrbdd[i,5])\n",
    "\n",
    "varrbdd = varrbdd[np.argwhere(varrbdd[:,5]-varrbdd[:,4] <= 35)]\n",
    "\n",
    "varrbdd = varrbdd[:,0]\n",
    "len(varrbdd)"
   ]
  },
  {
   "cell_type": "code",
   "execution_count": 46,
   "metadata": {
    "collapsed": true
   },
   "outputs": [],
   "source": [
    "bdd=varrbdd\n",
    "varrbdd=[]"
   ]
  },
  {
   "cell_type": "code",
   "execution_count": 47,
   "metadata": {},
   "outputs": [
    {
     "name": "stdout",
     "output_type": "stream",
     "text": [
      "194 96 96\n",
      "0.0 % de la base est chargé\n",
      "200 96 96\n",
      "189 96 96\n",
      "189 96 96\n",
      "191 96 96\n",
      "2.6320638012265416 % de la base est chargé\n",
      "5.264127602453083 % de la base est chargé\n",
      "7.896191403679626 % de la base est chargé\n",
      "10.528255204906166 % de la base est chargé\n",
      "13.16031900613271 % de la base est chargé\n",
      "15.792382807359251 % de la base est chargé\n",
      "18.424446608585793 % de la base est chargé\n",
      "21.056510409812333 % de la base est chargé\n",
      "23.688574211038876 % de la base est chargé\n",
      "26.32063801226542 % de la base est chargé\n",
      "28.95270181349196 % de la base est chargé\n",
      "31.584765614718503 % de la base est chargé\n",
      "34.21682941594504 % de la base est chargé\n",
      "36.848893217171586 % de la base est chargé\n",
      "39.48095701839813 % de la base est chargé\n",
      "42.113020819624666 % de la base est chargé\n",
      "44.74508462085121 % de la base est chargé\n",
      "47.37714842207775 % de la base est chargé\n",
      "50.00921222330429 % de la base est chargé\n",
      "52.64127602453084 % de la base est chargé\n",
      "55.273339825757375 % de la base est chargé\n",
      "57.90540362698392 % de la base est chargé\n",
      "60.537467428210455 % de la base est chargé\n",
      "63.169531229437005 % de la base est chargé\n",
      "65.80159503066353 % de la base est chargé\n",
      "68.43365883189009 % de la base est chargé\n",
      "71.06572263311662 % de la base est chargé\n",
      "73.69778643434317 % de la base est chargé\n",
      "76.32985023556971 % de la base est chargé\n",
      "78.96191403679626 % de la base est chargé\n",
      "81.5939778380228 % de la base est chargé\n",
      "84.22604163924933 % de la base est chargé\n",
      "86.85810544047587 % de la base est chargé\n",
      "89.49016924170242 % de la base est chargé\n",
      "92.12223304292895 % de la base est chargé\n",
      "94.7542968441555 % de la base est chargé\n",
      "97.38636064538204 % de la base est chargé\n"
     ]
    }
   ],
   "source": [
    "writer = csv.writer(open(\"genomes/mouse_divers_negprob.csv\", 'w',newline=''),delimiter=\"\\t\")\n",
    "\n",
    "for i in range(len(bdd)):\n",
    "    if i%2==0:        \n",
    "        neg = bdd[i,:6]\n",
    "        ide, begin, end = [bdd[i,0],bdd[i,1]-35,bdd[i,2]-35]\n",
    "        long1 = end-begin+1    # longueur du site d'interaction\n",
    "        neg[0] = traduire(dict_fasta[ide][begin-85:end+1+85].format(\"fasta\").split('\\n')[1]+dict_fasta[ide][begin-85:end+1+85].format(\"fasta\").split('\\n')[2]+dict_fasta[ide][begin-85:end+1+85].format(\"fasta\").split('\\n')[3]+dict_fasta[ide][begin-85:end+1+85].format(\"fasta\").split('\\n')[4],bdd[i,8])\n",
    "        w = long1 + 170\n",
    "        if i<5:\n",
    "            print(len(neg[0]),len(np.array(RNA.pfl_fold_up(neg[0][55:151],1,w,w))[1:,1]),96)\n",
    "        neg[2] = np.array(RNA.pfl_fold_up(neg[0][55:151],1,w,w))[1:,1][30:66]\n",
    "        # deuxième séquence de l'interaction : \n",
    "        ide, begin, end = [bdd[i,3],bdd[i,4]+35,bdd[i,5]+35]\n",
    "        long2 = end-begin+1\n",
    "        neg[1] = traduire(dict_fasta[ide][begin-85:end+1+85].format(\"fasta\").split('\\n')[1]+dict_fasta[ide][begin-85:end+1+85].format(\"fasta\").split('\\n')[2]+dict_fasta[ide][begin-85:end+1+85].format(\"fasta\").split('\\n')[3]+dict_fasta[ide][begin-85:end+1+85].format(\"fasta\").split('\\n')[4],bdd[i,9])\n",
    "        w = long2 + 170\n",
    "        neg[3] = np.array(RNA.pfl_fold_up(neg[1][55:151],1,w,w))[1:,1][30:66]\n",
    "        neg[4] = long1\n",
    "        neg[5] = long2\n",
    "        writer.writerow(neg)     \n",
    "    else:\n",
    "        neg = bdd[i,:6]\n",
    "        ide, begin, end = [bdd[i,3],bdd[i,4]-35,bdd[i,5]-35]\n",
    "        ide2, begin2, end2 = [bdd[i,0],bdd[i,1]-35,bdd[i,2]-35]\n",
    "        long1 = end-begin+1    # longueur du site d'interaction\n",
    "        neg[0] = traduire(dict_fasta[ide][begin-85:end+1+85].format(\"fasta\").split('\\n')[1]+dict_fasta[ide][begin-85:end+1+85].format(\"fasta\").split('\\n')[2]+dict_fasta[ide][begin-85:end+1+85].format(\"fasta\").split('\\n')[3]+dict_fasta[ide][begin-85:end+1+85].format(\"fasta\").split('\\n')[4],bdd[i,9])\n",
    "        w = long1 + 170\n",
    "        if i<5:\n",
    "            print(len(neg[0]),len(np.array(RNA.pfl_fold_up(neg[0][55:151],1,w,w))[1:,1]),96)\n",
    "        neg[2] = np.array(RNA.pfl_fold_up(neg[0][55:151],1,w,w))[1:,1][30:66]\n",
    "        # deuxième séquence de l'interaction : \n",
    "        long2 = end2-begin2+1\n",
    "        neg[1] = traduire(dict_fasta[ide2][begin2-85:end2+1+85].format(\"fasta\").split('\\n')[1]+dict_fasta[ide2][begin2-85:end2+1+85].format(\"fasta\").split('\\n')[2]+dict_fasta[ide2][begin2-85:end2+1+85].format(\"fasta\").split('\\n')[3]+dict_fasta[ide2][begin2-85:end2+1+85].format(\"fasta\").split('\\n')[4],bdd[i,8])\n",
    "        w = long2 + 170\n",
    "        neg[3] = np.array(RNA.pfl_fold_up(neg[1][55:151],1,w,w))[1:,1][30:66]\n",
    "        neg[4] = long1\n",
    "        neg[5] = long2\n",
    "        writer.writerow(neg)   \n",
    "    if i%1000==0:\n",
    "        print(i/len(bdd)*100,'% de la base est chargé')"
   ]
  },
  {
   "cell_type": "code",
   "execution_count": 48,
   "metadata": {},
   "outputs": [
    {
     "name": "stdout",
     "output_type": "stream",
     "text": [
      "37990\n"
     ]
    }
   ],
   "source": [
    "v=[]\n",
    "v = pd.read_csv(\"genomes/mouse_divers_negprob.csv\", sep = \"\\t\",header=None)\n",
    "verif = np.array(v)\n",
    "print(len(v))"
   ]
  }
 ],
 "metadata": {
  "kernelspec": {
   "display_name": "Python 3",
   "language": "python",
   "name": "python3"
  },
  "language_info": {
   "codemirror_mode": {
    "name": "ipython",
    "version": 3
   },
   "file_extension": ".py",
   "mimetype": "text/x-python",
   "name": "python",
   "nbconvert_exporter": "python",
   "pygments_lexer": "ipython3",
   "version": "3.6.4"
  }
 },
 "nbformat": 4,
 "nbformat_minor": 2
}
